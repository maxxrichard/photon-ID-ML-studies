{
 "cells": [
  {
   "cell_type": "markdown",
   "metadata": {},
   "source": [
    "# Introduction to photon shower shapes.\n",
    "\n",
    "When photon passes through the ATLAS EM calorimeter it deposites the its via showering. The ATLAS calorimeter is devided into three segments (Layer 1 or strips, Layer 2 or middle, Layer 3 or back), and each one is plitted into cells. **Shower shapes** are built with energy deposits in each cell of the calorimeter and describe the shape of the shower. These shower shapes are used to discriminate a real photon from a fake photon, so-called as a **hadronic background or jets faking photon background**. \n",
    "\n",
    "The idea of this excersise is to investigate properties of photon shower shapes with respect to\n",
    " * its type: unconverted or converted photon\n",
    " * its transverse energy $E_T$\n",
    " * its psudorapidity $|\\eta|$ (region of detector)\n",
    "\n",
    "as well as how different are shower shapes in real and fake photons.\n",
    "\n",
    "We'll do this by using a mixture of ROOT and python with some popular libraries. Let's import them."
   ]
  },
  {
   "cell_type": "code",
   "execution_count": 1,
   "metadata": {},
   "outputs": [
    {
     "name": "stdout",
     "output_type": "stream",
     "text": [
      "Welcome to JupyROOT 6.14/04\n"
     ]
    }
   ],
   "source": [
    "import matplotlib.pyplot as plt\n",
    "%matplotlib notebook\n",
    "\n",
    "import numpy as np\n",
    "import pandas as pd\n",
    "import ROOT\n",
    "import root_numpy as rootnp"
   ]
  },
  {
   "cell_type": "markdown",
   "metadata": {},
   "source": [
    "## Reading samples\n",
    "We'll use two ATLAS MC samples with real photon `PyPt17_inf_mc16ad_v23.root` and with fake photon `Py8_jetjet_mc16ad_v21`. These samples are normalized to the detector conditions that were during 2015-2017 data taking period.\n",
    "\n",
    "As you can produce them from your files with the following command in the terminal:\n",
    " * `hadd PyPt17_inf_mc16ad_v23.root PyPt17_inf_mc16a_v23.root PyPt17_inf_mc16d_v23.root`\n",
    " * `hadd Py8_jetjet_mc16ad_v21.root Py8_jetjet_mc16a_v21.root Py8_jetjet_mc16d_v21.root`\n",
    "\n",
    "Set paths to your samples here:"
   ]
  },
  {
   "cell_type": "code",
   "execution_count": 2,
   "metadata": {},
   "outputs": [],
   "source": [
    "fname_sig = '/home/kivernyk/workspace/photonID/files/v23/PyPt17_inf_mc16ad_v23.root'\n",
    "fname_bkg = '/home/kivernyk/workspace/photonID/files/v21/Py8_jetjet_mc16ad_v21.root'"
   ]
  },
  {
   "cell_type": "markdown",
   "metadata": {},
   "source": [
    "Let's define the variables that we want to extract from these samples. They can be divided into the following groups:\n",
    " * **shower shape** variables describing the shower development in the EM calorimeter\n",
    " * **photon isolation** variables describing an additional activity in a cone $\\Delta R = \\sqrt{\\Delta\\eta^2 + \\Delta\\phi^2}$ around the photons. They are extracted from Inner Detector by measuring momenta $p_T$ of charged particles or from the Calorimeters by measuring energy.\n",
    " * Variables that affect the shower shapes: $|\\eta|$, photon $E_T$, type of the photon, and average number of interactions per bunch crossing $\\mu$.\n",
    " * some useful variables.\n",
    " * total weight of the event."
   ]
  },
  {
   "cell_type": "code",
   "execution_count": 3,
   "metadata": {},
   "outputs": [],
   "source": [
    "list_of_branches_ShowerShapes=['y_Reta',\n",
    "                  'y_Rphi',\n",
    "                  'y_weta1',\n",
    "                  'y_weta2',\n",
    "                  'y_deltae',\n",
    "                  'y_fracs1',\n",
    "                  'y_Eratio',\n",
    "                  'y_wtots1',\n",
    "                  'y_Rhad',\n",
    "                  'y_Rhad1',\n",
    "                  'y_f1',\n",
    "                  'y_e277']\n",
    "\n",
    "list_of_branches_Isolations=['y_ptcone20',\n",
    "                  'y_ptcone40',\n",
    "                  'y_topoetcone20',\n",
    "                  'y_topoetcone40']\n",
    "\n",
    "list_of_branches_for_binning=['y_eta',\n",
    "                        'y_pt',\n",
    "                        'evt_mu',\n",
    "                        'y_convType']\n",
    "\n",
    "list_of_branches_for_selection=['y_isTruthMatchedPhoton', 'acceptEventPtBin','y_IsLoose','y_IsTight']\n",
    "\n",
    "weight_branch=['mcTotWeight']\n",
    "\n",
    "list_of_branches = list_of_branches_ShowerShapes+list_of_branches_Isolations+list_of_branches_for_binning\n",
    "list_of_branches = list_of_branches+list_of_branches_for_selection+weight_branch"
   ]
  },
  {
   "cell_type": "markdown",
   "metadata": {},
   "source": [
    "Reading trees..."
   ]
  },
  {
   "cell_type": "code",
   "execution_count": 4,
   "metadata": {},
   "outputs": [],
   "source": [
    "#selection_sig = 'y_isTruthMatchedPhoton==0 && y_convType==0 && y_weta1>-100 && y_wtots1>-10 && y_pt>25 && abs(y_eta)<0.6 '\n",
    "#selection_bkg = 'y_isTruthMatchedPhoton!=0 && y_convType==0 && y_weta1>-100 && y_wtots1>-10 && y_pt>25 && abs(y_eta)<0.6 '\n",
    "selection_sig = ''\n",
    "selection_bkg = ''\n",
    "\n",
    "file_sig,file_bkg = ROOT.TFile(fname_sig),ROOT.TFile(fname_bkg)\n",
    "tree_sig,tree_bkg = file_sig.Get('SinglePhoton'), file_bkg.Get('SinglePhoton')"
   ]
  },
  {
   "cell_type": "markdown",
   "metadata": {
    "collapsed": true
   },
   "source": [
    "Read all variables and convert into numpy. We have additional array of event weights. This can take some time...\n",
    "To process all events in the samples, remove `stop=2000000`."
   ]
  },
  {
   "cell_type": "code",
   "execution_count": 5,
   "metadata": {},
   "outputs": [
    {
     "name": "stdout",
     "output_type": "stream",
     "text": [
      "200000\n",
      "<type 'numpy.ndarray'>\n"
     ]
    }
   ],
   "source": [
    "data_sig = rootnp.tree2array(tree_sig, branches=list_of_branches, \n",
    "                        selection=selection_sig,\n",
    "                        start=0, stop=200000)\n",
    "data_bkg = rootnp.tree2array(tree_bkg, branches=list_of_branches, \n",
    "                        selection=selection_bkg,\n",
    "                        start=0, stop=200000)\n",
    "\n",
    "weights_sig = rootnp.tree2array(tree_sig, branches=weight_branch, selection=selection_sig, start=0, stop=200000)\n",
    "weights_bkg = rootnp.tree2array(tree_bkg, branches=weight_branch, selection=selection_bkg, start=0, stop=200000)\n",
    "    \n",
    "print len(data_sig)\n",
    "print type(data_bkg)"
   ]
  },
  {
   "cell_type": "markdown",
   "metadata": {},
   "source": [
    "Transform everything into pandas DataFrame and let's check at first 10 events from truth photon sample."
   ]
  },
  {
   "cell_type": "code",
   "execution_count": 6,
   "metadata": {},
   "outputs": [
    {
     "data": {
      "text/html": [
       "<div>\n",
       "<table border=\"1\" class=\"dataframe\">\n",
       "  <thead>\n",
       "    <tr style=\"text-align: right;\">\n",
       "      <th></th>\n",
       "      <th>y_Reta</th>\n",
       "      <th>y_Rphi</th>\n",
       "      <th>y_weta1</th>\n",
       "      <th>y_weta2</th>\n",
       "      <th>y_deltae</th>\n",
       "      <th>y_fracs1</th>\n",
       "      <th>y_Eratio</th>\n",
       "      <th>y_wtots1</th>\n",
       "      <th>y_Rhad</th>\n",
       "      <th>y_Rhad1</th>\n",
       "      <th>...</th>\n",
       "      <th>y_topoetcone40</th>\n",
       "      <th>y_eta</th>\n",
       "      <th>y_pt</th>\n",
       "      <th>evt_mu</th>\n",
       "      <th>y_convType</th>\n",
       "      <th>y_isTruthMatchedPhoton</th>\n",
       "      <th>acceptEventPtBin</th>\n",
       "      <th>y_IsLoose</th>\n",
       "      <th>y_IsTight</th>\n",
       "      <th>mcTotWeight</th>\n",
       "    </tr>\n",
       "  </thead>\n",
       "  <tbody>\n",
       "    <tr>\n",
       "      <th>0</th>\n",
       "      <td>0.821843</td>\n",
       "      <td>0.813986</td>\n",
       "      <td>0.630457</td>\n",
       "      <td>0.011472</td>\n",
       "      <td>217.641266</td>\n",
       "      <td>0.330045</td>\n",
       "      <td>0.784235</td>\n",
       "      <td>7.426593</td>\n",
       "      <td>0.007657</td>\n",
       "      <td>0.003296</td>\n",
       "      <td>...</td>\n",
       "      <td>15.582891</td>\n",
       "      <td>0.658961</td>\n",
       "      <td>33.738548</td>\n",
       "      <td>31.50</td>\n",
       "      <td>3</td>\n",
       "      <td>False</td>\n",
       "      <td>False</td>\n",
       "      <td>False</td>\n",
       "      <td>False</td>\n",
       "      <td>56610.272890</td>\n",
       "    </tr>\n",
       "    <tr>\n",
       "      <th>1</th>\n",
       "      <td>0.704677</td>\n",
       "      <td>0.846410</td>\n",
       "      <td>0.598841</td>\n",
       "      <td>0.010026</td>\n",
       "      <td>98.487991</td>\n",
       "      <td>0.303293</td>\n",
       "      <td>0.855319</td>\n",
       "      <td>2.501361</td>\n",
       "      <td>0.003461</td>\n",
       "      <td>0.001621</td>\n",
       "      <td>...</td>\n",
       "      <td>16.635826</td>\n",
       "      <td>0.270192</td>\n",
       "      <td>22.824528</td>\n",
       "      <td>14.49</td>\n",
       "      <td>0</td>\n",
       "      <td>False</td>\n",
       "      <td>False</td>\n",
       "      <td>False</td>\n",
       "      <td>False</td>\n",
       "      <td>78406.561767</td>\n",
       "    </tr>\n",
       "    <tr>\n",
       "      <th>2</th>\n",
       "      <td>0.972616</td>\n",
       "      <td>0.979436</td>\n",
       "      <td>0.474282</td>\n",
       "      <td>0.009391</td>\n",
       "      <td>34.013012</td>\n",
       "      <td>0.161792</td>\n",
       "      <td>0.873508</td>\n",
       "      <td>2.472467</td>\n",
       "      <td>-0.010997</td>\n",
       "      <td>-0.011572</td>\n",
       "      <td>...</td>\n",
       "      <td>-2.848482</td>\n",
       "      <td>1.275991</td>\n",
       "      <td>25.195410</td>\n",
       "      <td>38.50</td>\n",
       "      <td>2</td>\n",
       "      <td>True</td>\n",
       "      <td>False</td>\n",
       "      <td>True</td>\n",
       "      <td>True</td>\n",
       "      <td>63722.749407</td>\n",
       "    </tr>\n",
       "    <tr>\n",
       "      <th>3</th>\n",
       "      <td>0.746847</td>\n",
       "      <td>0.697899</td>\n",
       "      <td>0.686084</td>\n",
       "      <td>0.011793</td>\n",
       "      <td>284.750580</td>\n",
       "      <td>0.382958</td>\n",
       "      <td>0.578106</td>\n",
       "      <td>3.107083</td>\n",
       "      <td>-0.000139</td>\n",
       "      <td>0.002994</td>\n",
       "      <td>...</td>\n",
       "      <td>9.138401</td>\n",
       "      <td>1.095634</td>\n",
       "      <td>22.298254</td>\n",
       "      <td>19.50</td>\n",
       "      <td>5</td>\n",
       "      <td>False</td>\n",
       "      <td>False</td>\n",
       "      <td>False</td>\n",
       "      <td>False</td>\n",
       "      <td>75501.179855</td>\n",
       "    </tr>\n",
       "    <tr>\n",
       "      <th>4</th>\n",
       "      <td>0.826851</td>\n",
       "      <td>0.948846</td>\n",
       "      <td>0.601397</td>\n",
       "      <td>0.010754</td>\n",
       "      <td>794.440674</td>\n",
       "      <td>0.744160</td>\n",
       "      <td>0.314248</td>\n",
       "      <td>3.275474</td>\n",
       "      <td>-0.009339</td>\n",
       "      <td>-0.008549</td>\n",
       "      <td>...</td>\n",
       "      <td>0.259635</td>\n",
       "      <td>-1.745998</td>\n",
       "      <td>22.084728</td>\n",
       "      <td>27.50</td>\n",
       "      <td>2</td>\n",
       "      <td>False</td>\n",
       "      <td>False</td>\n",
       "      <td>False</td>\n",
       "      <td>False</td>\n",
       "      <td>69758.498501</td>\n",
       "    </tr>\n",
       "    <tr>\n",
       "      <th>5</th>\n",
       "      <td>0.795750</td>\n",
       "      <td>0.944017</td>\n",
       "      <td>0.693636</td>\n",
       "      <td>0.012241</td>\n",
       "      <td>742.658142</td>\n",
       "      <td>0.567198</td>\n",
       "      <td>0.429952</td>\n",
       "      <td>7.587519</td>\n",
       "      <td>0.018451</td>\n",
       "      <td>0.018875</td>\n",
       "      <td>...</td>\n",
       "      <td>9.144439</td>\n",
       "      <td>-0.750298</td>\n",
       "      <td>29.143541</td>\n",
       "      <td>31.50</td>\n",
       "      <td>3</td>\n",
       "      <td>False</td>\n",
       "      <td>False</td>\n",
       "      <td>False</td>\n",
       "      <td>False</td>\n",
       "      <td>53845.255942</td>\n",
       "    </tr>\n",
       "    <tr>\n",
       "      <th>6</th>\n",
       "      <td>0.592320</td>\n",
       "      <td>0.703194</td>\n",
       "      <td>0.589912</td>\n",
       "      <td>0.016517</td>\n",
       "      <td>8741.128906</td>\n",
       "      <td>0.363289</td>\n",
       "      <td>0.137111</td>\n",
       "      <td>3.260976</td>\n",
       "      <td>0.220199</td>\n",
       "      <td>0.046034</td>\n",
       "      <td>...</td>\n",
       "      <td>43.491486</td>\n",
       "      <td>2.023163</td>\n",
       "      <td>59.903477</td>\n",
       "      <td>20.50</td>\n",
       "      <td>3</td>\n",
       "      <td>False</td>\n",
       "      <td>False</td>\n",
       "      <td>False</td>\n",
       "      <td>False</td>\n",
       "      <td>73109.448281</td>\n",
       "    </tr>\n",
       "    <tr>\n",
       "      <th>7</th>\n",
       "      <td>0.832361</td>\n",
       "      <td>0.846718</td>\n",
       "      <td>0.680972</td>\n",
       "      <td>0.012385</td>\n",
       "      <td>354.985229</td>\n",
       "      <td>0.625074</td>\n",
       "      <td>0.367554</td>\n",
       "      <td>3.165051</td>\n",
       "      <td>0.162330</td>\n",
       "      <td>0.158567</td>\n",
       "      <td>...</td>\n",
       "      <td>13.683403</td>\n",
       "      <td>-1.516698</td>\n",
       "      <td>24.108034</td>\n",
       "      <td>20.50</td>\n",
       "      <td>0</td>\n",
       "      <td>False</td>\n",
       "      <td>False</td>\n",
       "      <td>False</td>\n",
       "      <td>False</td>\n",
       "      <td>54313.639821</td>\n",
       "    </tr>\n",
       "    <tr>\n",
       "      <th>8</th>\n",
       "      <td>0.959258</td>\n",
       "      <td>0.984988</td>\n",
       "      <td>0.480172</td>\n",
       "      <td>0.009294</td>\n",
       "      <td>79.097961</td>\n",
       "      <td>0.772093</td>\n",
       "      <td>0.345538</td>\n",
       "      <td>-9998.942383</td>\n",
       "      <td>-0.003726</td>\n",
       "      <td>-0.002308</td>\n",
       "      <td>...</td>\n",
       "      <td>3.350104</td>\n",
       "      <td>0.227066</td>\n",
       "      <td>37.378101</td>\n",
       "      <td>12.50</td>\n",
       "      <td>0</td>\n",
       "      <td>False</td>\n",
       "      <td>True</td>\n",
       "      <td>True</td>\n",
       "      <td>False</td>\n",
       "      <td>52105.711846</td>\n",
       "    </tr>\n",
       "    <tr>\n",
       "      <th>9</th>\n",
       "      <td>0.850788</td>\n",
       "      <td>0.924385</td>\n",
       "      <td>0.626922</td>\n",
       "      <td>0.010569</td>\n",
       "      <td>944.985474</td>\n",
       "      <td>0.384644</td>\n",
       "      <td>0.323050</td>\n",
       "      <td>3.478212</td>\n",
       "      <td>0.016121</td>\n",
       "      <td>0.016604</td>\n",
       "      <td>...</td>\n",
       "      <td>4.778903</td>\n",
       "      <td>-0.800827</td>\n",
       "      <td>46.218826</td>\n",
       "      <td>18.50</td>\n",
       "      <td>0</td>\n",
       "      <td>False</td>\n",
       "      <td>False</td>\n",
       "      <td>False</td>\n",
       "      <td>False</td>\n",
       "      <td>74077.662559</td>\n",
       "    </tr>\n",
       "  </tbody>\n",
       "</table>\n",
       "<p>10 rows × 25 columns</p>\n",
       "</div>"
      ],
      "text/plain": [
       "     y_Reta    y_Rphi   y_weta1   y_weta2     y_deltae  y_fracs1  y_Eratio  \\\n",
       "0  0.821843  0.813986  0.630457  0.011472   217.641266  0.330045  0.784235   \n",
       "1  0.704677  0.846410  0.598841  0.010026    98.487991  0.303293  0.855319   \n",
       "2  0.972616  0.979436  0.474282  0.009391    34.013012  0.161792  0.873508   \n",
       "3  0.746847  0.697899  0.686084  0.011793   284.750580  0.382958  0.578106   \n",
       "4  0.826851  0.948846  0.601397  0.010754   794.440674  0.744160  0.314248   \n",
       "5  0.795750  0.944017  0.693636  0.012241   742.658142  0.567198  0.429952   \n",
       "6  0.592320  0.703194  0.589912  0.016517  8741.128906  0.363289  0.137111   \n",
       "7  0.832361  0.846718  0.680972  0.012385   354.985229  0.625074  0.367554   \n",
       "8  0.959258  0.984988  0.480172  0.009294    79.097961  0.772093  0.345538   \n",
       "9  0.850788  0.924385  0.626922  0.010569   944.985474  0.384644  0.323050   \n",
       "\n",
       "      y_wtots1    y_Rhad   y_Rhad1      ...       y_topoetcone40     y_eta  \\\n",
       "0     7.426593  0.007657  0.003296      ...            15.582891  0.658961   \n",
       "1     2.501361  0.003461  0.001621      ...            16.635826  0.270192   \n",
       "2     2.472467 -0.010997 -0.011572      ...            -2.848482  1.275991   \n",
       "3     3.107083 -0.000139  0.002994      ...             9.138401  1.095634   \n",
       "4     3.275474 -0.009339 -0.008549      ...             0.259635 -1.745998   \n",
       "5     7.587519  0.018451  0.018875      ...             9.144439 -0.750298   \n",
       "6     3.260976  0.220199  0.046034      ...            43.491486  2.023163   \n",
       "7     3.165051  0.162330  0.158567      ...            13.683403 -1.516698   \n",
       "8 -9998.942383 -0.003726 -0.002308      ...             3.350104  0.227066   \n",
       "9     3.478212  0.016121  0.016604      ...             4.778903 -0.800827   \n",
       "\n",
       "        y_pt  evt_mu  y_convType  y_isTruthMatchedPhoton  acceptEventPtBin  \\\n",
       "0  33.738548   31.50           3                   False             False   \n",
       "1  22.824528   14.49           0                   False             False   \n",
       "2  25.195410   38.50           2                    True             False   \n",
       "3  22.298254   19.50           5                   False             False   \n",
       "4  22.084728   27.50           2                   False             False   \n",
       "5  29.143541   31.50           3                   False             False   \n",
       "6  59.903477   20.50           3                   False             False   \n",
       "7  24.108034   20.50           0                   False             False   \n",
       "8  37.378101   12.50           0                   False              True   \n",
       "9  46.218826   18.50           0                   False             False   \n",
       "\n",
       "   y_IsLoose  y_IsTight   mcTotWeight  \n",
       "0      False      False  56610.272890  \n",
       "1      False      False  78406.561767  \n",
       "2       True       True  63722.749407  \n",
       "3      False      False  75501.179855  \n",
       "4      False      False  69758.498501  \n",
       "5      False      False  53845.255942  \n",
       "6      False      False  73109.448281  \n",
       "7      False      False  54313.639821  \n",
       "8       True      False  52105.711846  \n",
       "9      False      False  74077.662559  \n",
       "\n",
       "[10 rows x 25 columns]"
      ]
     },
     "execution_count": 6,
     "metadata": {},
     "output_type": "execute_result"
    }
   ],
   "source": [
    "df_sig = pd.DataFrame(data_sig, columns=list_of_branches)\n",
    "df_sig.head(10)"
   ]
  },
  {
   "cell_type": "markdown",
   "metadata": {},
   "source": [
    "Le'ts define additinional column indicating class: if this is truth photon (class=1) or background (class=0)."
   ]
  },
  {
   "cell_type": "code",
   "execution_count": 7,
   "metadata": {},
   "outputs": [],
   "source": [
    "df_sig['class']=1 # indicator of signal photon sample"
   ]
  },
  {
   "cell_type": "markdown",
   "metadata": {},
   "source": [
    "And let's look again at the shower shapes only."
   ]
  },
  {
   "cell_type": "code",
   "execution_count": 8,
   "metadata": {},
   "outputs": [
    {
     "data": {
      "text/html": [
       "<div>\n",
       "<table border=\"1\" class=\"dataframe\">\n",
       "  <thead>\n",
       "    <tr style=\"text-align: right;\">\n",
       "      <th></th>\n",
       "      <th>y_Reta</th>\n",
       "      <th>y_Rphi</th>\n",
       "      <th>y_weta1</th>\n",
       "      <th>y_weta2</th>\n",
       "      <th>y_deltae</th>\n",
       "      <th>y_fracs1</th>\n",
       "      <th>y_Eratio</th>\n",
       "      <th>y_wtots1</th>\n",
       "      <th>y_Rhad</th>\n",
       "      <th>y_Rhad1</th>\n",
       "      <th>y_f1</th>\n",
       "      <th>y_e277</th>\n",
       "    </tr>\n",
       "  </thead>\n",
       "  <tbody>\n",
       "    <tr>\n",
       "      <th>0</th>\n",
       "      <td>0.821843</td>\n",
       "      <td>0.813986</td>\n",
       "      <td>0.630457</td>\n",
       "      <td>0.011472</td>\n",
       "      <td>217.641266</td>\n",
       "      <td>0.330045</td>\n",
       "      <td>0.784235</td>\n",
       "      <td>7.426593</td>\n",
       "      <td>0.007657</td>\n",
       "      <td>0.003296</td>\n",
       "      <td>0.215349</td>\n",
       "      <td>32122.279297</td>\n",
       "    </tr>\n",
       "    <tr>\n",
       "      <th>1</th>\n",
       "      <td>0.704677</td>\n",
       "      <td>0.846410</td>\n",
       "      <td>0.598841</td>\n",
       "      <td>0.010026</td>\n",
       "      <td>98.487991</td>\n",
       "      <td>0.303293</td>\n",
       "      <td>0.855319</td>\n",
       "      <td>2.501361</td>\n",
       "      <td>0.003461</td>\n",
       "      <td>0.001621</td>\n",
       "      <td>0.463434</td>\n",
       "      <td>16155.771484</td>\n",
       "    </tr>\n",
       "    <tr>\n",
       "      <th>2</th>\n",
       "      <td>0.972616</td>\n",
       "      <td>0.979436</td>\n",
       "      <td>0.474282</td>\n",
       "      <td>0.009391</td>\n",
       "      <td>34.013012</td>\n",
       "      <td>0.161792</td>\n",
       "      <td>0.873508</td>\n",
       "      <td>2.472467</td>\n",
       "      <td>-0.010997</td>\n",
       "      <td>-0.011572</td>\n",
       "      <td>0.085012</td>\n",
       "      <td>14828.956055</td>\n",
       "    </tr>\n",
       "    <tr>\n",
       "      <th>3</th>\n",
       "      <td>0.746847</td>\n",
       "      <td>0.697899</td>\n",
       "      <td>0.686084</td>\n",
       "      <td>0.011793</td>\n",
       "      <td>284.750580</td>\n",
       "      <td>0.382958</td>\n",
       "      <td>0.578106</td>\n",
       "      <td>3.107083</td>\n",
       "      <td>-0.000139</td>\n",
       "      <td>0.002994</td>\n",
       "      <td>0.323544</td>\n",
       "      <td>19397.011719</td>\n",
       "    </tr>\n",
       "    <tr>\n",
       "      <th>4</th>\n",
       "      <td>0.826851</td>\n",
       "      <td>0.948846</td>\n",
       "      <td>0.601397</td>\n",
       "      <td>0.010754</td>\n",
       "      <td>794.440674</td>\n",
       "      <td>0.744160</td>\n",
       "      <td>0.314248</td>\n",
       "      <td>3.275474</td>\n",
       "      <td>-0.009339</td>\n",
       "      <td>-0.008549</td>\n",
       "      <td>0.386233</td>\n",
       "      <td>33697.734375</td>\n",
       "    </tr>\n",
       "    <tr>\n",
       "      <th>5</th>\n",
       "      <td>0.795750</td>\n",
       "      <td>0.944017</td>\n",
       "      <td>0.693636</td>\n",
       "      <td>0.012241</td>\n",
       "      <td>742.658142</td>\n",
       "      <td>0.567198</td>\n",
       "      <td>0.429952</td>\n",
       "      <td>7.587519</td>\n",
       "      <td>0.018451</td>\n",
       "      <td>0.018875</td>\n",
       "      <td>0.330020</td>\n",
       "      <td>23534.435547</td>\n",
       "    </tr>\n",
       "    <tr>\n",
       "      <th>6</th>\n",
       "      <td>0.592320</td>\n",
       "      <td>0.703194</td>\n",
       "      <td>0.589912</td>\n",
       "      <td>0.016517</td>\n",
       "      <td>8741.128906</td>\n",
       "      <td>0.363289</td>\n",
       "      <td>0.137111</td>\n",
       "      <td>3.260976</td>\n",
       "      <td>0.220199</td>\n",
       "      <td>0.046034</td>\n",
       "      <td>0.433359</td>\n",
       "      <td>117991.992188</td>\n",
       "    </tr>\n",
       "    <tr>\n",
       "      <th>7</th>\n",
       "      <td>0.832361</td>\n",
       "      <td>0.846718</td>\n",
       "      <td>0.680972</td>\n",
       "      <td>0.012385</td>\n",
       "      <td>354.985229</td>\n",
       "      <td>0.625074</td>\n",
       "      <td>0.367554</td>\n",
       "      <td>3.165051</td>\n",
       "      <td>0.162330</td>\n",
       "      <td>0.158567</td>\n",
       "      <td>0.373323</td>\n",
       "      <td>25133.003906</td>\n",
       "    </tr>\n",
       "    <tr>\n",
       "      <th>8</th>\n",
       "      <td>0.959258</td>\n",
       "      <td>0.984988</td>\n",
       "      <td>0.480172</td>\n",
       "      <td>0.009294</td>\n",
       "      <td>79.097961</td>\n",
       "      <td>0.772093</td>\n",
       "      <td>0.345538</td>\n",
       "      <td>-9998.942383</td>\n",
       "      <td>-0.003726</td>\n",
       "      <td>-0.002308</td>\n",
       "      <td>0.016563</td>\n",
       "      <td>36264.003906</td>\n",
       "    </tr>\n",
       "    <tr>\n",
       "      <th>9</th>\n",
       "      <td>0.850788</td>\n",
       "      <td>0.924385</td>\n",
       "      <td>0.626922</td>\n",
       "      <td>0.010569</td>\n",
       "      <td>944.985474</td>\n",
       "      <td>0.384644</td>\n",
       "      <td>0.323050</td>\n",
       "      <td>3.478212</td>\n",
       "      <td>0.016121</td>\n",
       "      <td>0.016604</td>\n",
       "      <td>0.208511</td>\n",
       "      <td>44557.988281</td>\n",
       "    </tr>\n",
       "  </tbody>\n",
       "</table>\n",
       "</div>"
      ],
      "text/plain": [
       "     y_Reta    y_Rphi   y_weta1   y_weta2     y_deltae  y_fracs1  y_Eratio  \\\n",
       "0  0.821843  0.813986  0.630457  0.011472   217.641266  0.330045  0.784235   \n",
       "1  0.704677  0.846410  0.598841  0.010026    98.487991  0.303293  0.855319   \n",
       "2  0.972616  0.979436  0.474282  0.009391    34.013012  0.161792  0.873508   \n",
       "3  0.746847  0.697899  0.686084  0.011793   284.750580  0.382958  0.578106   \n",
       "4  0.826851  0.948846  0.601397  0.010754   794.440674  0.744160  0.314248   \n",
       "5  0.795750  0.944017  0.693636  0.012241   742.658142  0.567198  0.429952   \n",
       "6  0.592320  0.703194  0.589912  0.016517  8741.128906  0.363289  0.137111   \n",
       "7  0.832361  0.846718  0.680972  0.012385   354.985229  0.625074  0.367554   \n",
       "8  0.959258  0.984988  0.480172  0.009294    79.097961  0.772093  0.345538   \n",
       "9  0.850788  0.924385  0.626922  0.010569   944.985474  0.384644  0.323050   \n",
       "\n",
       "      y_wtots1    y_Rhad   y_Rhad1      y_f1         y_e277  \n",
       "0     7.426593  0.007657  0.003296  0.215349   32122.279297  \n",
       "1     2.501361  0.003461  0.001621  0.463434   16155.771484  \n",
       "2     2.472467 -0.010997 -0.011572  0.085012   14828.956055  \n",
       "3     3.107083 -0.000139  0.002994  0.323544   19397.011719  \n",
       "4     3.275474 -0.009339 -0.008549  0.386233   33697.734375  \n",
       "5     7.587519  0.018451  0.018875  0.330020   23534.435547  \n",
       "6     3.260976  0.220199  0.046034  0.433359  117991.992188  \n",
       "7     3.165051  0.162330  0.158567  0.373323   25133.003906  \n",
       "8 -9998.942383 -0.003726 -0.002308  0.016563   36264.003906  \n",
       "9     3.478212  0.016121  0.016604  0.208511   44557.988281  "
      ]
     },
     "execution_count": 8,
     "metadata": {},
     "output_type": "execute_result"
    }
   ],
   "source": [
    "df_ShowerShapes = df_sig[list_of_branches_ShowerShapes]\n",
    "df_ShowerShapes.head(10)"
   ]
  },
  {
   "cell_type": "code",
   "execution_count": 9,
   "metadata": {},
   "outputs": [
    {
     "data": {
      "text/html": [
       "<div>\n",
       "<table border=\"1\" class=\"dataframe\">\n",
       "  <thead>\n",
       "    <tr style=\"text-align: right;\">\n",
       "      <th></th>\n",
       "      <th>y_Reta</th>\n",
       "      <th>y_Rphi</th>\n",
       "      <th>y_weta1</th>\n",
       "      <th>y_weta2</th>\n",
       "      <th>y_deltae</th>\n",
       "      <th>y_fracs1</th>\n",
       "      <th>y_Eratio</th>\n",
       "      <th>y_wtots1</th>\n",
       "      <th>y_Rhad</th>\n",
       "      <th>y_Rhad1</th>\n",
       "      <th>y_f1</th>\n",
       "      <th>y_e277</th>\n",
       "    </tr>\n",
       "  </thead>\n",
       "  <tbody>\n",
       "    <tr>\n",
       "      <th>count</th>\n",
       "      <td>200000.000000</td>\n",
       "      <td>200000.000000</td>\n",
       "      <td>200000.000000</td>\n",
       "      <td>200000.000000</td>\n",
       "      <td>200000.000000</td>\n",
       "      <td>200000.000000</td>\n",
       "      <td>200000.000000</td>\n",
       "      <td>200000.000000</td>\n",
       "      <td>200000.000000</td>\n",
       "      <td>200000.000000</td>\n",
       "      <td>200000.000000</td>\n",
       "      <td>200000.000000</td>\n",
       "    </tr>\n",
       "    <tr>\n",
       "      <th>mean</th>\n",
       "      <td>0.935968</td>\n",
       "      <td>0.923717</td>\n",
       "      <td>-0.826981</td>\n",
       "      <td>0.010474</td>\n",
       "      <td>119.609558</td>\n",
       "      <td>0.279950</td>\n",
       "      <td>0.891028</td>\n",
       "      <td>-132.182053</td>\n",
       "      <td>0.015945</td>\n",
       "      <td>0.008948</td>\n",
       "      <td>0.274680</td>\n",
       "      <td>38455.847656</td>\n",
       "    </tr>\n",
       "    <tr>\n",
       "      <th>std</th>\n",
       "      <td>0.070161</td>\n",
       "      <td>0.084613</td>\n",
       "      <td>38.020199</td>\n",
       "      <td>0.001327</td>\n",
       "      <td>440.825104</td>\n",
       "      <td>0.136438</td>\n",
       "      <td>0.181955</td>\n",
       "      <td>1147.117065</td>\n",
       "      <td>0.081747</td>\n",
       "      <td>0.046424</td>\n",
       "      <td>0.107421</td>\n",
       "      <td>28839.517578</td>\n",
       "    </tr>\n",
       "    <tr>\n",
       "      <th>min</th>\n",
       "      <td>-13.941751</td>\n",
       "      <td>-1.560104</td>\n",
       "      <td>-999.183777</td>\n",
       "      <td>-0.004343</td>\n",
       "      <td>-645.639160</td>\n",
       "      <td>-4.041763</td>\n",
       "      <td>-0.004473</td>\n",
       "      <td>-9998.953125</td>\n",
       "      <td>-0.263121</td>\n",
       "      <td>-0.214139</td>\n",
       "      <td>-0.046179</td>\n",
       "      <td>-2743.597168</td>\n",
       "    </tr>\n",
       "    <tr>\n",
       "      <th>25%</th>\n",
       "      <td>0.928365</td>\n",
       "      <td>0.915929</td>\n",
       "      <td>0.582733</td>\n",
       "      <td>0.009586</td>\n",
       "      <td>15.950195</td>\n",
       "      <td>0.196948</td>\n",
       "      <td>0.908790</td>\n",
       "      <td>1.628123</td>\n",
       "      <td>-0.004608</td>\n",
       "      <td>-0.003425</td>\n",
       "      <td>0.206972</td>\n",
       "      <td>19198.015625</td>\n",
       "    </tr>\n",
       "    <tr>\n",
       "      <th>50%</th>\n",
       "      <td>0.947073</td>\n",
       "      <td>0.954947</td>\n",
       "      <td>0.620996</td>\n",
       "      <td>0.010263</td>\n",
       "      <td>35.978697</td>\n",
       "      <td>0.247974</td>\n",
       "      <td>0.951698</td>\n",
       "      <td>2.007270</td>\n",
       "      <td>0.001164</td>\n",
       "      <td>0.000298</td>\n",
       "      <td>0.282312</td>\n",
       "      <td>26745.876953</td>\n",
       "    </tr>\n",
       "    <tr>\n",
       "      <th>75%</th>\n",
       "      <td>0.962742</td>\n",
       "      <td>0.970577</td>\n",
       "      <td>0.662890</td>\n",
       "      <td>0.011161</td>\n",
       "      <td>74.060741</td>\n",
       "      <td>0.329701</td>\n",
       "      <td>0.972817</td>\n",
       "      <td>2.422087</td>\n",
       "      <td>0.012924</td>\n",
       "      <td>0.007681</td>\n",
       "      <td>0.352850</td>\n",
       "      <td>51308.003906</td>\n",
       "    </tr>\n",
       "    <tr>\n",
       "      <th>max</th>\n",
       "      <td>10.669806</td>\n",
       "      <td>5.278281</td>\n",
       "      <td>0.846699</td>\n",
       "      <td>0.020513</td>\n",
       "      <td>20500.507812</td>\n",
       "      <td>10.055568</td>\n",
       "      <td>1.001800</td>\n",
       "      <td>43.927975</td>\n",
       "      <td>3.462698</td>\n",
       "      <td>2.163980</td>\n",
       "      <td>0.779123</td>\n",
       "      <td>815758.000000</td>\n",
       "    </tr>\n",
       "  </tbody>\n",
       "</table>\n",
       "</div>"
      ],
      "text/plain": [
       "              y_Reta         y_Rphi        y_weta1        y_weta2  \\\n",
       "count  200000.000000  200000.000000  200000.000000  200000.000000   \n",
       "mean        0.935968       0.923717      -0.826981       0.010474   \n",
       "std         0.070161       0.084613      38.020199       0.001327   \n",
       "min       -13.941751      -1.560104    -999.183777      -0.004343   \n",
       "25%         0.928365       0.915929       0.582733       0.009586   \n",
       "50%         0.947073       0.954947       0.620996       0.010263   \n",
       "75%         0.962742       0.970577       0.662890       0.011161   \n",
       "max        10.669806       5.278281       0.846699       0.020513   \n",
       "\n",
       "            y_deltae       y_fracs1       y_Eratio       y_wtots1  \\\n",
       "count  200000.000000  200000.000000  200000.000000  200000.000000   \n",
       "mean      119.609558       0.279950       0.891028    -132.182053   \n",
       "std       440.825104       0.136438       0.181955    1147.117065   \n",
       "min      -645.639160      -4.041763      -0.004473   -9998.953125   \n",
       "25%        15.950195       0.196948       0.908790       1.628123   \n",
       "50%        35.978697       0.247974       0.951698       2.007270   \n",
       "75%        74.060741       0.329701       0.972817       2.422087   \n",
       "max     20500.507812      10.055568       1.001800      43.927975   \n",
       "\n",
       "              y_Rhad        y_Rhad1           y_f1         y_e277  \n",
       "count  200000.000000  200000.000000  200000.000000  200000.000000  \n",
       "mean        0.015945       0.008948       0.274680   38455.847656  \n",
       "std         0.081747       0.046424       0.107421   28839.517578  \n",
       "min        -0.263121      -0.214139      -0.046179   -2743.597168  \n",
       "25%        -0.004608      -0.003425       0.206972   19198.015625  \n",
       "50%         0.001164       0.000298       0.282312   26745.876953  \n",
       "75%         0.012924       0.007681       0.352850   51308.003906  \n",
       "max         3.462698       2.163980       0.779123  815758.000000  "
      ]
     },
     "execution_count": 9,
     "metadata": {},
     "output_type": "execute_result"
    }
   ],
   "source": [
    "df_ShowerShapes.describe(include='all')"
   ]
  },
  {
   "cell_type": "markdown",
   "metadata": {},
   "source": [
    "Let's merge signal and backgound at one data frame. We will use them."
   ]
  },
  {
   "cell_type": "code",
   "execution_count": 10,
   "metadata": {},
   "outputs": [],
   "source": [
    "df_bkg = pd.DataFrame(data_bkg, columns=list_of_branches)\n",
    "df_bkg['class']=0 # indicator of signal photon sample\n",
    "df = df_sig.append(df_bkg, ignore_index=True)"
   ]
  },
  {
   "cell_type": "markdown",
   "metadata": {},
   "source": [
    "## Plotting distributions\n",
    "Here we'll see how plot distributions in ROOT. "
   ]
  },
  {
   "cell_type": "code",
   "execution_count": 11,
   "metadata": {},
   "outputs": [],
   "source": [
    "c = ROOT.TCanvas(\"myCanvasName\",\"The Canvas Title\",800,600)\n",
    "ROOT.gStyle.SetOptStat(0)\n",
    "from ROOT import SetOwnership "
   ]
  },
  {
   "cell_type": "markdown",
   "metadata": {},
   "source": [
    "Let's define a function `PlotRootHists` that draws a small list of ROOT histograms. The option `UnitScale` indicates if we want to scale the histograms to have an integral under the distribution to be 1."
   ]
  },
  {
   "cell_type": "code",
   "execution_count": 83,
   "metadata": {
    "collapsed": true
   },
   "outputs": [],
   "source": [
    "def PlotRootHists(HistsList, LegendList, UnitScale):\n",
    "    \n",
    "    MyColors = [ROOT.kBlue, ROOT.kRed-8, ROOT.kBlack,ROOT.kMagenta]\n",
    "    leg = ROOT.TLegend(.23,.32,.57,.53)\n",
    "    SetOwnership( leg, 0 )\n",
    "    \n",
    "    leg.SetBorderSize(0);  leg.SetTextFont(42);\n",
    "    leg.SetTextSize(0.03);  leg.SetFillColor(0);  leg.SetFillStyle(3001); leg.SetLineColor(0);\n",
    "    \n",
    "    for index,hist in enumerate(HistsList):\n",
    "        hist.SetLineColor(MyColors[index])\n",
    "        hist.SetLineWidth(2)\n",
    "        if(LegendList):\n",
    "            leg.AddEntry(hist,LegendList[index],\"L\")\n",
    "    \n",
    "        if(UnitScale):\n",
    "            hist.Scale(1./hist.Integral())\n",
    "    \n",
    "        if(index==0):\n",
    "            hist.Draw('hist')\n",
    "        else:\n",
    "            hist.Draw('hist same')\n",
    "    \n",
    "    leg.Draw()\n",
    "    c.Draw()"
   ]
  },
  {
   "cell_type": "markdown",
   "metadata": {},
   "source": [
    "So lt's try this function. We want to plot the distributions of `Reta` shower shape for signal and background. First, we create these two histograms. Second, we fill them. Here we plot them with `UnitScale=False`."
   ]
  },
  {
   "cell_type": "code",
   "execution_count": 13,
   "metadata": {},
   "outputs": [
    {
     "data": {
      "text/html": [
       "\n",
       "<div id=\"root_plot_1\"\n",
       "     style=\"width: 796px; height: 572px\">\n",
       "</div>\n",
       "\n",
       "<script>\n",
       " requirejs.config({\n",
       "     paths: {\n",
       "       'JSRootCore' : 'https://root.cern.ch/js/notebook//scripts/JSRootCore',\n",
       "     }\n",
       "   });\n",
       " require(['JSRootCore'],\n",
       "     function(Core) {\n",
       "       var obj = Core.JSONR_unref({\"_typename\":\"TCanvas\",\"fUniqueID\":0,\"fBits\":53673992,\"fLineColor\":1,\"fLineStyle\":1,\"fLineWidth\":1,\"fFillColor\":0,\"fFillStyle\":1001,\"fLeftMargin\":0.1,\"fRightMargin\":0.1,\"fBottomMargin\":0.1,\"fTopMargin\":0.1,\"fXfile\":2,\"fYfile\":2,\"fAfile\":1,\"fXstat\":0.99,\"fYstat\":0.99,\"fAstat\":2,\"fFrameFillColor\":0,\"fFrameLineColor\":1,\"fFrameFillStyle\":1001,\"fFrameLineStyle\":1,\"fFrameLineWidth\":1,\"fFrameBorderSize\":1,\"fFrameBorderMode\":0,\"fX1\":0.199999992549419,\"fY1\":-3428.11900541477,\"fX2\":1.20000000745058,\"fY2\":30853.0690054148,\"fXtoAbsPixelk\":-159.199941697073,\"fXtoPixelk\":-159.199941697073,\"fXtoPixel\":795.999988138675,\"fYtoAbsPixelk\":514.800046590614,\"fYtoPixelk\":514.800046590614,\"fYtoPixel\":-0.0166855360969201,\"fUtoAbsPixelk\":5e-5,\"fUtoPixelk\":5e-5,\"fUtoPixel\":796,\"fVtoAbsPixelk\":572.00005,\"fVtoPixelk\":572,\"fVtoPixel\":-572,\"fAbsPixeltoXk\":0.199999992549419,\"fPixeltoXk\":0.199999992549419,\"fPixeltoX\":0.00125628142575523,\"fAbsPixeltoYk\":30853.0690054148,\"fPixeltoYk\":-3428.11900541477,\"fPixeltoY\":-59.9321468720796,\"fXlowNDC\":0,\"fYlowNDC\":0,\"fXUpNDC\":0,\"fYUpNDC\":0,\"fWNDC\":1,\"fHNDC\":1,\"fAbsXlowNDC\":0,\"fAbsYlowNDC\":0,\"fAbsWNDC\":1,\"fAbsHNDC\":1,\"fUxmin\":0.3,\"fUymin\":0,\"fUxmax\":1.1,\"fUymax\":27424.95,\"fTheta\":30,\"fPhi\":30,\"fAspectRatio\":0,\"fNumber\":0,\"fTickx\":0,\"fTicky\":0,\"fLogx\":0,\"fLogy\":0,\"fLogz\":0,\"fPadPaint\":0,\"fCrosshair\":0,\"fCrosshairPos\":0,\"fBorderSize\":2,\"fBorderMode\":0,\"fModified\":false,\"fGridx\":false,\"fGridy\":false,\"fAbsCoord\":false,\"fEditable\":true,\"fFixedAspectRatio\":false,\"fPrimitives\":{\"_typename\":\"TList\",\"name\":\"TList\",\"arr\":[{\"_typename\":\"TFrame\",\"fUniqueID\":0,\"fBits\":50331656,\"fLineColor\":1,\"fLineStyle\":1,\"fLineWidth\":1,\"fFillColor\":0,\"fFillStyle\":1001,\"fX1\":0.3,\"fY1\":0,\"fX2\":1.1,\"fY2\":27424.95,\"fBorderSize\":1,\"fBorderMode\":0},{\"_typename\":\"TH1D\",\"fUniqueID\":0,\"fBits\":50332168,\"fName\":\"hReta_sig\",\"fTitle\":\"Reta\",\"fLineColor\":600,\"fLineStyle\":1,\"fLineWidth\":2,\"fFillColor\":0,\"fFillStyle\":1001,\"fMarkerColor\":1,\"fMarkerStyle\":1,\"fMarkerSize\":1,\"fNcells\":102,\"fXaxis\":{\"_typename\":\"TAxis\",\"fUniqueID\":0,\"fBits\":50331656,\"fName\":\"xaxis\",\"fTitle\":\"R_{#eta}\",\"fNdivisions\":510,\"fAxisColor\":1,\"fLabelColor\":1,\"fLabelFont\":42,\"fLabelOffset\":0.005,\"fLabelSize\":0.035,\"fTickLength\":0.03,\"fTitleOffset\":1,\"fTitleSize\":0.035,\"fTitleColor\":1,\"fTitleFont\":42,\"fNbins\":100,\"fXmin\":0.3,\"fXmax\":1.1,\"fXbins\":[],\"fFirst\":0,\"fLast\":0,\"fBits2\":0,\"fTimeDisplay\":false,\"fTimeFormat\":\"\",\"fLabels\":null,\"fModLabs\":null},\"fYaxis\":{\"_typename\":\"TAxis\",\"fUniqueID\":0,\"fBits\":50331648,\"fName\":\"yaxis\",\"fTitle\":\"\",\"fNdivisions\":510,\"fAxisColor\":1,\"fLabelColor\":1,\"fLabelFont\":42,\"fLabelOffset\":0.005,\"fLabelSize\":0.035,\"fTickLength\":0.03,\"fTitleOffset\":0,\"fTitleSize\":0.035,\"fTitleColor\":1,\"fTitleFont\":42,\"fNbins\":1,\"fXmin\":0,\"fXmax\":1,\"fXbins\":[],\"fFirst\":0,\"fLast\":0,\"fBits2\":0,\"fTimeDisplay\":false,\"fTimeFormat\":\"\",\"fLabels\":null,\"fModLabs\":null},\"fZaxis\":{\"_typename\":\"TAxis\",\"fUniqueID\":0,\"fBits\":50331648,\"fName\":\"zaxis\",\"fTitle\":\"\",\"fNdivisions\":510,\"fAxisColor\":1,\"fLabelColor\":1,\"fLabelFont\":42,\"fLabelOffset\":0.005,\"fLabelSize\":0.035,\"fTickLength\":0.03,\"fTitleOffset\":1,\"fTitleSize\":0.035,\"fTitleColor\":1,\"fTitleFont\":42,\"fNbins\":1,\"fXmin\":0,\"fXmax\":1,\"fXbins\":[],\"fFirst\":0,\"fLast\":0,\"fBits2\":0,\"fTimeDisplay\":false,\"fTimeFormat\":\"\",\"fLabels\":null,\"fModLabs\":null},\"fBarOffset\":0,\"fBarWidth\":1000,\"fEntries\":200000,\"fTsumw\":199946,\"fTsumw2\":199946,\"fTsumwx\":187166.626894057,\"fTsumwx2\":175799.17904394,\"fMaximum\":-1111,\"fMinimum\":-1111,\"fNormFactor\":0,\"fContour\":[],\"fSumw2\":[],\"fOption\":\"\",\"fFunctions\":{\"_typename\":\"TList\",\"name\":\"TList\",\"arr\":[],\"opt\":[]},\"fBufferSize\":0,\"fBuffer\":[],\"fBinStatErrOpt\":0,\"fStatOverflows\":2,\"fArray\":[28,1,1,1,0,2,3,0,0,2,6,6,3,6,14,5,6,13,9,16,19,23,21,26,25,26,24,27,33,36,42,41,51,56,58,67,72,86,76,96,90,110,118,120,139,149,143,154,178,169,184,204,202,230,261,260,289,299,343,339,340,373,420,444,496,511,556,664,688,820,886,1075,1273,1608,2089,2934,4363,6797,10688,15940,20637,24338,26119,24615,20081,13351,7160,3250,1424,525,251,107,69,27,19,11,8,3,2,2,2,26]},{\"_typename\":\"TH1D\",\"fUniqueID\":0,\"fBits\":50332168,\"fName\":\"hReta_bkg\",\"fTitle\":\"Reta\",\"fLineColor\":624,\"fLineStyle\":1,\"fLineWidth\":2,\"fFillColor\":0,\"fFillStyle\":1001,\"fMarkerColor\":1,\"fMarkerStyle\":1,\"fMarkerSize\":1,\"fNcells\":102,\"fXaxis\":{\"_typename\":\"TAxis\",\"fUniqueID\":0,\"fBits\":50331648,\"fName\":\"xaxis\",\"fTitle\":\"\",\"fNdivisions\":510,\"fAxisColor\":1,\"fLabelColor\":1,\"fLabelFont\":42,\"fLabelOffset\":0.005,\"fLabelSize\":0.035,\"fTickLength\":0.03,\"fTitleOffset\":1,\"fTitleSize\":0.035,\"fTitleColor\":1,\"fTitleFont\":42,\"fNbins\":100,\"fXmin\":0.3,\"fXmax\":1.1,\"fXbins\":[],\"fFirst\":0,\"fLast\":0,\"fBits2\":0,\"fTimeDisplay\":false,\"fTimeFormat\":\"\",\"fLabels\":null,\"fModLabs\":null},\"fYaxis\":{\"_typename\":\"TAxis\",\"fUniqueID\":0,\"fBits\":50331648,\"fName\":\"yaxis\",\"fTitle\":\"\",\"fNdivisions\":510,\"fAxisColor\":1,\"fLabelColor\":1,\"fLabelFont\":42,\"fLabelOffset\":0.005,\"fLabelSize\":0.035,\"fTickLength\":0.03,\"fTitleOffset\":0,\"fTitleSize\":0.035,\"fTitleColor\":1,\"fTitleFont\":42,\"fNbins\":1,\"fXmin\":0,\"fXmax\":1,\"fXbins\":[],\"fFirst\":0,\"fLast\":0,\"fBits2\":0,\"fTimeDisplay\":false,\"fTimeFormat\":\"\",\"fLabels\":null,\"fModLabs\":null},\"fZaxis\":{\"_typename\":\"TAxis\",\"fUniqueID\":0,\"fBits\":50331648,\"fName\":\"zaxis\",\"fTitle\":\"\",\"fNdivisions\":510,\"fAxisColor\":1,\"fLabelColor\":1,\"fLabelFont\":42,\"fLabelOffset\":0.005,\"fLabelSize\":0.035,\"fTickLength\":0.03,\"fTitleOffset\":1,\"fTitleSize\":0.035,\"fTitleColor\":1,\"fTitleFont\":42,\"fNbins\":1,\"fXmin\":0,\"fXmax\":1,\"fXbins\":[],\"fFirst\":0,\"fLast\":0,\"fBits2\":0,\"fTimeDisplay\":false,\"fTimeFormat\":\"\",\"fLabels\":null,\"fModLabs\":null},\"fBarOffset\":0,\"fBarWidth\":1000,\"fEntries\":200000,\"fTsumw\":199937,\"fTsumw2\":199937,\"fTsumwx\":170080.997506618,\"fTsumwx2\":146991.405466549,\"fMaximum\":-1111,\"fMinimum\":-1111,\"fNormFactor\":0,\"fContour\":[],\"fSumw2\":[],\"fOption\":\"\",\"fFunctions\":{\"_typename\":\"TList\",\"name\":\"TList\",\"arr\":[],\"opt\":[]},\"fBufferSize\":0,\"fBuffer\":[],\"fBinStatErrOpt\":0,\"fStatOverflows\":2,\"fArray\":[50,6,8,10,6,17,13,21,29,21,34,37,37,61,63,79,79,74,80,124,115,135,142,175,197,194,250,265,280,322,328,378,427,467,504,552,624,596,703,713,755,860,968,1030,1108,1139,1239,1310,1334,1463,1566,1663,1762,1817,2011,2102,2240,2423,2507,2638,2800,3010,3229,3374,3582,3884,3861,4441,4513,4739,5180,5615,5881,6478,6907,7567,8137,8916,9604,10273,10329,9956,9035,7309,5233,3114,1544,740,321,120,60,32,21,16,3,1,1,5,2,2,1,13]},{\"_typename\":\"TLegend\",\"fUniqueID\":0,\"fBits\":50331656,\"fLineColor\":0,\"fLineStyle\":1,\"fLineWidth\":1,\"fFillColor\":0,\"fFillStyle\":3001,\"fX1\":0.429999995976686,\"fY1\":7541.86115805068,\"fX2\":0.770000001043081,\"fY2\":14740.9106403249,\"fX1NDC\":0.23,\"fY1NDC\":0.32,\"fX2NDC\":0.57,\"fY2NDC\":0.53,\"fBorderSize\":0,\"fInit\":1,\"fShadowColor\":1,\"fCornerRadius\":0,\"fOption\":\"brNDC\",\"fName\":\"TPave\",\"fTextAngle\":0,\"fTextSize\":0.03,\"fTextAlign\":12,\"fTextColor\":1,\"fTextFont\":42,\"fPrimitives\":{\"_typename\":\"TList\",\"name\":\"TList\",\"arr\":[{\"_typename\":\"TLegendEntry\",\"fUniqueID\":0,\"fBits\":50331656,\"fTextAngle\":0,\"fTextSize\":0,\"fTextAlign\":0,\"fTextColor\":0,\"fTextFont\":42,\"fLineColor\":600,\"fLineStyle\":1,\"fLineWidth\":2,\"fFillColor\":0,\"fFillStyle\":0,\"fMarkerColor\":1,\"fMarkerStyle\":21,\"fMarkerSize\":1,\"fObject\":{\"$ref\":3},\"fLabel\":\"Signal (#gamma)\",\"fOption\":\"L\"},{\"_typename\":\"TLegendEntry\",\"fUniqueID\":0,\"fBits\":50331656,\"fTextAngle\":0,\"fTextSize\":0,\"fTextAlign\":0,\"fTextColor\":0,\"fTextFont\":42,\"fLineColor\":624,\"fLineStyle\":1,\"fLineWidth\":2,\"fFillColor\":0,\"fFillStyle\":0,\"fMarkerColor\":1,\"fMarkerStyle\":21,\"fMarkerSize\":1,\"fObject\":{\"$ref\":8},\"fLabel\":\"Background (jet)\",\"fOption\":\"L\"}],\"opt\":[\"L\",\"L\"]},\"fEntrySeparation\":0.1,\"fMargin\":0.25,\"fNColumns\":1,\"fColumnSeparation\":0},{\"_typename\":\"TPaveText\",\"fUniqueID\":0,\"fBits\":50331657,\"fLineColor\":1,\"fLineStyle\":1,\"fLineWidth\":1,\"fFillColor\":0,\"fFillStyle\":0,\"fX1\":0.650427134939699,\"fY1\":28796.1978601348,\"fX2\":0.749572865060301,\"fY2\":30681.6632288261,\"fX1NDC\":0.450427135678392,\"fY1NDC\":0.940000003948808,\"fX2NDC\":0.549572864321608,\"fY2NDC\":0.995000004768372,\"fBorderSize\":0,\"fInit\":1,\"fShadowColor\":1,\"fCornerRadius\":0,\"fOption\":\"blNDC\",\"fName\":\"title\",\"fTextAngle\":0,\"fTextSize\":0,\"fTextAlign\":22,\"fTextColor\":1,\"fTextFont\":42,\"fLabel\":\"\",\"fLongest\":4,\"fMargin\":0.05,\"fLines\":{\"_typename\":\"TList\",\"name\":\"TList\",\"arr\":[{\"_typename\":\"TLatex\",\"fUniqueID\":0,\"fBits\":50331648,\"fName\":\"\",\"fTitle\":\"Reta\",\"fTextAngle\":0,\"fTextSize\":0,\"fTextAlign\":0,\"fTextColor\":0,\"fTextFont\":0,\"fX\":0,\"fY\":0,\"fLineColor\":1,\"fLineStyle\":1,\"fLineWidth\":2,\"fLimitFactorSize\":3,\"fOriginSize\":0.0467500016093254}],\"opt\":[\"\"]}}],\"opt\":[\"\",\"hist\",\"hist same\",\"\",\"blNDC\"]},\"fExecs\":null,\"fName\":\"myCanvasName\",\"fTitle\":\"The Canvas Title\",\"fNumPaletteColor\":0,\"fNextPaletteColor\":0,\"fDISPLAY\":\"$DISPLAY\",\"fDoubleBuffer\":0,\"fRetained\":true,\"fXsizeUser\":0,\"fYsizeUser\":0,\"fXsizeReal\":20,\"fYsizeReal\":15,\"fWindowTopX\":0,\"fWindowTopY\":0,\"fWindowWidth\":0,\"fWindowHeight\":0,\"fCw\":796,\"fCh\":572,\"fCatt\":{\"_typename\":\"TAttCanvas\",\"fXBetween\":2,\"fYBetween\":2,\"fTitleFromTop\":1.2,\"fXdate\":0.2,\"fYdate\":0.3,\"fAdate\":1},\"kMoveOpaque\":true,\"kResizeOpaque\":true,\"fHighLightColor\":2,\"fBatch\":true,\"kShowEventStatus\":false,\"kAutoExec\":true,\"kMenuBar\":true});\n",
       "       Core.draw(\"root_plot_1\", obj, \"\");\n",
       "     }\n",
       " );\n",
       "</script>\n"
      ],
      "text/plain": [
       "<IPython.core.display.HTML object>"
      ]
     },
     "metadata": {},
     "output_type": "display_data"
    }
   ],
   "source": [
    "hReta_sig = ROOT.TH1D(\"hReta_sig\",\"Reta\",100,0.3,1.1)\n",
    "hReta_bkg = ROOT.TH1D(\"hReta_bkg\",\"Reta\",100,0.3,1.1)\n",
    "rootnp.fill_hist(hReta_sig, df[df['class']==1]['y_Reta'].values)\n",
    "rootnp.fill_hist(hReta_bkg, df[df['class']==0]['y_Reta'].values)\n",
    "\n",
    "hReta_sig.GetXaxis().SetTitle(\"R_{#eta}\")\n",
    "\n",
    "ROOT.enableJSVis()\n",
    "PlotRootHists([hReta_sig,hReta_bkg], ['Signal (#gamma)','Background (jet)'], UnitScale=False)"
   ]
  },
  {
   "cell_type": "markdown",
   "metadata": {},
   "source": [
    "Looks great! But we forgot event weights..."
   ]
  },
  {
   "cell_type": "code",
   "execution_count": 14,
   "metadata": {},
   "outputs": [
    {
     "data": {
      "text/html": [
       "\n",
       "<div id=\"root_plot_2\"\n",
       "     style=\"width: 796px; height: 572px\">\n",
       "</div>\n",
       "\n",
       "<script>\n",
       " requirejs.config({\n",
       "     paths: {\n",
       "       'JSRootCore' : 'https://root.cern.ch/js/notebook//scripts/JSRootCore',\n",
       "     }\n",
       "   });\n",
       " require(['JSRootCore'],\n",
       "     function(Core) {\n",
       "       var obj = Core.JSONR_unref({\"_typename\":\"TCanvas\",\"fUniqueID\":0,\"fBits\":53673992,\"fLineColor\":1,\"fLineStyle\":1,\"fLineWidth\":1,\"fFillColor\":0,\"fFillStyle\":1001,\"fLeftMargin\":0.1,\"fRightMargin\":0.1,\"fBottomMargin\":0.1,\"fTopMargin\":0.1,\"fXfile\":2,\"fYfile\":2,\"fAfile\":1,\"fXstat\":0.99,\"fYstat\":0.99,\"fAstat\":2,\"fFrameFillColor\":0,\"fFrameLineColor\":1,\"fFrameFillStyle\":1001,\"fFrameLineStyle\":1,\"fFrameLineWidth\":1,\"fFrameBorderSize\":1,\"fFrameBorderMode\":0,\"fX1\":0.199999992549419,\"fY1\":-30645887.7337018,\"fX2\":1.20000000745058,\"fY2\":275812971.336944,\"fXtoAbsPixelk\":-159.199941697073,\"fXtoPixelk\":-159.199941697073,\"fXtoPixel\":795.999988138675,\"fYtoAbsPixelk\":514.800046590614,\"fYtoPixelk\":514.800046590614,\"fYtoPixel\":-1.86648218209329e-6,\"fUtoAbsPixelk\":5e-5,\"fUtoPixelk\":5e-5,\"fUtoPixel\":796,\"fVtoAbsPixelk\":572.00005,\"fVtoPixelk\":572,\"fVtoPixel\":-572,\"fAbsPixeltoXk\":0.199999992549419,\"fPixeltoXk\":0.199999992549419,\"fPixeltoX\":0.00125628142575523,\"fAbsPixeltoYk\":275812971.336944,\"fPixeltoYk\":-30645887.7337018,\"fPixeltoY\":-535767.236137492,\"fXlowNDC\":0,\"fYlowNDC\":0,\"fXUpNDC\":0,\"fYUpNDC\":0,\"fWNDC\":1,\"fHNDC\":1,\"fAbsXlowNDC\":0,\"fAbsYlowNDC\":0,\"fAbsWNDC\":1,\"fAbsHNDC\":1,\"fUxmin\":0.3,\"fUymin\":0,\"fUxmax\":1.1,\"fUymax\":245167083.603242,\"fTheta\":30,\"fPhi\":30,\"fAspectRatio\":0,\"fNumber\":0,\"fTickx\":0,\"fTicky\":0,\"fLogx\":0,\"fLogy\":0,\"fLogz\":0,\"fPadPaint\":0,\"fCrosshair\":0,\"fCrosshairPos\":0,\"fBorderSize\":2,\"fBorderMode\":0,\"fModified\":false,\"fGridx\":false,\"fGridy\":false,\"fAbsCoord\":false,\"fEditable\":true,\"fFixedAspectRatio\":false,\"fPrimitives\":{\"_typename\":\"TList\",\"name\":\"TList\",\"arr\":[{\"_typename\":\"TFrame\",\"fUniqueID\":0,\"fBits\":50331656,\"fLineColor\":1,\"fLineStyle\":1,\"fLineWidth\":1,\"fFillColor\":0,\"fFillStyle\":1001,\"fX1\":0.3,\"fY1\":0,\"fX2\":1.1,\"fY2\":245167083.603242,\"fBorderSize\":1,\"fBorderMode\":0},{\"_typename\":\"TH1D\",\"fUniqueID\":0,\"fBits\":50332168,\"fName\":\"hReta_sig_weighted\",\"fTitle\":\"Reta\",\"fLineColor\":600,\"fLineStyle\":1,\"fLineWidth\":2,\"fFillColor\":0,\"fFillStyle\":1001,\"fMarkerColor\":1,\"fMarkerStyle\":1,\"fMarkerSize\":1,\"fNcells\":102,\"fXaxis\":{\"_typename\":\"TAxis\",\"fUniqueID\":0,\"fBits\":50331656,\"fName\":\"xaxis\",\"fTitle\":\"R_{#eta}\",\"fNdivisions\":510,\"fAxisColor\":1,\"fLabelColor\":1,\"fLabelFont\":42,\"fLabelOffset\":0.005,\"fLabelSize\":0.035,\"fTickLength\":0.03,\"fTitleOffset\":1,\"fTitleSize\":0.035,\"fTitleColor\":1,\"fTitleFont\":42,\"fNbins\":100,\"fXmin\":0.3,\"fXmax\":1.1,\"fXbins\":[],\"fFirst\":0,\"fLast\":0,\"fBits2\":0,\"fTimeDisplay\":false,\"fTimeFormat\":\"\",\"fLabels\":null,\"fModLabs\":null},\"fYaxis\":{\"_typename\":\"TAxis\",\"fUniqueID\":0,\"fBits\":50331648,\"fName\":\"yaxis\",\"fTitle\":\"\",\"fNdivisions\":510,\"fAxisColor\":1,\"fLabelColor\":1,\"fLabelFont\":42,\"fLabelOffset\":0.005,\"fLabelSize\":0.035,\"fTickLength\":0.03,\"fTitleOffset\":0,\"fTitleSize\":0.035,\"fTitleColor\":1,\"fTitleFont\":42,\"fNbins\":1,\"fXmin\":0,\"fXmax\":1,\"fXbins\":[],\"fFirst\":0,\"fLast\":0,\"fBits2\":0,\"fTimeDisplay\":false,\"fTimeFormat\":\"\",\"fLabels\":null,\"fModLabs\":null},\"fZaxis\":{\"_typename\":\"TAxis\",\"fUniqueID\":0,\"fBits\":50331648,\"fName\":\"zaxis\",\"fTitle\":\"\",\"fNdivisions\":510,\"fAxisColor\":1,\"fLabelColor\":1,\"fLabelFont\":42,\"fLabelOffset\":0.005,\"fLabelSize\":0.035,\"fTickLength\":0.03,\"fTitleOffset\":1,\"fTitleSize\":0.035,\"fTitleColor\":1,\"fTitleFont\":42,\"fNbins\":1,\"fXmin\":0,\"fXmax\":1,\"fXbins\":[],\"fFirst\":0,\"fLast\":0,\"fBits2\":0,\"fTimeDisplay\":false,\"fTimeFormat\":\"\",\"fLabels\":null,\"fModLabs\":null},\"fBarOffset\":0,\"fBarWidth\":1000,\"fEntries\":200000,\"fTsumw\":2232447922.31638,\"fTsumw2\":65646302483764.8,\"fTsumwx\":2031209682.26372,\"fTsumwx2\":1864517684.10557,\"fMaximum\":-1111,\"fMinimum\":-1111,\"fNormFactor\":0,\"fContour\":[],\"fSumw2\":[14935873853.5427,62415718.1592243,111010429.979205,5119594192.96198,0,2149571467.96527,10737848804.9484,0,0,3522710473.69621,27255510369.6962,19959215043.7387,6277193515.04096,21493574208.7453,34615670055.4644,4982579032.5688,17870685950.1424,22247591015.3464,31069080379.2988,50681126949.7537,49162829647.9163,42174755199.4798,56578060927.5053,49433293496.7089,47990261150.5314,64188380547.2286,61620436002.1,69579603021.2623,80137701663.3281,103213907940.523,106146437738.431,88761248498.3357,77269163526.8225,147610941440.024,124522086180.758,128720527306.918,194036488256.093,196870457516.289,171730437010.392,185656696918.076,207137959751.351,218767525821.752,241593990920.283,238159480519.128,336938548540.788,314805778224.201,291838561233.254,366384520814.548,371775165029.105,394250608957.426,399093362399.244,429840537068.009,396346439653.435,582384670526.824,554592452018.764,574555597268.097,680700180303.344,708558542409.152,735548885534.009,785754281132.555,769980364196.543,759964556103.224,878540549663.784,929654624403.304,994693502976.734,959831637060.5,1068193053360.58,1196690217551.32,1228176507129.51,1424409266834.38,1288776115214.98,1497540553893.05,1603229925554.72,1700850555408.62,1805535951903,2064533480036.8,2232883635363.92,2759963426582.13,3139091665651.32,3699498796267.96,3936572095795.9,3993584227424.71,4133103174273.56,3513024406360.75,2831260232897.5,1720144967552.52,1062389154228.56,520714620106.998,294693546736.842,143665070246.387,118985148004.699,88412523133.028,61963450710.5729,32931499324.0684,19689008751.5977,6415783025.90735,19775416669.5758,4878758105.27977,9270538423.89142,66809623.5547891,137487489.754491,57625433131.3878],\"fOption\":\"\",\"fFunctions\":{\"_typename\":\"TList\",\"name\":\"TList\",\"arr\":[],\"opt\":[]},\"fBufferSize\":0,\"fBuffer\":[],\"fBinStatErrOpt\":0,\"fStatOverflows\":2,\"fArray\":[408707.221614666,7900.3619005223,10536.1487261335,71551.3395609193,0,54841.2539540653,154203.594919905,0,0,64898.508059906,400012.715005163,310560.101646348,90645.346348687,304667.905869516,534293.992694684,99529.1759776504,280367.826198914,356542.257607521,480375.709025418,763981.579161263,812195.497529295,731017.292382223,875760.117524019,841415.402139271,816550.991079203,998584.4435211,904259.151144645,1085438.14932134,1338939.5983626,1532607.04828174,1676155.57344298,1408461.11396149,1376083.27304577,2374449.67756179,2031991.41784963,2170305.9993629,3087833.67971129,3098500.44371251,2830863.40131077,3038372.45714587,3306930.93992622,3670328.79529553,4113552.80486659,3997371.54360785,5368746.52861091,5305878.93482749,4877177.2944015,5855664.01740203,6112256.16002581,6363506.14360793,6510040.89149513,7155758.03501877,6545539.74742505,9141499.69743344,9193343.95634307,9413770.10773167,10972602.088601,11413936.8101376,12100573.2885762,12711624.5710018,12292471.8737781,12540807.4757927,14220774.9841849,15300883.1002214,16478710.336012,16026136.245953,17794083.060863,20103566.5459243,20992023.0246807,24194705.8752899,23400602.6267542,26858168.970862,29885833.9921222,33125490.5562756,37950042.8639658,46996089.8857788,59032742.6256243,82345256.9567481,114377315.45611,157744522.91002,193575466.217099,219724794.575309,233492460.574516,215224721.750133,174898413.036817,114260262.709875,62680796.3348634,28760158.9912083,13484089.7326185,5419509.27289331,3142389.41574894,1867652.38748867,1290617.4193384,679186.93135755,399396.261901993,168658.890922057,328225.106904073,85495.676057634,132640.69124331,11411.8371363815,16550.2345576168,915940.81797219]},{\"_typename\":\"TH1D\",\"fUniqueID\":0,\"fBits\":50332168,\"fName\":\"hReta_bkg_weighted\",\"fTitle\":\"Reta\",\"fLineColor\":624,\"fLineStyle\":1,\"fLineWidth\":2,\"fFillColor\":0,\"fFillStyle\":1001,\"fMarkerColor\":1,\"fMarkerStyle\":1,\"fMarkerSize\":1,\"fNcells\":102,\"fXaxis\":{\"_typename\":\"TAxis\",\"fUniqueID\":0,\"fBits\":50331648,\"fName\":\"xaxis\",\"fTitle\":\"\",\"fNdivisions\":510,\"fAxisColor\":1,\"fLabelColor\":1,\"fLabelFont\":42,\"fLabelOffset\":0.005,\"fLabelSize\":0.035,\"fTickLength\":0.03,\"fTitleOffset\":1,\"fTitleSize\":0.035,\"fTitleColor\":1,\"fTitleFont\":42,\"fNbins\":100,\"fXmin\":0.3,\"fXmax\":1.1,\"fXbins\":[],\"fFirst\":0,\"fLast\":0,\"fBits2\":0,\"fTimeDisplay\":false,\"fTimeFormat\":\"\",\"fLabels\":null,\"fModLabs\":null},\"fYaxis\":{\"_typename\":\"TAxis\",\"fUniqueID\":0,\"fBits\":50331648,\"fName\":\"yaxis\",\"fTitle\":\"\",\"fNdivisions\":510,\"fAxisColor\":1,\"fLabelColor\":1,\"fLabelFont\":42,\"fLabelOffset\":0.005,\"fLabelSize\":0.035,\"fTickLength\":0.03,\"fTitleOffset\":0,\"fTitleSize\":0.035,\"fTitleColor\":1,\"fTitleFont\":42,\"fNbins\":1,\"fXmin\":0,\"fXmax\":1,\"fXbins\":[],\"fFirst\":0,\"fLast\":0,\"fBits2\":0,\"fTimeDisplay\":false,\"fTimeFormat\":\"\",\"fLabels\":null,\"fModLabs\":null},\"fZaxis\":{\"_typename\":\"TAxis\",\"fUniqueID\":0,\"fBits\":50331648,\"fName\":\"zaxis\",\"fTitle\":\"\",\"fNdivisions\":510,\"fAxisColor\":1,\"fLabelColor\":1,\"fLabelFont\":42,\"fLabelOffset\":0.005,\"fLabelSize\":0.035,\"fTickLength\":0.03,\"fTitleOffset\":1,\"fTitleSize\":0.035,\"fTitleColor\":1,\"fTitleFont\":42,\"fNbins\":1,\"fXmin\":0,\"fXmax\":1,\"fXbins\":[],\"fFirst\":0,\"fLast\":0,\"fBits2\":0,\"fTimeDisplay\":false,\"fTimeFormat\":\"\",\"fLabels\":null,\"fModLabs\":null},\"fBarOffset\":0,\"fBarWidth\":1000,\"fEntries\":200000,\"fTsumw\":64946946234.1831,\"fTsumw2\":22037604980941304,\"fTsumwx\":55247176725.8589,\"fTsumwx2\":47745263591.7434,\"fMaximum\":-1111,\"fMinimum\":-1111,\"fNormFactor\":0,\"fContour\":[],\"fSumw2\":[5284936963141.72,722441364086.619,784692008627.652,1087952906548.89,748181720705.14,2028312926172.6,1534571265869.68,2456690637005.47,3186355913496.98,2187643419284.18,3716751804765.9,3762202991621.48,4117648807622.01,6499118678159.37,7586395504368.04,8489699297782.31,8414861508410.47,7951271037351.58,8753193372678.74,13978489437280.6,11883010537120.5,14567957962964.6,15689189142424.8,19268426322598,21679719663273.7,20610429725346.5,27355406385974.3,30370858670545.7,31037425197993.4,37700180366240.6,36760320382100,39852809025903.3,46237575164588.7,51356335016206,56286582727557.8,60139782994061.3,67713331025216.8,65686305802388.8,77124693056335,78456492736811.9,84081797119688.1,95893261446307.5,106593791490171,113524342131395,120332301326674,124202255330566,137531234271383,148118992896076,145263629172265,161632107946249,173488511253825,184890155653744,193497661977844,200294161474673,222715267782748,230278227899474,246191112656826,270315926927392,278863033626774,289776946596078,308053816996812,330388071415019,353511138288442,373263973630351,396078676624485,425551152871942,424547696328680,486292848286718,502997933539083,521972412289456,576137510520457,616848619611841,645948028200842,725284519386190,756195013164062,827144761049755,896325780130325,977857871631262,1.05319934099594e15,1.1355107529982e15,1.14439146984931e15,1.10318899886096e15,1.00687896970153e15,810721247150385,575989253431774,336507072280256,164873302482497,77067191137024.9,32541442777272.8,11969460104614.5,6568542264678.98,3396539430800.38,2283791256234.9,1429925360563.68,280877808857.197,43643995857.4586,119070590130.004,468094180792.194,267691922165.242,161343809413.506,79109098098.1795,1442495897513.42],\"fOption\":\"\",\"fFunctions\":{\"_typename\":\"TList\",\"name\":\"TList\",\"arr\":[],\"opt\":[]},\"fBufferSize\":0,\"fBuffer\":[],\"fBinStatErrOpt\":0,\"fStatOverflows\":2,\"fArray\":[15744938.458069,2049223.73569205,2474834.28782295,3202512.43181479,2088177.55682287,5771150.47101009,4410315.88500209,7084707.40222098,9444311.07952854,6597780.7904845,11058567.1227523,11179607.4256252,12068215.964037,19521052.7295154,21497174.2707083,25081377.4244797,25154787.596388,23458339.8920071,25783307.0409774,40609989.3980646,35760950.2865651,43328736.2409096,46105671.4901908,56819216.8796459,63955734.2050104,61851848.9848113,80938196.3669714,87936987.4870922,91466453.6623433,108206060.182309,107505614.280763,119066754.908582,137155764.113939,151314275.207723,165157616.643321,177878523.13273,201178833.669757,194170714.101264,227255029.341098,232012998.071749,246724642.484251,281348084.291142,314226031.663995,334332898.858685,357003050.836868,367886816.450149,403343440.697312,431250924.562761,430742356.913735,476651758.186181,510383134.213363,543549642.015561,571607103.725729,590349423.875468,656194901.153888,679842055.555945,726643976.279664,791745368.366953,818131176.447636,855928328.604528,908532522.714867,976459230.157869,1044984941.71407,1097521879.94445,1168221593.66664,1258366565.22323,1250445423.06463,1437437883.65375,1473328164.91253,1540624065.28886,1691106040.00067,1822284608.62781,1905889183.05182,2122533676.41056,2233242691.57564,2444916406.39218,2642197473.37009,2886567036.96388,3111777143.397,3345186766.71427,3363580530.24042,3238823773.9961,2951850668.41215,2382247512.32072,1700578847.68908,1001832369.173,494207119.447799,234013847.699488,99970172.911725,37045502.0275836,19346243.477083,10274684.9775447,6837783.4735433,4683421.1693155,905954.016387609,208911.454586527,345066.066326442,1516033.52800832,720520.486836685,566184.428294658,281263.396299944,4258052.5449246]},{\"_typename\":\"TLegend\",\"fUniqueID\":0,\"fBits\":50331656,\"fLineColor\":0,\"fLineStyle\":1,\"fLineWidth\":1,\"fFillColor\":0,\"fFillStyle\":3001,\"fX1\":0.429999995976686,\"fY1\":67420947.1689048,\"fX2\":0.770000001043081,\"fY2\":131777307.57374,\"fX1NDC\":0.23,\"fY1NDC\":0.32,\"fX2NDC\":0.57,\"fY2NDC\":0.53,\"fBorderSize\":0,\"fInit\":1,\"fShadowColor\":1,\"fCornerRadius\":0,\"fOption\":\"brNDC\",\"fName\":\"TPave\",\"fTextAngle\":0,\"fTextSize\":0.03,\"fTextAlign\":12,\"fTextColor\":1,\"fTextFont\":42,\"fPrimitives\":{\"_typename\":\"TList\",\"name\":\"TList\",\"arr\":[{\"_typename\":\"TLegendEntry\",\"fUniqueID\":0,\"fBits\":50331656,\"fTextAngle\":0,\"fTextSize\":0,\"fTextAlign\":0,\"fTextColor\":0,\"fTextFont\":42,\"fLineColor\":600,\"fLineStyle\":1,\"fLineWidth\":2,\"fFillColor\":0,\"fFillStyle\":0,\"fMarkerColor\":1,\"fMarkerStyle\":21,\"fMarkerSize\":1,\"fObject\":{\"$ref\":3},\"fLabel\":\"Signal (#gamma)\",\"fOption\":\"L\"},{\"_typename\":\"TLegendEntry\",\"fUniqueID\":0,\"fBits\":50331656,\"fTextAngle\":0,\"fTextSize\":0,\"fTextAlign\":0,\"fTextColor\":0,\"fTextFont\":42,\"fLineColor\":624,\"fLineStyle\":1,\"fLineWidth\":2,\"fFillColor\":0,\"fFillStyle\":0,\"fMarkerColor\":1,\"fMarkerStyle\":21,\"fMarkerSize\":1,\"fObject\":{\"$ref\":8},\"fLabel\":\"Background (jet)\",\"fOption\":\"L\"}],\"opt\":[\"L\",\"L\"]},\"fEntrySeparation\":0.1,\"fMargin\":0.25,\"fNColumns\":1,\"fColumnSeparation\":0},{\"_typename\":\"TPaveText\",\"fUniqueID\":0,\"fBits\":50331657,\"fLineColor\":1,\"fLineStyle\":1,\"fLineWidth\":1,\"fFillColor\":0,\"fFillStyle\":0,\"fX1\":0.650427134939699,\"fY1\":257425441.002852,\"fX2\":0.749572865060301,\"fY2\":274280678.5029,\"fX1NDC\":0.450427135678392,\"fY1NDC\":0.940000003948808,\"fX2NDC\":0.549572864321608,\"fY2NDC\":0.995000004768372,\"fBorderSize\":0,\"fInit\":1,\"fShadowColor\":1,\"fCornerRadius\":0,\"fOption\":\"blNDC\",\"fName\":\"title\",\"fTextAngle\":0,\"fTextSize\":0,\"fTextAlign\":22,\"fTextColor\":1,\"fTextFont\":42,\"fLabel\":\"\",\"fLongest\":4,\"fMargin\":0.05,\"fLines\":{\"_typename\":\"TList\",\"name\":\"TList\",\"arr\":[{\"_typename\":\"TLatex\",\"fUniqueID\":0,\"fBits\":50331648,\"fName\":\"\",\"fTitle\":\"Reta\",\"fTextAngle\":0,\"fTextSize\":0,\"fTextAlign\":0,\"fTextColor\":0,\"fTextFont\":0,\"fX\":0,\"fY\":0,\"fLineColor\":1,\"fLineStyle\":1,\"fLineWidth\":2,\"fLimitFactorSize\":3,\"fOriginSize\":0.0467500016093254}],\"opt\":[\"\"]}}],\"opt\":[\"\",\"hist\",\"hist same\",\"\",\"blNDC\"]},\"fExecs\":null,\"fName\":\"myCanvasName\",\"fTitle\":\"The Canvas Title\",\"fNumPaletteColor\":0,\"fNextPaletteColor\":0,\"fDISPLAY\":\"$DISPLAY\",\"fDoubleBuffer\":0,\"fRetained\":true,\"fXsizeUser\":0,\"fYsizeUser\":0,\"fXsizeReal\":20,\"fYsizeReal\":15,\"fWindowTopX\":0,\"fWindowTopY\":0,\"fWindowWidth\":0,\"fWindowHeight\":0,\"fCw\":796,\"fCh\":572,\"fCatt\":{\"_typename\":\"TAttCanvas\",\"fXBetween\":2,\"fYBetween\":2,\"fTitleFromTop\":1.2,\"fXdate\":0.2,\"fYdate\":0.3,\"fAdate\":1},\"kMoveOpaque\":true,\"kResizeOpaque\":true,\"fHighLightColor\":2,\"fBatch\":true,\"kShowEventStatus\":false,\"kAutoExec\":true,\"kMenuBar\":true});\n",
       "       Core.draw(\"root_plot_2\", obj, \"\");\n",
       "     }\n",
       " );\n",
       "</script>\n"
      ],
      "text/plain": [
       "<IPython.core.display.HTML object>"
      ]
     },
     "metadata": {},
     "output_type": "display_data"
    }
   ],
   "source": [
    "hReta_sig_weighted = ROOT.TH1D(\"hReta_sig_weighted\",\"Reta\",100,0.3,1.1)\n",
    "hReta_bkg_weighted = ROOT.TH1D(\"hReta_bkg_weighted\",\"Reta\",100,0.3,1.1)\n",
    "\n",
    "rootnp.fill_hist(hReta_sig_weighted, df[df['class']==1]['y_Reta'].values, df[df['class']==1]['mcTotWeight'].values)\n",
    "rootnp.fill_hist(hReta_bkg_weighted, df[df['class']==0]['y_Reta'].values, df[df['class']==0]['mcTotWeight'].values)\n",
    "\n",
    "hReta_sig_weighted.GetXaxis().SetTitle(\"R_{#eta}\")\n",
    "\n",
    "PlotRootHists([hReta_sig_weighted,hReta_bkg_weighted], ['Signal (#gamma)','Background (jet)'],UnitScale=False)"
   ]
  },
  {
   "cell_type": "markdown",
   "metadata": {},
   "source": [
    "Interesting! In fact we have much more background then signal. Actually that's why we want to have `photon identification`. Goal is to select signal and regect background events.\n",
    "\n",
    "Let's scale them to the unit area."
   ]
  },
  {
   "cell_type": "code",
   "execution_count": 15,
   "metadata": {},
   "outputs": [
    {
     "data": {
      "text/html": [
       "\n",
       "<div id=\"root_plot_3\"\n",
       "     style=\"width: 796px; height: 572px\">\n",
       "</div>\n",
       "\n",
       "<script>\n",
       " requirejs.config({\n",
       "     paths: {\n",
       "       'JSRootCore' : 'https://root.cern.ch/js/notebook//scripts/JSRootCore',\n",
       "     }\n",
       "   });\n",
       " require(['JSRootCore'],\n",
       "     function(Core) {\n",
       "       var obj = Core.JSONR_unref({\"_typename\":\"TCanvas\",\"fUniqueID\":0,\"fBits\":53673992,\"fLineColor\":1,\"fLineStyle\":1,\"fLineWidth\":1,\"fFillColor\":0,\"fFillStyle\":1001,\"fLeftMargin\":0.1,\"fRightMargin\":0.1,\"fBottomMargin\":0.1,\"fTopMargin\":0.1,\"fXfile\":2,\"fYfile\":2,\"fAfile\":1,\"fXstat\":0.99,\"fYstat\":0.99,\"fAstat\":2,\"fFrameFillColor\":0,\"fFrameLineColor\":1,\"fFrameFillStyle\":1001,\"fFrameLineStyle\":1,\"fFrameLineWidth\":1,\"fFrameBorderSize\":1,\"fFrameBorderMode\":0,\"fX1\":0.199999992549419,\"fY1\":-0.0137274815808041,\"fX2\":1.20000000745058,\"fY2\":0.12354732604502,\"fXtoAbsPixelk\":-159.199941697073,\"fXtoPixelk\":-159.199941697073,\"fXtoPixel\":795.999988138675,\"fYtoAbsPixelk\":514.800046590614,\"fYtoPixelk\":514.800046590614,\"fYtoPixel\":-4166.82426945463,\"fUtoAbsPixelk\":5e-5,\"fUtoPixelk\":5e-5,\"fUtoPixel\":796,\"fVtoAbsPixelk\":572.00005,\"fVtoPixelk\":572,\"fVtoPixel\":-572,\"fAbsPixeltoXk\":0.199999992549419,\"fPixeltoXk\":0.199999992549419,\"fPixeltoX\":0.00125628142575523,\"fAbsPixeltoYk\":0.12354732604502,\"fPixeltoYk\":-0.0137274815808041,\"fPixeltoY\":-2.3999092242277e-4,\"fXlowNDC\":0,\"fYlowNDC\":0,\"fXUpNDC\":0,\"fYUpNDC\":0,\"fWNDC\":1,\"fHNDC\":1,\"fAbsXlowNDC\":0,\"fAbsYlowNDC\":0,\"fAbsWNDC\":1,\"fAbsHNDC\":1,\"fUxmin\":0.3,\"fUymin\":0,\"fUxmax\":1.1,\"fUymax\":0.109819844464216,\"fTheta\":30,\"fPhi\":30,\"fAspectRatio\":0,\"fNumber\":0,\"fTickx\":0,\"fTicky\":0,\"fLogx\":0,\"fLogy\":0,\"fLogz\":0,\"fPadPaint\":0,\"fCrosshair\":0,\"fCrosshairPos\":0,\"fBorderSize\":2,\"fBorderMode\":0,\"fModified\":false,\"fGridx\":false,\"fGridy\":false,\"fAbsCoord\":false,\"fEditable\":true,\"fFixedAspectRatio\":false,\"fPrimitives\":{\"_typename\":\"TList\",\"name\":\"TList\",\"arr\":[{\"_typename\":\"TFrame\",\"fUniqueID\":0,\"fBits\":50331656,\"fLineColor\":1,\"fLineStyle\":1,\"fLineWidth\":1,\"fFillColor\":0,\"fFillStyle\":1001,\"fX1\":0.3,\"fY1\":0,\"fX2\":1.1,\"fY2\":0.109819844464216,\"fBorderSize\":1,\"fBorderMode\":0},{\"_typename\":\"TH1D\",\"fUniqueID\":0,\"fBits\":50332168,\"fName\":\"hReta_sig_weighted\",\"fTitle\":\"Reta\",\"fLineColor\":600,\"fLineStyle\":1,\"fLineWidth\":2,\"fFillColor\":0,\"fFillStyle\":1001,\"fMarkerColor\":1,\"fMarkerStyle\":1,\"fMarkerSize\":1,\"fNcells\":102,\"fXaxis\":{\"_typename\":\"TAxis\",\"fUniqueID\":0,\"fBits\":50331656,\"fName\":\"xaxis\",\"fTitle\":\"R_{#eta}\",\"fNdivisions\":510,\"fAxisColor\":1,\"fLabelColor\":1,\"fLabelFont\":42,\"fLabelOffset\":0.005,\"fLabelSize\":0.035,\"fTickLength\":0.03,\"fTitleOffset\":1,\"fTitleSize\":0.035,\"fTitleColor\":1,\"fTitleFont\":42,\"fNbins\":100,\"fXmin\":0.3,\"fXmax\":1.1,\"fXbins\":[],\"fFirst\":0,\"fLast\":0,\"fBits2\":0,\"fTimeDisplay\":false,\"fTimeFormat\":\"\",\"fLabels\":null,\"fModLabs\":null},\"fYaxis\":{\"_typename\":\"TAxis\",\"fUniqueID\":0,\"fBits\":50331648,\"fName\":\"yaxis\",\"fTitle\":\"\",\"fNdivisions\":510,\"fAxisColor\":1,\"fLabelColor\":1,\"fLabelFont\":42,\"fLabelOffset\":0.005,\"fLabelSize\":0.035,\"fTickLength\":0.03,\"fTitleOffset\":0,\"fTitleSize\":0.035,\"fTitleColor\":1,\"fTitleFont\":42,\"fNbins\":1,\"fXmin\":0,\"fXmax\":1,\"fXbins\":[],\"fFirst\":0,\"fLast\":0,\"fBits2\":0,\"fTimeDisplay\":false,\"fTimeFormat\":\"\",\"fLabels\":null,\"fModLabs\":null},\"fZaxis\":{\"_typename\":\"TAxis\",\"fUniqueID\":0,\"fBits\":50331648,\"fName\":\"zaxis\",\"fTitle\":\"\",\"fNdivisions\":510,\"fAxisColor\":1,\"fLabelColor\":1,\"fLabelFont\":42,\"fLabelOffset\":0.005,\"fLabelSize\":0.035,\"fTickLength\":0.03,\"fTitleOffset\":1,\"fTitleSize\":0.035,\"fTitleColor\":1,\"fTitleFont\":42,\"fNbins\":1,\"fXmin\":0,\"fXmax\":1,\"fXbins\":[],\"fFirst\":0,\"fLast\":0,\"fBits2\":0,\"fTimeDisplay\":false,\"fTimeFormat\":\"\",\"fLabels\":null,\"fModLabs\":null},\"fBarOffset\":0,\"fBarWidth\":1000,\"fEntries\":200000,\"fTsumw\":2232447922.31638,\"fTsumw2\":65646302483764.8,\"fTsumwx\":2031209682.26372,\"fTsumwx2\":1864517684.10557,\"fMaximum\":-1111,\"fMinimum\":-1111,\"fNormFactor\":0,\"fContour\":[],\"fSumw2\":[2.99687041017525e-9,1.252366086614e-11,2.2274148542477e-11,1.02724222897434e-9,0,4.313096903516e-10,2.15454024773063e-9,0,0,7.06828866242097e-10,5.46879501943521e-9,4.00479955585037e-9,1.25951355030413e-9,4.3126674198454e-9,6.94560481260385e-9,9.99750253348798e-10,3.58573796609917e-9,4.46396025203156e-9,6.23398460465649e-9,1.01691251010416e-8,9.8644800362571e-9,8.46232883010898e-9,1.13523398979775e-8,9.91874837793008e-9,9.62920516260897e-9,1.28793440695423e-8,1.23640881764001e-8,1.3961088282538e-8,1.60795618126698e-8,2.07097830136089e-8,2.12981926282378e-8,1.78098691648884e-8,1.55039920705811e-8,2.96180100982033e-8,2.49852508897489e-8,2.58276645378038e-8,3.89332566578334e-8,3.95018901842349e-8,3.4457566410206e-8,3.72518586391704e-8,4.15620557919784e-8,4.38955183520747e-8,4.84756291975113e-8,4.77864976009547e-8,6.76064337494235e-8,6.31655121731306e-8,5.855715957996e-8,7.35147430905029e-8,7.45963712762256e-8,7.91060500218291e-8,8.00777443890867e-8,8.62471388861791e-8,7.95265766719064e-8,1.16854989775339e-7,1.11278504723534e-7,1.15284092871801e-7,1.36581913355419e-7,1.42171670063966e-7,1.47587259500815e-7,1.57660929510068e-7,1.54495906466781e-7,1.52486243074924e-7,1.76278415527859e-7,1.86534411235403e-7,1.99584407011945e-7,1.92589403208864e-7,2.14332029405279e-7,2.40114876323427e-7,2.46432573599687e-7,2.8580651025938e-7,2.58591833521161e-7,3.00480240929125e-7,3.21686723637047e-7,3.41274220150512e-7,3.62279256093359e-7,4.1424689025951e-7,4.48026206019371e-7,5.53784318707804e-7,6.29856078048406e-7,7.42301293096728e-7,7.89869849403822e-7,8.0130928521955e-7,8.29303643472043e-7,7.048853650534e-7,5.68089962373632e-7,3.45145627568838e-7,2.13167481971166e-7,1.04480946508139e-7,5.91300099977581e-8,2.88262743927112e-8,2.38742689448348e-8,1.77398977163601e-8,1.2432913786482e-8,6.60767738498255e-9,3.95058289270089e-9,1.28732141801571e-9,3.96792056809455e-9,9.78918672418188e-10,1.86012566531974e-9,1.34052942539283e-11,2.75867481109432e-11,1.15624942416091e-8],\"fOption\":\"\",\"fFunctions\":{\"_typename\":\"TList\",\"name\":\"TList\",\"arr\":[],\"opt\":[]},\"fBufferSize\":0,\"fBuffer\":[],\"fBinStatErrOpt\":0,\"fStatOverflows\":2,\"fArray\":[1.83075814458687e-4,3.53887847575189e-6,4.71954961224872e-6,3.20506197907987e-5,0,2.45655244209071e-5,6.90737702673518e-5,0,0,2.90705585609222e-5,1.79181207770401e-4,1.39111913223991e-4,4.06035659074347e-5,1.36472570232859e-4,2.39330999551521e-4,4.45829777181908e-5,1.25587622177547e-4,1.59709104093045e-4,2.15178909314486e-4,3.42216976944561e-4,3.63813860744658e-4,3.27450994522523e-4,3.9228691911225e-4,3.76902589183912e-4,3.65764855214167e-4,4.47304697923252e-4,4.0505274147959e-4,4.86209840987072e-4,5.99762970942384e-4,6.86514132294537e-4,7.50815083607344e-4,6.30904353862869e-4,6.16401063285715e-4,0.00106360809308292,9.10207757832616e-4,9.721642228102e-4,0.00138316045308122,0.00138793851034051,0.00126805349993273,0.00136100485335995,0.0014813026126473,0.00164408260484181,0.00184261982720675,0.00179057773471386,0.00240486977319517,0.00237670893989869,0.00218467684985953,0.00262297899936064,0.00273791657083041,0.00285046118209347,0.00291609977837264,0.00320534152823333,0.00293200109260939,0.00409483222701493,0.00411805528113027,0.00421679270258818,0.00491505399920644,0.00511274493619306,0.00542031604303717,0.00569402960935032,0.00550627486128489,0.0056175140080225,0.00637003660512259,0.00685385891749966,0.00738145341321739,0.00717872792720051,0.00797065986757726,0.00900516708361346,0.00940314119529379,0.0108377470459361,0.0104820374051433,0.0120308154570498,0.0133870240346361,0.0148381918454364,0.0169992959229211,0.0210513711948168,0.0264430547452024,0.0368856339866189,0.0512340352098495,0.0706598892333167,0.0867099582848273,0.0984232565422302,0.104590328061158,0.0964074994084614,0.0783437818586813,0.051181602745439,0.0280771594751591,0.0128827905474129,0.00604004671187482,0.00242760837496722,0.00140759808295482,8.3659393297329e-4,5.78117592995984e-4,3.04234165808823e-4,1.78905074519091e-4,7.55488579312795e-5,1.47024754137832e-4,3.82968288769423e-5,5.94149094889906e-5,5.11180441089118e-6,7.41349188582403e-6,4.10285413073301e-4]},{\"_typename\":\"TH1D\",\"fUniqueID\":0,\"fBits\":50332168,\"fName\":\"hReta_bkg_weighted\",\"fTitle\":\"Reta\",\"fLineColor\":624,\"fLineStyle\":1,\"fLineWidth\":2,\"fFillColor\":0,\"fFillStyle\":1001,\"fMarkerColor\":1,\"fMarkerStyle\":1,\"fMarkerSize\":1,\"fNcells\":102,\"fXaxis\":{\"_typename\":\"TAxis\",\"fUniqueID\":0,\"fBits\":50331648,\"fName\":\"xaxis\",\"fTitle\":\"\",\"fNdivisions\":510,\"fAxisColor\":1,\"fLabelColor\":1,\"fLabelFont\":42,\"fLabelOffset\":0.005,\"fLabelSize\":0.035,\"fTickLength\":0.03,\"fTitleOffset\":1,\"fTitleSize\":0.035,\"fTitleColor\":1,\"fTitleFont\":42,\"fNbins\":100,\"fXmin\":0.3,\"fXmax\":1.1,\"fXbins\":[],\"fFirst\":0,\"fLast\":0,\"fBits2\":0,\"fTimeDisplay\":false,\"fTimeFormat\":\"\",\"fLabels\":null,\"fModLabs\":null},\"fYaxis\":{\"_typename\":\"TAxis\",\"fUniqueID\":0,\"fBits\":50331648,\"fName\":\"yaxis\",\"fTitle\":\"\",\"fNdivisions\":510,\"fAxisColor\":1,\"fLabelColor\":1,\"fLabelFont\":42,\"fLabelOffset\":0.005,\"fLabelSize\":0.035,\"fTickLength\":0.03,\"fTitleOffset\":0,\"fTitleSize\":0.035,\"fTitleColor\":1,\"fTitleFont\":42,\"fNbins\":1,\"fXmin\":0,\"fXmax\":1,\"fXbins\":[],\"fFirst\":0,\"fLast\":0,\"fBits2\":0,\"fTimeDisplay\":false,\"fTimeFormat\":\"\",\"fLabels\":null,\"fModLabs\":null},\"fZaxis\":{\"_typename\":\"TAxis\",\"fUniqueID\":0,\"fBits\":50331648,\"fName\":\"zaxis\",\"fTitle\":\"\",\"fNdivisions\":510,\"fAxisColor\":1,\"fLabelColor\":1,\"fLabelFont\":42,\"fLabelOffset\":0.005,\"fLabelSize\":0.035,\"fTickLength\":0.03,\"fTitleOffset\":1,\"fTitleSize\":0.035,\"fTitleColor\":1,\"fTitleFont\":42,\"fNbins\":1,\"fXmin\":0,\"fXmax\":1,\"fXbins\":[],\"fFirst\":0,\"fLast\":0,\"fBits2\":0,\"fTimeDisplay\":false,\"fTimeFormat\":\"\",\"fLabels\":null,\"fModLabs\":null},\"fBarOffset\":0,\"fBarWidth\":1000,\"fEntries\":200000,\"fTsumw\":64946946234.1831,\"fTsumw2\":22037604980941304,\"fTsumwx\":55247176725.8589,\"fTsumwx2\":47745263591.7434,\"fMaximum\":-1111,\"fMinimum\":-1111,\"fNormFactor\":0,\"fContour\":[],\"fSumw2\":[1.25291711071735e-9,1.71271512388299e-10,1.86029474165819e-10,2.57924516749478e-10,1.77373862041329e-10,4.80858710106563e-10,3.63805776688077e-10,5.82415600471699e-10,7.55399709154245e-10,5.18631705786699e-10,8.81142379740417e-10,8.91917639712471e-10,9.76184329723323e-10,1.54076709963404e-9,1.79853133582911e-9,2.01268048970507e-9,1.99493845276382e-9,1.8850335593647e-9,2.07514788284766e-9,3.31392573271853e-9,2.81714376777395e-9,3.45367294393591e-9,3.71948684855067e-9,4.56802819116845e-9,5.13968130766947e-9,4.88618128129443e-9,6.48523472855938e-9,7.20011776126925e-9,7.35814284529491e-9,8.93770377724873e-9,8.71488812892201e-9,9.44803442064559e-9,1.09616915936409e-8,1.21752125586917e-8,1.33440423405243e-8,1.42575329987086e-8,1.60530185424819e-8,1.5572465112375e-8,1.82842005993695e-8,1.85999346600318e-8,1.99335437765556e-8,2.27337258526444e-8,2.52705351427466e-8,2.69135832142073e-8,2.8527568134807e-8,2.94450306557382e-8,3.26049748328988e-8,3.51150490376698e-8,3.4438118718191e-8,3.83186469582379e-8,4.11294828639884e-8,4.38325076036594e-8,4.58731169863797e-8,4.74843851191781e-8,5.27998293582521e-8,5.45928047908836e-8,5.83653238828629e-8,6.40846716827091e-8,6.61109619309122e-8,6.86983586017689e-8,7.30313154213392e-8,7.8326169401783e-8,8.38080297040015e-8,8.84908983091831e-8,9.38996537885089e-8,1.00886789121093e-7,1.00648896430664e-7,1.15287019445489e-7,1.19247348072803e-7,1.23745689161654e-7,1.36586784306328e-7,1.46238298701412e-7,1.53136989676761e-7,1.7194554841713e-7,1.7927359921984e-7,1.960938855822e-7,2.12494853682183e-7,2.31823930495499e-7,2.49685376482828e-7,2.69199209329688e-7,2.713045896163e-7,2.61536586465994e-7,2.38704056142717e-7,1.92200309986855e-7,1.36551636518475e-7,7.97768207412442e-8,3.90870474371747e-8,1.82705684332518e-8,7.71470516061505e-9,2.8376386465365e-9,1.55722557398188e-9,8.05228595866954e-10,5.41425784678116e-10,3.38997033227408e-10,6.65886112156723e-11,1.03468233530983e-11,2.82284501778445e-11,1.10972602442001e-10,6.34625903810719e-11,3.82502990919933e-11,1.87546499252291e-11,3.41977171107023e-10],\"fOption\":\"\",\"fFunctions\":{\"_typename\":\"TList\",\"name\":\"TList\",\"arr\":[],\"opt\":[]},\"fBufferSize\":0,\"fBuffer\":[],\"fBinStatErrOpt\":0,\"fStatOverflows\":2,\"fArray\":[2.4242769477254e-4,3.15522723470793e-5,3.81054757971116e-5,4.93096691608459e-5,3.21520514497082e-5,8.88594584601522e-5,6.79064396515208e-5,1.09084534578043e-4,1.45415783607049e-4,1.01587236552963e-4,1.70270778904335e-4,1.72134458567372e-4,1.85816526623468e-4,3.00569216281968e-4,3.30995920781168e-4,3.86182551740654e-4,3.87312861572984e-4,3.61192346248615e-4,3.96990290321106e-4,6.25279428098667e-4,5.50617886753596e-4,6.67140470079638e-4,7.0989744958824e-4,8.74855865813456e-4,9.84738127246227e-4,9.52344222032992e-4,0.00124622020064082,0.00135398186652245,0.00140832570222067,0.00166606848291441,0.00165528358936422,0.00183329258436967,0.00211181236480911,0.00232981354753958,0.00254296200544677,0.00273882812736635,0.00309758726675702,0.00298968196905105,0.00349908721684423,0.00357234653089257,0.00379886440841456,0.00433196786923083,0.00483819563326309,0.00514778474192093,0.00549684121482176,0.00566442054294039,0.00621035266605076,0.00664004929512431,0.00663221878609325,0.00733909422727117,0.00785846238825529,0.00836913316995159,0.00880113903530821,0.00908971796374865,0.0101035528104403,0.0104676523682053,0.0111882700944793,0.0121906481255041,0.0125969152344385,0.0131788848934985,0.0139888412834519,0.0150347212113253,0.0160898241149955,0.0168987449538744,0.0179873213661859,0.0193752999669279,0.0192533366935503,0.0221324937814737,0.0226851030008411,0.0237212702770312,0.0260382687417352,0.028058049135322,0.0293453240461785,0.0326810389014632,0.0343856458396538,0.0376448247093314,0.0406823973500306,0.0444450001783861,0.0479126013435135,0.0515064519685398,0.0517896641069493,0.0498687615321851,0.0454501841821555,0.0366799002947871,0.0261841232928368,0.0154253960695957,0.00760939733279852,0.0036031539782593,0.00153925902152901,5.70396364657496e-4,2.97877646276473e-4,1.58201202262793e-4,1.05282601723689e-4,7.21114916231509e-5,1.39491395503179e-5,3.21664784412255e-6,5.31304528287163e-6,2.33426452806861e-5,1.1093985608479e-5,8.71764511072062e-6,4.33066391275392e-6,6.5562013178743e-5]},{\"_typename\":\"TLegend\",\"fUniqueID\":0,\"fBits\":50331656,\"fLineColor\":0,\"fLineStyle\":1,\"fLineWidth\":1,\"fFillColor\":0,\"fFillStyle\":3001,\"fX1\":0.429999995976686,\"fY1\":0.0302004568594597,\"fX2\":0.770000001043081,\"fY2\":0.0590281664608827,\"fX1NDC\":0.23,\"fY1NDC\":0.32,\"fX2NDC\":0.57,\"fY2NDC\":0.53,\"fBorderSize\":0,\"fInit\":1,\"fShadowColor\":1,\"fCornerRadius\":0,\"fOption\":\"brNDC\",\"fName\":\"TPave\",\"fTextAngle\":0,\"fTextSize\":0.03,\"fTextAlign\":12,\"fTextColor\":1,\"fTextFont\":42,\"fPrimitives\":{\"_typename\":\"TList\",\"name\":\"TList\",\"arr\":[{\"_typename\":\"TLegendEntry\",\"fUniqueID\":0,\"fBits\":50331656,\"fTextAngle\":0,\"fTextSize\":0,\"fTextAlign\":0,\"fTextColor\":0,\"fTextFont\":42,\"fLineColor\":600,\"fLineStyle\":1,\"fLineWidth\":2,\"fFillColor\":0,\"fFillStyle\":0,\"fMarkerColor\":1,\"fMarkerStyle\":21,\"fMarkerSize\":1,\"fObject\":{\"$ref\":3},\"fLabel\":\"Signal (#gamma)\",\"fOption\":\"L\"},{\"_typename\":\"TLegendEntry\",\"fUniqueID\":0,\"fBits\":50331656,\"fTextAngle\":0,\"fTextSize\":0,\"fTextAlign\":0,\"fTextColor\":0,\"fTextFont\":42,\"fLineColor\":624,\"fLineStyle\":1,\"fLineWidth\":2,\"fFillColor\":0,\"fFillStyle\":0,\"fMarkerColor\":1,\"fMarkerStyle\":21,\"fMarkerSize\":1,\"fObject\":{\"$ref\":8},\"fLabel\":\"Background (jet)\",\"fOption\":\"L\"}],\"opt\":[\"L\",\"L\"]},\"fEntrySeparation\":0.1,\"fMargin\":0.25,\"fNColumns\":1,\"fColumnSeparation\":0},{\"_typename\":\"TPaveText\",\"fUniqueID\":0,\"fBits\":50331657,\"fLineColor\":1,\"fLineStyle\":1,\"fLineWidth\":1,\"fFillColor\":0,\"fFillStyle\":0,\"fX1\":0.650427134939699,\"fY1\":0.115310838129542,\"fX2\":0.749572865060301,\"fY2\":0.122860952661468,\"fX1NDC\":0.450427135678392,\"fY1NDC\":0.940000003948808,\"fX2NDC\":0.549572864321608,\"fY2NDC\":0.995000004768372,\"fBorderSize\":0,\"fInit\":1,\"fShadowColor\":1,\"fCornerRadius\":0,\"fOption\":\"blNDC\",\"fName\":\"title\",\"fTextAngle\":0,\"fTextSize\":0,\"fTextAlign\":22,\"fTextColor\":1,\"fTextFont\":42,\"fLabel\":\"\",\"fLongest\":4,\"fMargin\":0.05,\"fLines\":{\"_typename\":\"TList\",\"name\":\"TList\",\"arr\":[{\"_typename\":\"TLatex\",\"fUniqueID\":0,\"fBits\":50331648,\"fName\":\"\",\"fTitle\":\"Reta\",\"fTextAngle\":0,\"fTextSize\":0,\"fTextAlign\":0,\"fTextColor\":0,\"fTextFont\":0,\"fX\":0,\"fY\":0,\"fLineColor\":1,\"fLineStyle\":1,\"fLineWidth\":2,\"fLimitFactorSize\":3,\"fOriginSize\":0.0467500016093254}],\"opt\":[\"\"]}}],\"opt\":[\"\",\"hist\",\"hist same\",\"\",\"blNDC\"]},\"fExecs\":null,\"fName\":\"myCanvasName\",\"fTitle\":\"The Canvas Title\",\"fNumPaletteColor\":0,\"fNextPaletteColor\":0,\"fDISPLAY\":\"$DISPLAY\",\"fDoubleBuffer\":0,\"fRetained\":true,\"fXsizeUser\":0,\"fYsizeUser\":0,\"fXsizeReal\":20,\"fYsizeReal\":15,\"fWindowTopX\":0,\"fWindowTopY\":0,\"fWindowWidth\":0,\"fWindowHeight\":0,\"fCw\":796,\"fCh\":572,\"fCatt\":{\"_typename\":\"TAttCanvas\",\"fXBetween\":2,\"fYBetween\":2,\"fTitleFromTop\":1.2,\"fXdate\":0.2,\"fYdate\":0.3,\"fAdate\":1},\"kMoveOpaque\":true,\"kResizeOpaque\":true,\"fHighLightColor\":2,\"fBatch\":true,\"kShowEventStatus\":false,\"kAutoExec\":true,\"kMenuBar\":true});\n",
       "       Core.draw(\"root_plot_3\", obj, \"\");\n",
       "     }\n",
       " );\n",
       "</script>\n"
      ],
      "text/plain": [
       "<IPython.core.display.HTML object>"
      ]
     },
     "metadata": {},
     "output_type": "display_data"
    }
   ],
   "source": [
    "PlotRootHists([hReta_sig_weighted,hReta_bkg_weighted], ['Signal (#gamma)','Background (jet)'],UnitScale=True)"
   ]
  },
  {
   "cell_type": "markdown",
   "metadata": {},
   "source": [
    "We can see that the shapes of signal photon and background photon are different. It means that we can find a cut that rejects background events as much as possible while keeping interesting for us signal. But we have to be careful, as here we look at the distributions inclusive in $\\eta, E_T$ and `conversion type`.  \n",
    "\n",
    "Let's check what are Reta distributions for unconverted and converted photons. We also add $|\\eta|<0.6$ requirement."
   ]
  },
  {
   "cell_type": "code",
   "execution_count": 16,
   "metadata": {},
   "outputs": [
    {
     "data": {
      "text/html": [
       "\n",
       "<div id=\"root_plot_4\"\n",
       "     style=\"width: 796px; height: 572px\">\n",
       "</div>\n",
       "\n",
       "<script>\n",
       " requirejs.config({\n",
       "     paths: {\n",
       "       'JSRootCore' : 'https://root.cern.ch/js/notebook//scripts/JSRootCore',\n",
       "     }\n",
       "   });\n",
       " require(['JSRootCore'],\n",
       "     function(Core) {\n",
       "       var obj = Core.JSONR_unref({\"_typename\":\"TCanvas\",\"fUniqueID\":0,\"fBits\":53673992,\"fLineColor\":1,\"fLineStyle\":1,\"fLineWidth\":1,\"fFillColor\":0,\"fFillStyle\":1001,\"fLeftMargin\":0.1,\"fRightMargin\":0.1,\"fBottomMargin\":0.1,\"fTopMargin\":0.1,\"fXfile\":2,\"fYfile\":2,\"fAfile\":1,\"fXstat\":0.99,\"fYstat\":0.99,\"fAstat\":2,\"fFrameFillColor\":0,\"fFrameLineColor\":1,\"fFrameFillStyle\":1001,\"fFrameLineStyle\":1,\"fFrameLineWidth\":1,\"fFrameBorderSize\":1,\"fFrameBorderMode\":0,\"fX1\":0.199999992549419,\"fY1\":-0.0163927914389311,\"fX2\":1.20000000745058,\"fY2\":0.147535113179515,\"fXtoAbsPixelk\":-159.199941697073,\"fXtoPixelk\":-159.199941697073,\"fXtoPixel\":795.999988138675,\"fYtoAbsPixelk\":514.800046590614,\"fYtoPixelk\":514.800046590614,\"fYtoPixel\":-3489.33881227466,\"fUtoAbsPixelk\":5e-5,\"fUtoPixelk\":5e-5,\"fUtoPixel\":796,\"fVtoAbsPixelk\":572.00005,\"fVtoPixelk\":572,\"fVtoPixel\":-572,\"fAbsPixeltoXk\":0.199999992549419,\"fPixeltoXk\":0.199999992549419,\"fPixeltoX\":0.00125628142575523,\"fAbsPixeltoYk\":0.147535113179515,\"fPixeltoYk\":-0.0163927914389311,\"fPixeltoY\":-2.86587245836443e-4,\"fXlowNDC\":0,\"fYlowNDC\":0,\"fXUpNDC\":0,\"fYUpNDC\":0,\"fWNDC\":1,\"fHNDC\":1,\"fAbsXlowNDC\":0,\"fAbsYlowNDC\":0,\"fAbsWNDC\":1,\"fAbsHNDC\":1,\"fUxmin\":0.3,\"fUymin\":0,\"fUxmax\":1.1,\"fUymax\":0.131142321740583,\"fTheta\":30,\"fPhi\":30,\"fAspectRatio\":0,\"fNumber\":0,\"fTickx\":0,\"fTicky\":0,\"fLogx\":0,\"fLogy\":0,\"fLogz\":0,\"fPadPaint\":0,\"fCrosshair\":0,\"fCrosshairPos\":0,\"fBorderSize\":2,\"fBorderMode\":0,\"fModified\":false,\"fGridx\":false,\"fGridy\":false,\"fAbsCoord\":false,\"fEditable\":true,\"fFixedAspectRatio\":false,\"fPrimitives\":{\"_typename\":\"TList\",\"name\":\"TList\",\"arr\":[{\"_typename\":\"TFrame\",\"fUniqueID\":0,\"fBits\":50331656,\"fLineColor\":1,\"fLineStyle\":1,\"fLineWidth\":1,\"fFillColor\":0,\"fFillStyle\":1001,\"fX1\":0.3,\"fY1\":0,\"fX2\":1.1,\"fY2\":0.131142321740583,\"fBorderSize\":1,\"fBorderMode\":0},{\"_typename\":\"TH1D\",\"fUniqueID\":0,\"fBits\":50332168,\"fName\":\"hReta_sig_unconv\",\"fTitle\":\"Reta\",\"fLineColor\":600,\"fLineStyle\":1,\"fLineWidth\":2,\"fFillColor\":0,\"fFillStyle\":1001,\"fMarkerColor\":1,\"fMarkerStyle\":1,\"fMarkerSize\":1,\"fNcells\":102,\"fXaxis\":{\"_typename\":\"TAxis\",\"fUniqueID\":0,\"fBits\":50331656,\"fName\":\"xaxis\",\"fTitle\":\"R_{#eta}\",\"fNdivisions\":510,\"fAxisColor\":1,\"fLabelColor\":1,\"fLabelFont\":42,\"fLabelOffset\":0.005,\"fLabelSize\":0.035,\"fTickLength\":0.03,\"fTitleOffset\":1,\"fTitleSize\":0.035,\"fTitleColor\":1,\"fTitleFont\":42,\"fNbins\":100,\"fXmin\":0.3,\"fXmax\":1.1,\"fXbins\":[],\"fFirst\":0,\"fLast\":0,\"fBits2\":0,\"fTimeDisplay\":false,\"fTimeFormat\":\"\",\"fLabels\":null,\"fModLabs\":null},\"fYaxis\":{\"_typename\":\"TAxis\",\"fUniqueID\":0,\"fBits\":50331648,\"fName\":\"yaxis\",\"fTitle\":\"\",\"fNdivisions\":510,\"fAxisColor\":1,\"fLabelColor\":1,\"fLabelFont\":42,\"fLabelOffset\":0.005,\"fLabelSize\":0.035,\"fTickLength\":0.03,\"fTitleOffset\":0,\"fTitleSize\":0.035,\"fTitleColor\":1,\"fTitleFont\":42,\"fNbins\":1,\"fXmin\":0,\"fXmax\":1,\"fXbins\":[],\"fFirst\":0,\"fLast\":0,\"fBits2\":0,\"fTimeDisplay\":false,\"fTimeFormat\":\"\",\"fLabels\":null,\"fModLabs\":null},\"fZaxis\":{\"_typename\":\"TAxis\",\"fUniqueID\":0,\"fBits\":50331648,\"fName\":\"zaxis\",\"fTitle\":\"\",\"fNdivisions\":510,\"fAxisColor\":1,\"fLabelColor\":1,\"fLabelFont\":42,\"fLabelOffset\":0.005,\"fLabelSize\":0.035,\"fTickLength\":0.03,\"fTitleOffset\":1,\"fTitleSize\":0.035,\"fTitleColor\":1,\"fTitleFont\":42,\"fNbins\":1,\"fXmin\":0,\"fXmax\":1,\"fXbins\":[],\"fFirst\":0,\"fLast\":0,\"fBits2\":0,\"fTimeDisplay\":false,\"fTimeFormat\":\"\",\"fLabels\":null,\"fModLabs\":null},\"fBarOffset\":0,\"fBarWidth\":1000,\"fEntries\":85897,\"fTsumw\":872481002.801475,\"fTsumw2\":21563592206851.1,\"fTsumwx\":809794106.231662,\"fTsumwx2\":756106681.213881,\"fMaximum\":-1111,\"fMinimum\":-1111,\"fNormFactor\":0,\"fContour\":[],\"fSumw2\":[3.8732041350534e-10,8.19939885412954e-11,0,0,0,0,6.73519587178788e-9,0,0,4.58299460588566e-9,3.88633839268458e-9,0,3.65845611164341e-11,5.40831660019957e-9,3.06989172699234e-9,0,5.12359055069638e-9,7.01387813311265e-9,1.02019365592646e-8,1.2199123611547e-8,1.57195616722941e-10,1.25911091483413e-8,2.32449637179771e-8,2.54783968575469e-9,7.13208461992199e-9,3.2088453020869e-8,3.98125910494408e-8,1.59421486323239e-8,1.84864442476076e-8,3.42123981858426e-8,3.86199994019731e-8,2.23741880559927e-8,2.7564019591492e-9,5.66983776500018e-8,3.15553069127297e-8,1.90986215031358e-8,8.40442020838022e-8,6.39678145641382e-8,4.500366166154e-8,5.05763480613701e-8,3.52158386703866e-8,1.007131793704e-7,5.75847847383748e-8,9.34839235192937e-8,6.53564442602552e-8,7.499890271186e-8,1.08743472206398e-7,7.72633487789396e-8,9.87052122740257e-8,1.54119426509643e-7,1.15986367418543e-7,1.17091795185043e-7,1.52362912234406e-7,1.85758662588966e-7,2.0410272979708e-7,1.30047879255075e-7,1.87156678935536e-7,2.40457254859738e-7,3.28885475441886e-7,2.27602135536229e-7,2.75785663961143e-7,2.83461577289586e-7,3.41543401703899e-7,2.82238191834485e-7,3.39751175222632e-7,3.36339488300115e-7,4.119135350576e-7,4.12686162301239e-7,4.21683067465887e-7,5.97276829542373e-7,4.78250825522952e-7,5.05900929880999e-7,5.64966434761317e-7,5.7923720203998e-7,7.17350244042724e-7,8.06477085281792e-7,8.2281269962092e-7,1.0414619285659e-6,1.1639125305324e-6,1.537896312249e-6,1.79884764868838e-6,1.96082619701199e-6,2.33315895005435e-6,2.16886811607022e-6,2.03447910821496e-6,1.26390125215149e-6,7.67503540885525e-7,3.09801567345031e-7,1.69464605552585e-7,7.75273070340953e-8,4.89255471734289e-8,4.2014932677825e-8,1.02013758945259e-8,2.7856207639986e-9,3.24615198775066e-9,2.2577607600418e-11,6.67148769288837e-11,8.59801812327488e-11,0,0,0,1.33232785587951e-8],\"fOption\":\"\",\"fFunctions\":{\"_typename\":\"TList\",\"name\":\"TList\",\"arr\":[],\"opt\":[]},\"fBufferSize\":0,\"fBuffer\":[],\"fBinStatErrOpt\":0,\"fStatOverflows\":2,\"fArray\":[4.76353787281566e-5,9.05505320477441e-6,0,0,0,0,8.20682391171389e-5,0,0,6.76978183244161e-5,6.23405036287371e-5,0,6.04851726594495e-6,7.35412578094743e-5,7.12366762117559e-5,0,8.90425329570469e-5,9.39051551925349e-5,1.41891468899761e-4,1.51481298253816e-4,1.77226734445052e-5,1.66508248373842e-4,2.86587512322198e-4,8.15670238540837e-5,1.39600145292415e-4,4.23851784630164e-4,4.43478611921558e-4,2.25237010483714e-4,2.84723742195472e-4,4.98793300602913e-4,5.01844579491739e-4,3.82163807445664e-4,1.15067297824832e-4,7.53697074523112e-4,4.86427565135856e-4,3.34026988711213e-4,0.00111139627123349,9.69397485423369e-4,6.32345331250657e-4,7.74442903943045e-4,5.34750713603256e-4,0.00147934628456242,9.151012802554e-4,0.00145147340932073,9.80802159322623e-4,0.00116177618352135,0.00163810272054532,0.00116492226665654,0.00141119766181915,0.00210409400203158,0.00177225424845317,0.00168285432278436,0.00221131968949938,0.00238913507654032,0.00283411685539201,0.00207484509913717,0.0028776083581729,0.0033231187215586,0.00433831902337541,0.00342638260191631,0.00378566549423679,0.00400113014997293,0.00476755225504858,0.00424841634866244,0.0049760836630037,0.00501955200643885,0.00592385984226488,0.00617104590739138,0.00640731079042808,0.00876467580871233,0.00739318924146678,0.00814867957024371,0.00905384627602596,0.00968503930165823,0.0124888155637889,0.0155202711935519,0.0182142686588403,0.0259013656362258,0.0363932536862542,0.0561978111590887,0.0776755006890106,0.0986019393266302,0.119723511981298,0.124897449276746,0.116033524617185,0.0814773344991777,0.04531677932859,0.0196652597698266,0.00846986543064841,0.00301021265463398,0.0014197923466344,8.13887881444371e-4,3.38046240969887e-4,1.27589751061618e-4,9.65730379773532e-5,4.75159000760987e-6,8.16791753930484e-6,9.27254987760911e-6,0,0,0,2.03049029761329e-4]},{\"_typename\":\"TH1D\",\"fUniqueID\":0,\"fBits\":50332168,\"fName\":\"hReta_sig_conv\",\"fTitle\":\"Reta\",\"fLineColor\":624,\"fLineStyle\":1,\"fLineWidth\":2,\"fFillColor\":0,\"fFillStyle\":1001,\"fMarkerColor\":1,\"fMarkerStyle\":1,\"fMarkerSize\":1,\"fNcells\":102,\"fXaxis\":{\"_typename\":\"TAxis\",\"fUniqueID\":0,\"fBits\":50331648,\"fName\":\"xaxis\",\"fTitle\":\"\",\"fNdivisions\":510,\"fAxisColor\":1,\"fLabelColor\":1,\"fLabelFont\":42,\"fLabelOffset\":0.005,\"fLabelSize\":0.035,\"fTickLength\":0.03,\"fTitleOffset\":1,\"fTitleSize\":0.035,\"fTitleColor\":1,\"fTitleFont\":42,\"fNbins\":100,\"fXmin\":0.3,\"fXmax\":1.1,\"fXbins\":[],\"fFirst\":0,\"fLast\":0,\"fBits2\":0,\"fTimeDisplay\":false,\"fTimeFormat\":\"\",\"fLabels\":null,\"fModLabs\":null},\"fYaxis\":{\"_typename\":\"TAxis\",\"fUniqueID\":0,\"fBits\":50331648,\"fName\":\"yaxis\",\"fTitle\":\"\",\"fNdivisions\":510,\"fAxisColor\":1,\"fLabelColor\":1,\"fLabelFont\":42,\"fLabelOffset\":0.005,\"fLabelSize\":0.035,\"fTickLength\":0.03,\"fTitleOffset\":0,\"fTitleSize\":0.035,\"fTitleColor\":1,\"fTitleFont\":42,\"fNbins\":1,\"fXmin\":0,\"fXmax\":1,\"fXbins\":[],\"fFirst\":0,\"fLast\":0,\"fBits2\":0,\"fTimeDisplay\":false,\"fTimeFormat\":\"\",\"fLabels\":null,\"fModLabs\":null},\"fZaxis\":{\"_typename\":\"TAxis\",\"fUniqueID\":0,\"fBits\":50331648,\"fName\":\"zaxis\",\"fTitle\":\"\",\"fNdivisions\":510,\"fAxisColor\":1,\"fLabelColor\":1,\"fLabelFont\":42,\"fLabelOffset\":0.005,\"fLabelSize\":0.035,\"fTickLength\":0.03,\"fTitleOffset\":1,\"fTitleSize\":0.035,\"fTitleColor\":1,\"fTitleFont\":42,\"fNbins\":1,\"fXmin\":0,\"fXmax\":1,\"fXbins\":[],\"fFirst\":0,\"fLast\":0,\"fBits2\":0,\"fTimeDisplay\":false,\"fTimeFormat\":\"\",\"fLabels\":null,\"fModLabs\":null},\"fBarOffset\":0,\"fBarWidth\":1000,\"fEntries\":41696,\"fTsumw\":544801873.617173,\"fTsumw2\":19712147085379.1,\"fTsumwx\":482710577.860652,\"fTsumwx2\":433362095.793825,\"fMaximum\":-1111,\"fMinimum\":-1111,\"fNormFactor\":0,\"fContour\":[],\"fSumw2\":[8.40118778564527e-9,0,0,1.72487788013234e-8,0,7.24226986965883e-9,1.86807944200106e-8,0,0,0,4.63623475595166e-8,4.33021161987486e-8,0,1.72616667954742e-8,7.41546805722206e-8,6.65470810655845e-10,3.70710476993654e-8,2.63087056673477e-8,7.85121886621232e-8,3.44466264612725e-8,1.27406279112129e-7,7.14284341683115e-8,8.92482891230284e-8,1.27884702794797e-7,7.00296274363411e-8,1.16131239337088e-7,6.68989358202151e-8,1.40743825876092e-7,1.01414520597657e-7,1.35204513639286e-7,2.06112537062308e-7,1.61063832750048e-7,1.20240490622512e-7,2.00041173729594e-7,1.79137625299403e-7,2.41739742922143e-7,2.00209312396711e-7,2.6345918421039e-7,2.67915072996129e-7,3.25624462901818e-7,2.75097968319526e-7,1.83311028042123e-7,2.90541973829892e-7,3.08183122424212e-7,5.35332645267389e-7,3.95131507544847e-7,2.91699192868649e-7,6.25699343786293e-7,5.22539260728993e-7,4.561368650739e-7,5.19349262165847e-7,5.26587990556783e-7,5.14046588607279e-7,8.16968376881456e-7,6.08618961542732e-7,8.10787410126087e-7,1.02501349278076e-6,9.45781444832643e-7,8.89382422284558e-7,1.01895374752906e-6,9.24701708895754e-7,9.16295274121497e-7,1.07826006421289e-6,1.20401231700202e-6,1.12925019936573e-6,1.0593006842645e-6,1.43209729334624e-6,1.30350780093154e-6,1.44321755858439e-6,1.57047646599819e-6,1.24833233485476e-6,1.74045203120528e-6,1.76730289262421e-6,1.77843052977036e-6,1.85001123664944e-6,2.11196576873796e-6,2.38786688184083e-6,2.88139297430399e-6,3.10195052696695e-6,3.66418592299544e-6,3.5577408754351e-6,3.24536960223555e-6,2.81658977512807e-6,2.23989473481697e-6,1.68344444334987e-6,9.98089042061603e-7,7.25114275729075e-7,4.96743774448795e-7,2.87224518339292e-7,1.18719871555222e-7,1.12631838815679e-7,8.79651548661171e-8,1.13222188390589e-7,3.72849928978797e-8,2.60409956677891e-8,2.12915904694055e-8,4.90082828923252e-8,2.46716034641706e-10,3.12340120360902e-8,7.71550171958082e-11,2.60377576590995e-10,4.7526621441671e-8],\"fOption\":\"\",\"fFunctions\":{\"_typename\":\"TList\",\"name\":\"TList\",\"arr\":[],\"opt\":[]},\"fBufferSize\":0,\"fBuffer\":[],\"fBinStatErrOpt\":0,\"fStatOverflows\":2,\"fArray\":[1.3405340292725e-4,0,0,1.31334606259445e-4,0,1.00662748440916e-4,1.36677702717051e-4,0,0,0,3.705879746131e-4,3.56296649510794e-4,0,1.46605761658914e-4,5.55776785435372e-4,4.42907675879473e-5,2.72035494754132e-4,2.0378534817547e-4,6.54509676303616e-4,2.76348890580474e-4,0.00111732926420343,6.59088787294753e-4,7.53026312671336e-4,0.00103034552807916,6.04732881234109e-4,9.79721975987383e-4,6.3354640731159e-4,0.0011714903359533,8.20696434101895e-4,0.00107605491292504,0.00173960670735487,0.00136240635798751,0.00112971989954776,0.00173815449513231,0.00153840325311282,0.00208801771284428,0.00189128050114672,0.00214694024642752,0.00237767199145515,0.00269987420161443,0.00244952205589518,0.00178045849314689,0.00277102767834789,0.00268917269823153,0.00453953810603605,0.00361275084415749,0.00278308395983527,0.00517290520958529,0.00477691140679495,0.00414425304798305,0.00448790930631589,0.00483200293046641,0.00448422314787419,0.00698218833928867,0.005460970199616,0.00693792726524246,0.00877346298080522,0.00830886025363881,0.00824420694026393,0.00864331087550707,0.00813653369429257,0.00808130830820112,0.00958594231878539,0.0106619757799388,0.0101148794393476,0.00944599649452164,0.0123968341433634,0.0120176847311705,0.012981653142699,0.0145297736185135,0.0126578517989548,0.0164883317929645,0.0185605379468181,0.0191214145905546,0.0220048890221495,0.0268541096950671,0.0344490634173477,0.0464337827713016,0.0607283199860821,0.0774697322433422,0.082556732686034,0.0828125588553901,0.0759900107223872,0.0622714769391663,0.0466087446562708,0.0297660913470423,0.0188068196247707,0.0110924615157365,0.00612722276944608,0.002782269957342,0.00175483955889006,0.00118623291184635,0.00116021548403873,3.98792424364263e-4,2.6594137819527e-4,2.85648255979078e-4,4.47526493627244e-4,1.57071969059316e-5,2.43465923423962e-4,8.7837928707255e-6,1.61362194020469e-5,3.95361228731584e-4]},{\"_typename\":\"TLegend\",\"fUniqueID\":0,\"fBits\":50331656,\"fLineColor\":0,\"fLineStyle\":1,\"fLineWidth\":1,\"fFillColor\":0,\"fFillStyle\":3001,\"fX1\":0.429999995976686,\"fY1\":0.0360641380389715,\"fX2\":0.770000001043081,\"fY2\":0.0704889980088451,\"fX1NDC\":0.23,\"fY1NDC\":0.32,\"fX2NDC\":0.57,\"fY2NDC\":0.53,\"fBorderSize\":0,\"fInit\":1,\"fShadowColor\":1,\"fCornerRadius\":0,\"fOption\":\"brNDC\",\"fName\":\"TPave\",\"fTextAngle\":0,\"fTextSize\":0.03,\"fTextAlign\":12,\"fTextColor\":1,\"fTextFont\":42,\"fPrimitives\":{\"_typename\":\"TList\",\"name\":\"TList\",\"arr\":[{\"_typename\":\"TLegendEntry\",\"fUniqueID\":0,\"fBits\":50331656,\"fTextAngle\":0,\"fTextSize\":0,\"fTextAlign\":0,\"fTextColor\":0,\"fTextFont\":42,\"fLineColor\":600,\"fLineStyle\":1,\"fLineWidth\":2,\"fFillColor\":0,\"fFillStyle\":0,\"fMarkerColor\":1,\"fMarkerStyle\":21,\"fMarkerSize\":1,\"fObject\":{\"$ref\":3},\"fLabel\":\"unconv-#gamma\",\"fOption\":\"L\"},{\"_typename\":\"TLegendEntry\",\"fUniqueID\":0,\"fBits\":50331656,\"fTextAngle\":0,\"fTextSize\":0,\"fTextAlign\":0,\"fTextColor\":0,\"fTextFont\":42,\"fLineColor\":624,\"fLineStyle\":1,\"fLineWidth\":2,\"fFillColor\":0,\"fFillStyle\":0,\"fMarkerColor\":1,\"fMarkerStyle\":21,\"fMarkerSize\":1,\"fObject\":{\"$ref\":8},\"fLabel\":\"conv-#gamma\",\"fOption\":\"L\"}],\"opt\":[\"L\",\"L\"]},\"fEntrySeparation\":0.1,\"fMargin\":0.25,\"fNColumns\":1,\"fColumnSeparation\":0},{\"_typename\":\"TPaveText\",\"fUniqueID\":0,\"fBits\":50331657,\"fLineColor\":1,\"fLineStyle\":1,\"fLineWidth\":1,\"fFillColor\":0,\"fFillStyle\":0,\"fX1\":0.650427134939699,\"fY1\":0.137699439549728,\"fX2\":0.749572865060301,\"fY2\":0.146715474438091,\"fX1NDC\":0.450427135678392,\"fY1NDC\":0.940000003948808,\"fX2NDC\":0.549572864321608,\"fY2NDC\":0.995000004768372,\"fBorderSize\":0,\"fInit\":1,\"fShadowColor\":1,\"fCornerRadius\":0,\"fOption\":\"blNDC\",\"fName\":\"title\",\"fTextAngle\":0,\"fTextSize\":0,\"fTextAlign\":22,\"fTextColor\":1,\"fTextFont\":42,\"fLabel\":\"\",\"fLongest\":4,\"fMargin\":0.05,\"fLines\":{\"_typename\":\"TList\",\"name\":\"TList\",\"arr\":[{\"_typename\":\"TLatex\",\"fUniqueID\":0,\"fBits\":50331648,\"fName\":\"\",\"fTitle\":\"Reta\",\"fTextAngle\":0,\"fTextSize\":0,\"fTextAlign\":0,\"fTextColor\":0,\"fTextFont\":0,\"fX\":0,\"fY\":0,\"fLineColor\":1,\"fLineStyle\":1,\"fLineWidth\":2,\"fLimitFactorSize\":3,\"fOriginSize\":0.0467500016093254}],\"opt\":[\"\"]}}],\"opt\":[\"\",\"hist\",\"hist same\",\"\",\"blNDC\"]},\"fExecs\":null,\"fName\":\"myCanvasName\",\"fTitle\":\"The Canvas Title\",\"fNumPaletteColor\":0,\"fNextPaletteColor\":0,\"fDISPLAY\":\"$DISPLAY\",\"fDoubleBuffer\":0,\"fRetained\":true,\"fXsizeUser\":0,\"fYsizeUser\":0,\"fXsizeReal\":20,\"fYsizeReal\":15,\"fWindowTopX\":0,\"fWindowTopY\":0,\"fWindowWidth\":0,\"fWindowHeight\":0,\"fCw\":796,\"fCh\":572,\"fCatt\":{\"_typename\":\"TAttCanvas\",\"fXBetween\":2,\"fYBetween\":2,\"fTitleFromTop\":1.2,\"fXdate\":0.2,\"fYdate\":0.3,\"fAdate\":1},\"kMoveOpaque\":true,\"kResizeOpaque\":true,\"fHighLightColor\":2,\"fBatch\":true,\"kShowEventStatus\":false,\"kAutoExec\":true,\"kMenuBar\":true});\n",
       "       Core.draw(\"root_plot_4\", obj, \"\");\n",
       "     }\n",
       " );\n",
       "</script>\n"
      ],
      "text/plain": [
       "<IPython.core.display.HTML object>"
      ]
     },
     "metadata": {},
     "output_type": "display_data"
    }
   ],
   "source": [
    "hReta_sig_unconv = ROOT.TH1D(\"hReta_sig_unconv\",\"Reta\",100,0.3,1.1)\n",
    "hReta_sig_conv = ROOT.TH1D(\"hReta_sig_conv\",\"Reta\",100,0.3,1.1)\n",
    "\n",
    "rootnp.fill_hist(hReta_sig_unconv, df[ (df['class']==1) & (df['y_convType']==0) & (abs(df['y_eta'])<0.6) ]['y_Reta'].values, df[ (df['class']==1) & (df['y_convType']==0) & (abs(df['y_eta'])<0.6) ]['mcTotWeight'].values)\n",
    "rootnp.fill_hist(hReta_sig_conv, df[ (df['class']==1) & (df['y_convType']!=0) & (abs(df['y_eta'])<0.6) ]['y_Reta'].values, df[ (df['class']==1) & (df['y_convType']!=0) & (abs(df['y_eta'])<0.6) ]['mcTotWeight'].values)\n",
    "\n",
    "hReta_sig_unconv.GetXaxis().SetTitle(\"R_{#eta}\")\n",
    "PlotRootHists([hReta_sig_unconv,hReta_sig_conv], ['unconv-#gamma','conv-#gamma'],UnitScale=True)"
   ]
  },
  {
   "cell_type": "markdown",
   "metadata": {},
   "source": [
    "Let's check the same for Rphi distributions as it's expected Rphi should have the largest difference between converted and unconverted photons."
   ]
  },
  {
   "cell_type": "code",
   "execution_count": 17,
   "metadata": {},
   "outputs": [
    {
     "data": {
      "text/html": [
       "\n",
       "<div id=\"root_plot_5\"\n",
       "     style=\"width: 796px; height: 572px\">\n",
       "</div>\n",
       "\n",
       "<script>\n",
       " requirejs.config({\n",
       "     paths: {\n",
       "       'JSRootCore' : 'https://root.cern.ch/js/notebook//scripts/JSRootCore',\n",
       "     }\n",
       "   });\n",
       " require(['JSRootCore'],\n",
       "     function(Core) {\n",
       "       var obj = Core.JSONR_unref({\"_typename\":\"TCanvas\",\"fUniqueID\":0,\"fBits\":53673992,\"fLineColor\":1,\"fLineStyle\":1,\"fLineWidth\":1,\"fFillColor\":0,\"fFillStyle\":1001,\"fLeftMargin\":0.1,\"fRightMargin\":0.1,\"fBottomMargin\":0.1,\"fTopMargin\":0.1,\"fXfile\":2,\"fYfile\":2,\"fAfile\":1,\"fXstat\":0.99,\"fYstat\":0.99,\"fAstat\":2,\"fFrameFillColor\":0,\"fFrameLineColor\":1,\"fFrameFillStyle\":1001,\"fFrameLineStyle\":1,\"fFrameLineWidth\":1,\"fFrameBorderSize\":1,\"fFrameBorderMode\":0,\"fX1\":0.199999992549419,\"fY1\":-0.0197909957619943,\"fX2\":1.20000000745058,\"fY2\":0.178118950061596,\"fXtoAbsPixelk\":-159.199941697073,\"fXtoPixelk\":-159.199941697073,\"fXtoPixel\":795.999988138675,\"fYtoAbsPixelk\":514.800046590614,\"fYtoPixelk\":514.800046590614,\"fYtoPixel\":-2890.20340852328,\"fUtoAbsPixelk\":5e-5,\"fUtoPixelk\":5e-5,\"fUtoPixel\":796,\"fVtoAbsPixelk\":572.00005,\"fVtoPixelk\":572,\"fVtoPixel\":-572,\"fAbsPixeltoXk\":0.199999992549419,\"fPixeltoXk\":0.199999992549419,\"fPixeltoX\":0.00125628142575523,\"fAbsPixeltoYk\":0.178118950061596,\"fPixeltoYk\":-0.0197909957619943,\"fPixeltoY\":-3.45996408782501e-4,\"fXlowNDC\":0,\"fYlowNDC\":0,\"fXUpNDC\":0,\"fYUpNDC\":0,\"fWNDC\":1,\"fHNDC\":1,\"fAbsXlowNDC\":0,\"fAbsYlowNDC\":0,\"fAbsWNDC\":1,\"fAbsHNDC\":1,\"fUxmin\":0.3,\"fUymin\":0,\"fUxmax\":1.1,\"fUymax\":0.158327954299602,\"fTheta\":30,\"fPhi\":30,\"fAspectRatio\":0,\"fNumber\":0,\"fTickx\":0,\"fTicky\":0,\"fLogx\":0,\"fLogy\":0,\"fLogz\":0,\"fPadPaint\":0,\"fCrosshair\":0,\"fCrosshairPos\":0,\"fBorderSize\":2,\"fBorderMode\":0,\"fModified\":false,\"fGridx\":false,\"fGridy\":false,\"fAbsCoord\":false,\"fEditable\":true,\"fFixedAspectRatio\":false,\"fPrimitives\":{\"_typename\":\"TList\",\"name\":\"TList\",\"arr\":[{\"_typename\":\"TFrame\",\"fUniqueID\":0,\"fBits\":50331656,\"fLineColor\":1,\"fLineStyle\":1,\"fLineWidth\":1,\"fFillColor\":0,\"fFillStyle\":1001,\"fX1\":0.3,\"fY1\":0,\"fX2\":1.1,\"fY2\":0.158327954299602,\"fBorderSize\":1,\"fBorderMode\":0},{\"_typename\":\"TH1D\",\"fUniqueID\":0,\"fBits\":50332168,\"fName\":\"hRphi_sig_unconv\",\"fTitle\":\"Rphi\",\"fLineColor\":600,\"fLineStyle\":1,\"fLineWidth\":2,\"fFillColor\":0,\"fFillStyle\":1001,\"fMarkerColor\":1,\"fMarkerStyle\":1,\"fMarkerSize\":1,\"fNcells\":102,\"fXaxis\":{\"_typename\":\"TAxis\",\"fUniqueID\":0,\"fBits\":50331656,\"fName\":\"xaxis\",\"fTitle\":\"R_{#phi}\",\"fNdivisions\":510,\"fAxisColor\":1,\"fLabelColor\":1,\"fLabelFont\":42,\"fLabelOffset\":0.005,\"fLabelSize\":0.035,\"fTickLength\":0.03,\"fTitleOffset\":1,\"fTitleSize\":0.035,\"fTitleColor\":1,\"fTitleFont\":42,\"fNbins\":100,\"fXmin\":0.3,\"fXmax\":1.1,\"fXbins\":[],\"fFirst\":0,\"fLast\":0,\"fBits2\":0,\"fTimeDisplay\":false,\"fTimeFormat\":\"\",\"fLabels\":null,\"fModLabs\":null},\"fYaxis\":{\"_typename\":\"TAxis\",\"fUniqueID\":0,\"fBits\":50331648,\"fName\":\"yaxis\",\"fTitle\":\"\",\"fNdivisions\":510,\"fAxisColor\":1,\"fLabelColor\":1,\"fLabelFont\":42,\"fLabelOffset\":0.005,\"fLabelSize\":0.035,\"fTickLength\":0.03,\"fTitleOffset\":0,\"fTitleSize\":0.035,\"fTitleColor\":1,\"fTitleFont\":42,\"fNbins\":1,\"fXmin\":0,\"fXmax\":1,\"fXbins\":[],\"fFirst\":0,\"fLast\":0,\"fBits2\":0,\"fTimeDisplay\":false,\"fTimeFormat\":\"\",\"fLabels\":null,\"fModLabs\":null},\"fZaxis\":{\"_typename\":\"TAxis\",\"fUniqueID\":0,\"fBits\":50331648,\"fName\":\"zaxis\",\"fTitle\":\"\",\"fNdivisions\":510,\"fAxisColor\":1,\"fLabelColor\":1,\"fLabelFont\":42,\"fLabelOffset\":0.005,\"fLabelSize\":0.035,\"fTickLength\":0.03,\"fTitleOffset\":1,\"fTitleSize\":0.035,\"fTitleColor\":1,\"fTitleFont\":42,\"fNbins\":1,\"fXmin\":0,\"fXmax\":1,\"fXbins\":[],\"fFirst\":0,\"fLast\":0,\"fBits2\":0,\"fTimeDisplay\":false,\"fTimeFormat\":\"\",\"fLabels\":null,\"fModLabs\":null},\"fBarOffset\":0,\"fBarWidth\":1000,\"fEntries\":85897,\"fTsumw\":872329462.608508,\"fTsumw2\":21555840434536.3,\"fTsumwx\":816897325.439311,\"fTsumwx2\":770121797.062611,\"fMaximum\":-1111,\"fMinimum\":-1111,\"fNormFactor\":0,\"fContour\":[],\"fSumw2\":[1.09289204498352e-8,0,4.29520662397801e-9,0,4.16107047054203e-9,6.45714711495521e-9,0,8.20224788414426e-11,0,0,0,4.30813373072638e-9,7.79174864749752e-9,5.14093800054737e-11,7.36440889967955e-11,6.63797840434466e-11,7.30068166995238e-9,6.95417846761162e-9,2.25065646790286e-8,1.89063896633278e-10,9.74479120140255e-9,2.4253645866251e-8,5.73331485627603e-9,6.34604324338744e-9,6.22612674783402e-9,5.72026731145834e-9,1.87126214378908e-8,4.11928117618204e-8,4.76959397053436e-8,2.15990398770091e-8,3.18541065743154e-8,2.91861663105097e-8,6.48657408621927e-8,1.01104746220766e-8,7.34027177791666e-8,3.75092909633205e-8,5.51646984497053e-8,1.01245494504742e-7,4.99179990454833e-8,6.8855443964734e-8,4.7783089945202e-8,6.14704361365389e-8,1.16521426611385e-7,1.05396491703933e-7,1.12110908393622e-7,1.28286866518359e-7,9.58686794442688e-8,1.11087818426791e-7,1.54128294538065e-7,8.62815352188737e-8,1.41805970926163e-7,1.75341627771762e-7,1.40386928441051e-7,2.0491852064098e-7,2.10001102271368e-7,2.24484620052791e-7,2.18405740154352e-7,1.83086203577472e-7,2.23075303199264e-7,2.52933597615221e-7,2.00138429445802e-7,2.1804016101965e-7,3.00581451313644e-7,3.24073137199255e-7,3.33337419423379e-7,2.63044117331309e-7,3.33086990528784e-7,3.74655303380537e-7,4.82609111363406e-7,4.3353421992265e-7,5.68717930311954e-7,4.6655224971585e-7,5.25784544041959e-7,5.42013110838821e-7,5.85328074707824e-7,5.71099831277883e-7,7.24623194040809e-7,7.11991090083902e-7,8.15995809062212e-7,1.0048077865652e-6,1.14934190624293e-6,1.5253252157528e-6,1.86552500743996e-6,2.38449597675526e-6,2.52204518101506e-6,2.51622514677361e-6,1.75695025885012e-6,7.63433610391488e-7,2.13926066871649e-7,6.06291543245758e-8,2.09147311387641e-8,6.55028455233386e-10,2.17774704134968e-10,3.00653857941821e-10,1.43244661026689e-10,1.22905856617798e-10,0,0,0,0,0,1.2973292873882e-8],\"fOption\":\"\",\"fFunctions\":{\"_typename\":\"TList\",\"name\":\"TList\",\"arr\":[],\"opt\":[]},\"fBufferSize\":0,\"fBuffer\":[],\"fBinStatErrOpt\":0,\"fStatOverflows\":2,\"fArray\":[2.46522717880793e-4,0,6.55378259021309e-5,0,6.45063599232047e-5,8.03563756957418e-5,0,9.05662623946923e-6,0,0,0,6.56363750577862e-5,1.24304857915039e-4,7.17003347310692e-6,8.58161342620346e-6,8.14737896770775e-6,8.54440265317147e-5,8.33917170204069e-5,2.87168549964926e-4,2.37291927594018e-5,1.5508961501634e-4,2.68731380853506e-4,1.04379861595182e-4,8.83649571537295e-5,8.68416177298465e-5,8.34627214788633e-5,3.06379104935598e-4,5.10732425030762e-4,6.09076797720731e-4,3.14106574699269e-4,4.47325281424256e-4,4.28879985965513e-4,8.52556533532776e-4,1.96061522221741e-4,9.63716327209595e-4,4.96476000633976e-4,8.87299779649624e-4,0.00133415996994951,7.2803202507619e-4,9.40815154946573e-4,6.75548927554887e-4,9.02818754221434e-4,0.00161789685144718,0.00146038654195378,0.00161625113042412,0.0016710735912841,0.0014257700094173,0.00166536693672991,0.00214505082976567,0.00135842595896442,0.00214291787254446,0.00250143506612198,0.00206350901999718,0.00302455365476263,0.00301699999909536,0.00314070949625987,0.00319913866868663,0.0028290044102802,0.00329580052465468,0.00356578423329002,0.00302593666970531,0.0033495118196945,0.00419713280117516,0.0048857461295135,0.00483931282533876,0.00407725777782285,0.00499589582684798,0.00558965367843393,0.00678320926818053,0.00665381188213064,0.00838747770742286,0.00743841960869989,0.00795312475541416,0.00897105875539849,0.0100077045808305,0.0104231785111733,0.0129919452676628,0.0144859232279278,0.0179981539255495,0.0250912460817012,0.0346487085799594,0.0550514861827014,0.0854091600844423,0.125161650299333,0.150788527904383,0.148357071964637,0.109782021884174,0.0489435823294613,0.0124730954545318,0.00248056826399433,5.58465277644282e-4,7.89542339938278e-5,2.52075263606428e-5,3.00260526311429e-5,1.62432001576971e-5,1.55686138158011e-5,0,0,0,0,0,1.77924228994011e-4]},{\"_typename\":\"TH1D\",\"fUniqueID\":0,\"fBits\":50332168,\"fName\":\"hRphi_sig_conv\",\"fTitle\":\"Rphi\",\"fLineColor\":624,\"fLineStyle\":1,\"fLineWidth\":2,\"fFillColor\":0,\"fFillStyle\":1001,\"fMarkerColor\":1,\"fMarkerStyle\":1,\"fMarkerSize\":1,\"fNcells\":102,\"fXaxis\":{\"_typename\":\"TAxis\",\"fUniqueID\":0,\"fBits\":50331648,\"fName\":\"xaxis\",\"fTitle\":\"\",\"fNdivisions\":510,\"fAxisColor\":1,\"fLabelColor\":1,\"fLabelFont\":42,\"fLabelOffset\":0.005,\"fLabelSize\":0.035,\"fTickLength\":0.03,\"fTitleOffset\":1,\"fTitleSize\":0.035,\"fTitleColor\":1,\"fTitleFont\":42,\"fNbins\":100,\"fXmin\":0.3,\"fXmax\":1.1,\"fXbins\":[],\"fFirst\":0,\"fLast\":0,\"fBits2\":0,\"fTimeDisplay\":false,\"fTimeFormat\":\"\",\"fLabels\":null,\"fModLabs\":null},\"fYaxis\":{\"_typename\":\"TAxis\",\"fUniqueID\":0,\"fBits\":50331648,\"fName\":\"yaxis\",\"fTitle\":\"\",\"fNdivisions\":510,\"fAxisColor\":1,\"fLabelColor\":1,\"fLabelFont\":42,\"fLabelOffset\":0.005,\"fLabelSize\":0.035,\"fTickLength\":0.03,\"fTitleOffset\":0,\"fTitleSize\":0.035,\"fTitleColor\":1,\"fTitleFont\":42,\"fNbins\":1,\"fXmin\":0,\"fXmax\":1,\"fXbins\":[],\"fFirst\":0,\"fLast\":0,\"fBits2\":0,\"fTimeDisplay\":false,\"fTimeFormat\":\"\",\"fLabels\":null,\"fModLabs\":null},\"fZaxis\":{\"_typename\":\"TAxis\",\"fUniqueID\":0,\"fBits\":50331648,\"fName\":\"zaxis\",\"fTitle\":\"\",\"fNdivisions\":510,\"fAxisColor\":1,\"fLabelColor\":1,\"fLabelFont\":42,\"fLabelOffset\":0.005,\"fLabelSize\":0.035,\"fTickLength\":0.03,\"fTitleOffset\":1,\"fTitleSize\":0.035,\"fTitleColor\":1,\"fTitleFont\":42,\"fNbins\":1,\"fXmin\":0,\"fXmax\":1,\"fXbins\":[],\"fFirst\":0,\"fLast\":0,\"fBits2\":0,\"fTimeDisplay\":false,\"fTimeFormat\":\"\",\"fLabels\":null,\"fModLabs\":null},\"fBarOffset\":0,\"fBarWidth\":1000,\"fEntries\":41696,\"fTsumw\":544939686.862283,\"fTsumw2\":19721409670181.4,\"fTsumwx\":458970619.303955,\"fTsumwx2\":393722162.532144,\"fMaximum\":-1111,\"fMinimum\":-1111,\"fNormFactor\":0,\"fContour\":[],\"fSumw2\":[8.64051674808928e-9,0,1.83551139440113e-8,1.47729592306876e-8,2.20534880111336e-10,0,0,0,0,1.8509871549402e-8,2.71980863867699e-8,1.68671991685851e-8,1.16464168336217e-8,2.23601808619585e-8,8.54908349206149e-10,6.74288230846906e-9,3.70665897973142e-8,2.61594676574104e-8,1.4083589434476e-9,2.50324048279927e-8,5.52882400459216e-8,1.28336082807652e-7,1.57486218218156e-7,3.83752152514629e-8,6.34670067359093e-8,4.40065955595727e-8,1.6249747066619e-7,7.856759208734e-8,1.99850868616469e-7,2.51744988605368e-7,1.85058484394766e-7,1.65756241464142e-7,1.75793569902922e-7,3.96128254400675e-7,2.11790642845473e-7,2.98586098659111e-7,3.20707372770389e-7,4.1701255463548e-7,4.72372979065089e-7,3.33782536293682e-7,4.02742738980265e-7,5.25194679562341e-7,5.33149638157163e-7,5.29101370664269e-7,6.14689489334139e-7,6.98536812283584e-7,5.2098547216422e-7,7.91654689482695e-7,8.99353512766603e-7,8.76078669141957e-7,1.05483040411504e-6,9.25248652474983e-7,1.08177360478776e-6,7.89199544442136e-7,1.104015649457e-6,1.12745246802817e-6,8.31670557418924e-7,1.1743150014042e-6,1.23394897547378e-6,1.4360996590814e-6,1.18523186879116e-6,1.19290849201506e-6,1.19951891433069e-6,1.52095145887097e-6,1.52277855913965e-6,1.34610208722389e-6,1.52242390027532e-6,1.3943599954513e-6,1.68257231267375e-6,1.75604986485093e-6,1.96957439186772e-6,1.74837693608781e-6,1.84862543303578e-6,1.89220180633085e-6,2.00640504608605e-6,1.87591993488596e-6,2.69642169602336e-6,1.84390917242502e-6,2.10384507336777e-6,2.34369576041715e-6,2.07180358504521e-6,1.9474543155901e-6,1.64511530667746e-6,1.50020946366924e-6,1.16795306164872e-6,9.2367918295952e-7,4.92010539219384e-7,2.91193387255737e-7,1.30427155141409e-7,2.86092514431738e-8,1.24480631541431e-8,1.37016535263868e-8,5.72550794081229e-10,0,0,2.66179198404239e-10,0,0,0,0,0,1.60675756257714e-8],\"fOption\":\"\",\"fFunctions\":{\"_typename\":\"TList\",\"name\":\"TList\",\"arr\":[],\"opt\":[]},\"fBufferSize\":0,\"fBuffer\":[],\"fBinStatErrOpt\":0,\"fStatOverflows\":2,\"fArray\":[1.49626476812079e-4,0,1.3548104643828e-4,1.215440629183e-4,1.48504168329154e-5,0,0,0,0,1.47969987330311e-4,2.30755685676793e-4,1.29873781682775e-4,1.07918565750392e-4,1.77272979509325e-4,5.70242478994356e-5,1.27159235633541e-4,3.53449946807491e-4,1.97521312623503e-4,9.90729466184726e-5,2.29649526038889e-4,5.05269091217445e-4,0.00121401764500268,0.00131324415721895,5.24619301575708e-4,7.67454713144413e-4,7.88471945291315e-4,0.00155875423779511,9.83672707483698e-4,0.00214725251427383,0.00257871355497866,0.00231343588450372,0.00207201973712611,0.00225517336165886,0.00379384418230819,0.00272227910896931,0.00302311693127874,0.00383730538720484,0.00482210797429367,0.00534339715589871,0.0044499118320937,0.00499109458446687,0.00617716352279562,0.00637990757528247,0.00646700999871508,0.00703834623123143,0.00819544797801856,0.00676939728055141,0.0091436031601327,0.00965758326374067,0.00940947311345376,0.0112549959854446,0.0105855544744799,0.0120513057683617,0.00996963278562745,0.0123128601761285,0.0130939813638762,0.0103733573091094,0.0136478095209509,0.0140977158735512,0.0162764138969236,0.0142365804265503,0.0148347076638919,0.014749942769753,0.0180283809597526,0.018293327295747,0.0172084172428465,0.0188990863280347,0.0191000361135625,0.0218322216772167,0.0232510283337833,0.0257450537603438,0.0251057800503947,0.0270832573291565,0.0277430319620544,0.0297699058073141,0.0296449573991965,0.0375024542421367,0.0341051064528676,0.0373344821821041,0.0427677728341347,0.0446058983510379,0.0459137037768532,0.0451043286472936,0.0410852059406265,0.0307421423770572,0.0220796430085324,0.0141191492847467,0.00792557959820195,0.00296861956253944,7.83001144699418e-4,2.20921566642432e-4,1.30057574256227e-4,3.36443095661235e-5,0,0,1.63149991849291e-5,0,0,0,0,0,1.26757941075782e-4]},{\"_typename\":\"TLegend\",\"fUniqueID\":0,\"fBits\":50331656,\"fLineColor\":0,\"fLineStyle\":1,\"fLineWidth\":1,\"fFillColor\":0,\"fFillStyle\":3001,\"fX1\":0.429999995976686,\"fY1\":0.0435401869015547,\"fX2\":0.770000001043081,\"fY2\":0.0851012755245088,\"fX1NDC\":0.23,\"fY1NDC\":0.32,\"fX2NDC\":0.57,\"fY2NDC\":0.53,\"fBorderSize\":0,\"fInit\":1,\"fShadowColor\":1,\"fCornerRadius\":0,\"fOption\":\"brNDC\",\"fName\":\"TPave\",\"fTextAngle\":0,\"fTextSize\":0.03,\"fTextAlign\":12,\"fTextColor\":1,\"fTextFont\":42,\"fPrimitives\":{\"_typename\":\"TList\",\"name\":\"TList\",\"arr\":[{\"_typename\":\"TLegendEntry\",\"fUniqueID\":0,\"fBits\":50331656,\"fTextAngle\":0,\"fTextSize\":0,\"fTextAlign\":0,\"fTextColor\":0,\"fTextFont\":42,\"fLineColor\":600,\"fLineStyle\":1,\"fLineWidth\":2,\"fFillColor\":0,\"fFillStyle\":0,\"fMarkerColor\":1,\"fMarkerStyle\":21,\"fMarkerSize\":1,\"fObject\":{\"$ref\":3},\"fLabel\":\"unconv-#gamma\",\"fOption\":\"L\"},{\"_typename\":\"TLegendEntry\",\"fUniqueID\":0,\"fBits\":50331656,\"fTextAngle\":0,\"fTextSize\":0,\"fTextAlign\":0,\"fTextColor\":0,\"fTextFont\":42,\"fLineColor\":624,\"fLineStyle\":1,\"fLineWidth\":2,\"fFillColor\":0,\"fFillStyle\":0,\"fMarkerColor\":1,\"fMarkerStyle\":21,\"fMarkerSize\":1,\"fObject\":{\"$ref\":8},\"fLabel\":\"conv-#gamma\",\"fOption\":\"L\"}],\"opt\":[\"L\",\"L\"]},\"fEntrySeparation\":0.1,\"fMargin\":0.25,\"fNColumns\":1,\"fColumnSeparation\":0},{\"_typename\":\"TPaveText\",\"fUniqueID\":0,\"fBits\":50331657,\"fLineColor\":1,\"fLineStyle\":1,\"fLineWidth\":1,\"fFillColor\":0,\"fFillStyle\":0,\"fX1\":0.650427134939699,\"fY1\":0.165088726250556,\"fX2\":0.749572865060301,\"fY2\":0.177129401276187,\"fX1NDC\":0.450427135678392,\"fY1NDC\":0.934160843929211,\"fX2NDC\":0.549572864321608,\"fY2NDC\":0.995000004768372,\"fBorderSize\":0,\"fInit\":1,\"fShadowColor\":1,\"fCornerRadius\":0,\"fOption\":\"blNDC\",\"fName\":\"title\",\"fTextAngle\":0,\"fTextSize\":0,\"fTextAlign\":22,\"fTextColor\":1,\"fTextFont\":42,\"fLabel\":\"\",\"fLongest\":4,\"fMargin\":0.05,\"fLines\":{\"_typename\":\"TList\",\"name\":\"TList\",\"arr\":[{\"_typename\":\"TLatex\",\"fUniqueID\":0,\"fBits\":50331648,\"fName\":\"\",\"fTitle\":\"Rphi\",\"fTextAngle\":0,\"fTextSize\":0,\"fTextAlign\":0,\"fTextColor\":0,\"fTextFont\":0,\"fX\":0,\"fY\":0,\"fLineColor\":1,\"fLineStyle\":1,\"fLineWidth\":2,\"fLimitFactorSize\":3,\"fOriginSize\":0.0517132878303528}],\"opt\":[\"\"]}}],\"opt\":[\"\",\"hist\",\"hist same\",\"\",\"blNDC\"]},\"fExecs\":null,\"fName\":\"myCanvasName\",\"fTitle\":\"The Canvas Title\",\"fNumPaletteColor\":0,\"fNextPaletteColor\":0,\"fDISPLAY\":\"$DISPLAY\",\"fDoubleBuffer\":0,\"fRetained\":true,\"fXsizeUser\":0,\"fYsizeUser\":0,\"fXsizeReal\":20,\"fYsizeReal\":15,\"fWindowTopX\":0,\"fWindowTopY\":0,\"fWindowWidth\":0,\"fWindowHeight\":0,\"fCw\":796,\"fCh\":572,\"fCatt\":{\"_typename\":\"TAttCanvas\",\"fXBetween\":2,\"fYBetween\":2,\"fTitleFromTop\":1.2,\"fXdate\":0.2,\"fYdate\":0.3,\"fAdate\":1},\"kMoveOpaque\":true,\"kResizeOpaque\":true,\"fHighLightColor\":2,\"fBatch\":true,\"kShowEventStatus\":false,\"kAutoExec\":true,\"kMenuBar\":true});\n",
       "       Core.draw(\"root_plot_5\", obj, \"\");\n",
       "     }\n",
       " );\n",
       "</script>\n"
      ],
      "text/plain": [
       "<IPython.core.display.HTML object>"
      ]
     },
     "metadata": {},
     "output_type": "display_data"
    }
   ],
   "source": [
    "hRphi_sig_unconv = ROOT.TH1D(\"hRphi_sig_unconv\",\"Rphi\",100,0.3,1.1)\n",
    "hRphi_sig_conv = ROOT.TH1D(\"hRphi_sig_conv\",\"Rphi\",100,0.3,1.1)\n",
    "\n",
    "rootnp.fill_hist(hRphi_sig_unconv, df[ (df['class']==1) & (df['y_convType']==0) & (abs(df['y_eta'])<0.6) ]['y_Rphi'].values, df[ (df['class']==1) & (df['y_convType']==0) & (abs(df['y_eta'])<0.6) ]['mcTotWeight'].values)\n",
    "rootnp.fill_hist(hRphi_sig_conv, df[ (df['class']==1) & (df['y_convType']!=0) & (abs(df['y_eta'])<0.6) ]['y_Rphi'].values, df[ (df['class']==1) & (df['y_convType']!=0) & (abs(df['y_eta'])<0.6) ]['mcTotWeight'].values)\n",
    "\n",
    "hRphi_sig_unconv.GetXaxis().SetTitle(\"R_{#phi}\")\n",
    "PlotRootHists([hRphi_sig_unconv,hRphi_sig_conv], ['unconv-#gamma','conv-#gamma'],UnitScale=True)"
   ]
  },
  {
   "cell_type": "markdown",
   "metadata": {},
   "source": [
    "It would be interesting to look at the following distributions:\n",
    "* photon y_eta and y_pt for signal and background, separately for converted and unconverted photons.\n",
    "* all shower shape distributions for signal and background on the same plot, separately for converted and unconverted photons.\n",
    "* how the shower shapes evolve versus photon eta? The following y_eta bins are used: $0-0.6-0.8-1.15-1.37$ and $1.52-1.81-2.01-2.37$ (The crack region is dropped).\n",
    "* how the shower shapes evolve versus photon pt?"
   ]
  },
  {
   "cell_type": "markdown",
   "metadata": {
    "collapsed": true
   },
   "source": [
    "### Plotting functions\n",
    "\n",
    "Let's define a plotting function PlotHists for simplicity"
   ]
  },
  {
   "cell_type": "code",
   "execution_count": 18,
   "metadata": {
    "collapsed": true
   },
   "outputs": [],
   "source": [
    "def PlotHists(nhists, varname, hrange, condlist, leglist, UnitScale=True):\n",
    "    # Inputs:\n",
    "    # - nhists : number of plotted histograms (e.g 1 or 2)\n",
    "    # - varname : name of variable (e.g y_Reta). Should agree with the dataframe\n",
    "    # - hrange : range [xmin, xmax] in which the plotting should be done (e.g. [0.3, 1.1])\n",
    "    # - condlist : conditions for selection of corresponding (e.g (df['class']==1))\n",
    "    # - leglist : list of strings corresponding to and explaining histograms (e.g ['conv', 'unconv'])\n",
    "    # - UnitScale : True by default\n",
    "    \n",
    "    HistsList = []\n",
    "    LegendList = leglist\n",
    "    \n",
    "    for myhist in range(nhists):   ### loop over histograms\n",
    "        \n",
    "        # Create a histogram\n",
    "        HistsList.append( ROOT.TH1D(\"hist\"+str(myhist), varname, 100, hrange[0], hrange[1]) )\n",
    "        \n",
    "        # Fill a histogram\n",
    "        rootnp.fill_hist(HistsList[myhist], df[ condlist[myhist] ][varname].values, \n",
    "                         df[ condlist[myhist] ]['mcTotWeight'].values)\n",
    "        \n",
    "        # Add a title to x-axis\n",
    "        HistsList[myhist].GetXaxis().SetTitle(varname)\n",
    "    \n",
    "    # Plotting\n",
    "    PlotRootHists(HistsList, LegendList, UnitScale)\n",
    "    \n",
    "    # Return to deal with a bug\n",
    "    return HistsList"
   ]
  },
  {
   "cell_type": "markdown",
   "metadata": {},
   "source": [
    "Let's try this function on $R_\\eta$"
   ]
  },
  {
   "cell_type": "code",
   "execution_count": 19,
   "metadata": {},
   "outputs": [
    {
     "data": {
      "text/plain": [
       "[<ROOT.TH1D object (\"hist0\") at 0x5631096543d0>,\n",
       " <ROOT.TH1D object (\"hist1\") at 0x563109625dd0>]"
      ]
     },
     "execution_count": 19,
     "metadata": {},
     "output_type": "execute_result"
    },
    {
     "data": {
      "image/png": "[encoded data removed]",
      "text/plain": [
       "<IPython.core.display.Image object>"
      ]
     },
     "metadata": {},
     "output_type": "display_data"
    }
   ],
   "source": [
    "cond1 = (df['class']==1) & (df['y_convType']==0) & (abs(df['y_eta'])<0.6)\n",
    "cond2 = (df['class']==1) & (df['y_convType']!=0) & (abs(df['y_eta'])<0.6)\n",
    "ROOT.disableJSVis()\n",
    "\n",
    "PlotHists(2, \"y_Reta\", [0.3, 1.1], [cond1, cond2], ['unconv', 'conv'])"
   ]
  },
  {
   "cell_type": "markdown",
   "metadata": {},
   "source": [
    "To make sure that the considered signal photon is actually truth photon, we will use the follwoing requirement:\n",
    "\n",
    "df['y_isTruthMatchedPhoton']==True\n",
    "\n",
    "As one can notice from the plot bellow this requirement changes the shower shapes distributions significantly."
   ]
  },
  {
   "cell_type": "code",
   "execution_count": 20,
   "metadata": {},
   "outputs": [
    {
     "data": {
      "text/plain": [
       "[<ROOT.TH1D object (\"hist0\") at 0x56310965c190>,\n",
       " <ROOT.TH1D object (\"hist1\") at 0x5631096608b0>]"
      ]
     },
     "execution_count": 20,
     "metadata": {},
     "output_type": "execute_result"
    },
    {
     "name": "stderr",
     "output_type": "stream",
     "text": [
      "Warning in <TFile::Append>: Replacing existing TH1: hist0 (Potential memory leak).\n",
      "Warning in <TFile::Append>: Replacing existing TH1: hist1 (Potential memory leak).\n"
     ]
    },
    {
     "data": {
      "image/png": "[encoded data removed]",
      "text/plain": [
       "<IPython.core.display.Image object>"
      ]
     },
     "metadata": {},
     "output_type": "display_data"
    }
   ],
   "source": [
    "cond1 = (df['class']==1) & (df['y_convType']==0) & (abs(df['y_eta'])<0.6) & (df['y_isTruthMatchedPhoton']==True)\n",
    "cond2 = (df['class']==1) & (df['y_convType']==0) & (abs(df['y_eta'])<0.6) \n",
    "\n",
    "PlotHists(2, \"y_Reta\", [0.3, 1.1], [cond1, cond2], ['unconv-truth', 'unconv'])"
   ]
  },
  {
   "cell_type": "markdown",
   "metadata": {},
   "source": [
    "#### Dividing canvas into Pads\n",
    "To simplify workflow and for better comparisons of distributions let's plot several plots on the same canvas. We define several help functions below."
   ]
  },
  {
   "cell_type": "code",
   "execution_count": 21,
   "metadata": {
    "collapsed": true
   },
   "outputs": [],
   "source": [
    "def GetMyPads():\n",
    "    canvas = ROOT.TCanvas(\"mycanvas\",\"The Canvas Title\",1000,500)\n",
    "    canvas.cd()\n",
    "    \n",
    "    pad1 = ROOT.TPad(\"pad1\", \"pad1\", 0, 0, 0.5, 1)\n",
    "    pad2 = ROOT.TPad(\"pad2\", \"pad2\", 0.5, 0, 1, 1)\n",
    "    \n",
    "    pad1.Draw()\n",
    "    pad2.Draw()\n",
    "    \n",
    "    return canvas, pad1, pad2"
   ]
  },
  {
   "cell_type": "code",
   "execution_count": 91,
   "metadata": {
    "collapsed": true
   },
   "outputs": [],
   "source": [
    "# Function to add some text to the plot\n",
    "def addText(x1, y1, x2, y2, mytext, textsize):\n",
    "    pav=ROOT.TPaveText(x1, y1, x2, y2,\"NDC\")\n",
    "    pav.SetFillColor( 0 )  \n",
    "    pav.SetBorderSize( 0 ); \n",
    "    pav.SetTextColor(1);   \n",
    "    pav.SetTextAlign(12);\n",
    "    pav.SetTextFont(42);   \n",
    "    pav.SetTextSize(textsize);\n",
    "    \n",
    "    pav.AddText(mytext)\n",
    "    #pav.Draw()\n",
    "    return pav"
   ]
  },
  {
   "cell_type": "markdown",
   "metadata": {},
   "source": [
    "Here is how it works for Reta:"
   ]
  },
  {
   "cell_type": "code",
   "execution_count": 92,
   "metadata": {},
   "outputs": [
    {
     "name": "stderr",
     "output_type": "stream",
     "text": [
      "Warning in <TCanvas::Constructor>: Deleting canvas with same name: mycanvas\n",
      "Warning in <TFile::Append>: Replacing existing TH1: hist0 (Potential memory leak).\n",
      "Warning in <TFile::Append>: Replacing existing TH1: hist1 (Potential memory leak).\n",
      "Warning in <TFile::Append>: Replacing existing TH1: hist0 (Potential memory leak).\n",
      "Warning in <TFile::Append>: Replacing existing TH1: hist1 (Potential memory leak).\n"
     ]
    },
    {
     "data": {
      "image/png": "[encoded data removed]",
      "text/plain": [
       "<IPython.core.display.Image object>"
      ]
     },
     "metadata": {},
     "output_type": "display_data"
    }
   ],
   "source": [
    "c, pad1, pad2 = GetMyPads() # getting canvas splitted into pads\n",
    "\n",
    "# Left pad: unconverted photons\n",
    "pad1.cd()\n",
    "cond1_unc = (df['class']==1) & (df['y_convType']==0) & (abs(df['y_eta'])<2.4) & (df['y_isTruthMatchedPhoton']==True) # signal\n",
    "cond2_unc = (df['class']==0) & (df['y_convType']==0) & (abs(df['y_eta'])<2.4) & (df['y_isTruthMatchedPhoton']==False) # background\n",
    "HistsList1 = PlotHists(2, \"y_Reta\", [0.3, 1.1], [cond1_unc, cond2_unc], ['signal', 'background'])\n",
    "pav1=addText(0.17,0.82,0.42,0.88, \"Unconverted, |#eta|<2.4\", 0.04)\n",
    "pav1.Draw()\n",
    "\n",
    "#Right pad: converted photons\n",
    "pad2.cd()\n",
    "cond1_conv = (df['class']==1) & (df['y_convType']!=0) & (abs(df['y_eta'])<2.4) & (df['y_isTruthMatchedPhoton']==True) # signal\n",
    "cond2_conv = (df['class']==0) & (df['y_convType']!=0) & (abs(df['y_eta'])<2.4) & (df['y_isTruthMatchedPhoton']==False) # background\n",
    "HistsList2 = PlotHists(2, \"y_Reta\", [0.3, 1.1], [cond1_conv, cond2_conv], ['signal', 'background'])\n",
    "pav2=addText(0.17,0.82,0.42,0.88, \"Converted, |#eta|<2.4\", 0.04)\n",
    "pav2.Draw()\n",
    "\n",
    "c.Draw()"
   ]
  },
  {
   "cell_type": "markdown",
   "metadata": {},
   "source": [
    "And for Rhad we do (note that we can use condition strings and pads defined above to avoid a repetition):"
   ]
  },
  {
   "cell_type": "code",
   "execution_count": 24,
   "metadata": {},
   "outputs": [
    {
     "name": "stderr",
     "output_type": "stream",
     "text": [
      "Warning in <TCanvas::Constructor>: Deleting canvas with same name: mycanvas\n",
      "Warning in <TFile::Append>: Replacing existing TH1: hist0 (Potential memory leak).\n",
      "Warning in <TFile::Append>: Replacing existing TH1: hist1 (Potential memory leak).\n",
      "Warning in <TFile::Append>: Replacing existing TH1: hist0 (Potential memory leak).\n",
      "Warning in <TFile::Append>: Replacing existing TH1: hist1 (Potential memory leak).\n"
     ]
    },
    {
     "data": {
      "image/png": "[encoded data removed]",
      "text/plain": [
       "<IPython.core.display.Image object>"
      ]
     },
     "metadata": {},
     "output_type": "display_data"
    }
   ],
   "source": [
    "c, pad1, pad2 = GetMyPads() # getting canvas splitted into pads\n",
    "\n",
    "# Left pad: unconverted photons\n",
    "pad1.cd()\n",
    "HistsList1 = PlotHists(2, \"y_Rhad\", [-0.1, 0.6], [cond1_unc, cond2_unc], ['signal', 'background'])\n",
    "pav1.Draw()\n",
    "\n",
    "#Right pad: converted photons\n",
    "pad2.cd()\n",
    "HistsList2 = PlotHists(2, \"y_Rhad\", [-0.1, 0.6], [cond1_conv, cond2_conv], ['signal', 'background'])\n",
    "pav2.Draw()\n",
    "\n",
    "c.Draw()"
   ]
  },
  {
   "cell_type": "code",
   "execution_count": null,
   "metadata": {
    "collapsed": true
   },
   "outputs": [],
   "source": []
  },
  {
   "cell_type": "code",
   "execution_count": null,
   "metadata": {
    "collapsed": true
   },
   "outputs": [],
   "source": []
  },
  {
   "cell_type": "code",
   "execution_count": null,
   "metadata": {
    "collapsed": true
   },
   "outputs": [],
   "source": []
  },
  {
   "cell_type": "markdown",
   "metadata": {},
   "source": [
    "#### The distributions in bins of $|\\eta|$ \n",
    "We consider 7 bins following variations of calorimeter granularity and amount of material in front of calorimeter:\n",
    "$0-0.6-0.8-1.15-1.37$ and $1.52-1.81-2.01-2.37$.\n",
    "\n",
    "We will need to plot the distributions for different eta on the same canvas."
   ]
  },
  {
   "cell_type": "code",
   "execution_count": 76,
   "metadata": {
    "collapsed": true
   },
   "outputs": [],
   "source": [
    "def GetMyPadsStacked(nstacks):\n",
    "    cy = nstacks*200\n",
    "    cx = 2*500\n",
    "    canvas = ROOT.TCanvas(\"mycanvas\",\"The Canvas Title\", cx, cy)\n",
    "    canvas.cd()\n",
    "    pads = []\n",
    "    \n",
    "    for i in range(nstacks):\n",
    "        xlow1, ylow1, xup1, yup1 = 0,   float(i)/nstacks,  0.5, float(i+1)/nstacks\n",
    "        xlow2, ylow2, xup2, yup2 = 0.5, float(i)/nstacks,  1,   float(i+1)/nstacks\n",
    "        \n",
    "        pad1 = ROOT.TPad(\"pad\"+str(i)+'a', \"pad1\", xlow1, ylow1, xup1, yup1)\n",
    "        pad2 = ROOT.TPad(\"pad\"+str(i)+'b', \"pad2\", xlow2, ylow2, xup2, yup2)\n",
    "    \n",
    "        pad1.Draw()\n",
    "        pad2.Draw()\n",
    "        \n",
    "        pads.append(pad1)\n",
    "        pads.append(pad2)\n",
    "    \n",
    "    return canvas, pads"
   ]
  },
  {
   "cell_type": "code",
   "execution_count": 73,
   "metadata": {
    "collapsed": true
   },
   "outputs": [],
   "source": [
    "def setPadMargins(pad, mleft, mright, mbottom, mup):\n",
    "    pad.SetTopMargin(mup)\n",
    "    pad.SetBottomMargin(mbottom)\n",
    "    pad.SetLeftMargin(mleft)\n",
    "    pad.SetRightMargin(mright)\n",
    "    \n",
    "    return pad"
   ]
  },
  {
   "cell_type": "code",
   "execution_count": 78,
   "metadata": {
    "collapsed": true
   },
   "outputs": [],
   "source": [
    "def prepareHist(hist):\n",
    "    hist.SetTitle(\"\")\n",
    "    hist.GetXaxis().SetTitleSize(0.072)\n",
    "    hist.GetXaxis().SetTitleOffset(0.8)\n",
    "    hist.GetXaxis().SetLabelSize(0.072)\n",
    "    hist.GetYaxis().SetLabelSize(0)\n",
    "    \n",
    "    return hist"
   ]
  },
  {
   "cell_type": "code",
   "execution_count": 111,
   "metadata": {},
   "outputs": [
    {
     "name": "stderr",
     "output_type": "stream",
     "text": [
      "Warning in <TCanvas::Constructor>: Deleting canvas with same name: mycanvas\n",
      "Warning in <TFile::Append>: Replacing existing TH1: hist0 (Potential memory leak).\n",
      "Warning in <TFile::Append>: Replacing existing TH1: hist1 (Potential memory leak).\n",
      "Warning in <TFile::Append>: Replacing existing TH1: hist0 (Potential memory leak).\n",
      "Warning in <TFile::Append>: Replacing existing TH1: hist1 (Potential memory leak).\n",
      "Warning in <TFile::Append>: Replacing existing TH1: hist0 (Potential memory leak).\n",
      "Warning in <TFile::Append>: Replacing existing TH1: hist1 (Potential memory leak).\n",
      "Warning in <TFile::Append>: Replacing existing TH1: hist0 (Potential memory leak).\n",
      "Warning in <TFile::Append>: Replacing existing TH1: hist1 (Potential memory leak).\n",
      "Warning in <TFile::Append>: Replacing existing TH1: hist0 (Potential memory leak).\n",
      "Warning in <TFile::Append>: Replacing existing TH1: hist1 (Potential memory leak).\n",
      "Warning in <TFile::Append>: Replacing existing TH1: hist0 (Potential memory leak).\n",
      "Warning in <TFile::Append>: Replacing existing TH1: hist1 (Potential memory leak).\n",
      "Warning in <TFile::Append>: Replacing existing TH1: hist0 (Potential memory leak).\n",
      "Warning in <TFile::Append>: Replacing existing TH1: hist1 (Potential memory leak).\n",
      "Warning in <TFile::Append>: Replacing existing TH1: hist0 (Potential memory leak).\n",
      "Warning in <TFile::Append>: Replacing existing TH1: hist1 (Potential memory leak).\n"
     ]
    },
    {
     "data": {
      "image/png": "[encoded data removed]",
      "text/plain": [
       "<IPython.core.display.Image object>"
      ]
     },
     "metadata": {},
     "output_type": "display_data"
    }
   ],
   "source": [
    "c, pads = GetMyPadsStacked(4) # getting canvas splitted into pads\n",
    "\n",
    "# Left pad: unconverted photons\n",
    "pads[0].cd()\n",
    "pads[0] = setPadMargins(pads[0], 0.05, 0.05, 0.12, 0)\n",
    "cond1_eta1_unc = (df['class']==1) & (df['y_convType']==0) & (abs(df['y_eta'])<0.6) & (df['y_isTruthMatchedPhoton']==True) # signal\n",
    "cond2_eta1_unc = (df['class']==0) & (df['y_convType']==0) & (abs(df['y_eta'])<0.6) & (df['y_isTruthMatchedPhoton']==False) # background\n",
    "HistsList1 = PlotHists(2, \"y_Rhad\", [-0.1, 0.4], [cond1_eta1_unc, cond2_eta1_unc], None)\n",
    "HistsList1[0] = prepareHist(HistsList1[0])\n",
    "pav1=addText(0.37,0.32,0.92,0.48, \"Unconverted, |#eta|<0.6\", 0.10)\n",
    "pav1.Draw()\n",
    "\n",
    "#Right pad: converted photons\n",
    "pads[1].cd()\n",
    "pads[1] = setPadMargins(pads[1], 0.05, 0.05, 0.12, 0)\n",
    "cond1_eta1_conv = (df['class']==1) & (df['y_convType']!=0) & (abs(df['y_eta'])<0.6) & (df['y_isTruthMatchedPhoton']==True) # signal\n",
    "cond2_eta1_conv = (df['class']==0) & (df['y_convType']!=0) & (abs(df['y_eta'])<0.6) & (df['y_isTruthMatchedPhoton']==False) # background\n",
    "HistsList2 = PlotHists(2, \"y_Rhad\", [-0.1, 0.4], [cond1_eta1_conv, cond2_eta1_conv], None)\n",
    "HistsList2[0] = prepareHist(HistsList2[0])\n",
    "pav2=addText(0.37,0.32,0.92,0.48, \"Converted, |#eta|<0.6\", 0.10)\n",
    "pav2.Draw()\n",
    "\n",
    "# Left pad: unconverted photons\n",
    "pads[2].cd()\n",
    "pads[2] = setPadMargins(pads[2], 0.05, 0.05, 0, 0)\n",
    "cond1_eta2_unc = (df['class']==1) & (df['y_convType']==0) & (abs(df['y_eta'])>0.6) & (abs(df['y_eta'])<0.8) & (df['y_isTruthMatchedPhoton']==True) # signal\n",
    "cond2_eta2_unc = (df['class']==0) & (df['y_convType']==0) & (abs(df['y_eta'])>0.6) & (abs(df['y_eta'])<0.8) & (df['y_isTruthMatchedPhoton']==False) # background\n",
    "HistsList3 = PlotHists(2, \"y_Rhad\", [-0.1, 0.4], [cond1_eta2_unc, cond2_eta2_unc], None)\n",
    "HistsList3[0] = prepareHist(HistsList3[0])\n",
    "pav3=addText(0.37,0.32,0.92,0.48, \"Unconverted, 0.6<|#eta|<0.8\", 0.10)\n",
    "pav3.Draw()\n",
    "\n",
    "#Right pad: converted photons\n",
    "pads[3].cd()\n",
    "pads[3] = setPadMargins(pads[3], 0.05, 0.05, 0, 0)\n",
    "cond1_eta2_conv = (df['class']==1) & (df['y_convType']!=0) & (abs(df['y_eta'])>0.6) & (abs(df['y_eta'])<0.8) & (df['y_isTruthMatchedPhoton']==True) # signal\n",
    "cond2_eta2_conv = (df['class']==0) & (df['y_convType']!=0) & (abs(df['y_eta'])>0.6) & (abs(df['y_eta'])<0.8) & (df['y_isTruthMatchedPhoton']==False) # background\n",
    "HistsList4 = PlotHists(2, \"y_Rhad\", [-0.1, 0.4], [cond1_eta2_conv, cond2_eta2_conv], None)\n",
    "HistsList4[0] = prepareHist(HistsList4[0])\n",
    "pav4=addText(0.37,0.32,0.92,0.48, \"Converted, 0.6<|#eta|<0.8\", 0.10)\n",
    "pav4.Draw()\n",
    "\n",
    "# Left pad: unconverted photons\n",
    "pads[4].cd()\n",
    "pads[4] = setPadMargins(pads[4], 0.05, 0.05, 0, 0)\n",
    "cond1_eta3_unc = (df['class']==1) & (df['y_convType']==0) & (abs(df['y_eta'])>0.8) & (abs(df['y_eta'])<1.15) & (df['y_isTruthMatchedPhoton']==True) # signal\n",
    "cond2_eta3_unc = (df['class']==0) & (df['y_convType']==0) & (abs(df['y_eta'])>0.8) & (abs(df['y_eta'])<1.15) & (df['y_isTruthMatchedPhoton']==False) # background\n",
    "HistsList5 = PlotHists(2, \"y_Rhad\", [-0.1, 0.4], [cond1_eta3_unc, cond2_eta3_unc], None)\n",
    "HistsList5[0] = prepareHist(HistsList5[0])\n",
    "pav5=addText(0.37,0.32,0.92,0.48, \"Unconverted, 0.8<|#eta|<1.15\", 0.10)\n",
    "pav5.Draw()\n",
    "\n",
    "#Right pad: converted photons\n",
    "pads[5].cd()\n",
    "pads[5] = setPadMargins(pads[5], 0.05, 0.05, 0, 0)\n",
    "cond1_eta3_conv = (df['class']==1) & (df['y_convType']!=0) & (abs(df['y_eta'])>0.8) & (abs(df['y_eta'])<1.15) & (df['y_isTruthMatchedPhoton']==True) # signal\n",
    "cond2_eta3_conv = (df['class']==0) & (df['y_convType']!=0) & (abs(df['y_eta'])>0.8) & (abs(df['y_eta'])<1.15) & (df['y_isTruthMatchedPhoton']==False) # background\n",
    "HistsList6 = PlotHists(2, \"y_Rhad\", [-0.1, 0.4], [cond1_eta3_conv, cond2_eta3_conv], None)\n",
    "HistsList6[0] = prepareHist(HistsList6[0])\n",
    "pav6=addText(0.37,0.32,0.92,0.48, \"Converted, 0.8<|#eta|<1.15\", 0.10)\n",
    "pav6.Draw()\n",
    "\n",
    "\n",
    "# Left pad: unconverted photons\n",
    "pads[6].cd()\n",
    "pads[6] = setPadMargins(pads[6], 0.05, 0.05, 0, 0)\n",
    "cond1_eta4_unc = (df['class']==1) & (df['y_convType']==0) & (abs(df['y_eta'])>1.15) & (abs(df['y_eta'])<1.37) & (df['y_isTruthMatchedPhoton']==True) # signal\n",
    "cond2_eta4_unc = (df['class']==0) & (df['y_convType']==0) & (abs(df['y_eta'])>1.15) & (abs(df['y_eta'])<1.37) & (df['y_isTruthMatchedPhoton']==False) # background\n",
    "HistsList7 = PlotHists(2, \"y_Rhad\", [-0.1, 0.4], [cond1_eta4_unc, cond2_eta4_unc], None)\n",
    "HistsList7[0] = prepareHist(HistsList7[0])\n",
    "pav7=addText(0.37,0.32,0.92,0.48, \"Unconverted, 1.15<|#eta|<1.37\", 0.10)\n",
    "pav7.Draw()\n",
    "\n",
    "#Right pad: converted photons\n",
    "pads[7].cd()\n",
    "pads[7] = setPadMargins(pads[7], 0.05, 0.05, 0, 0)\n",
    "cond1_eta4_conv = (df['class']==1) & (df['y_convType']!=0) & (abs(df['y_eta'])>1.15) & (abs(df['y_eta'])<1.37) & (df['y_isTruthMatchedPhoton']==True) # signal\n",
    "cond2_eta4_conv = (df['class']==0) & (df['y_convType']!=0) & (abs(df['y_eta'])>1.15) & (abs(df['y_eta'])<1.37) & (df['y_isTruthMatchedPhoton']==False) # background\n",
    "HistsList8 = PlotHists(2, \"y_Rhad\", [-0.1, 0.4], [cond1_eta4_conv, cond2_eta4_conv], None)\n",
    "HistsList8[0] = prepareHist(HistsList8[0])\n",
    "pav8=addText(0.37,0.32,0.92,0.48, \"Converted, 1.15<|#eta|<1.37\", 0.10)\n",
    "pav8.Draw()\n",
    "\n",
    "\n",
    "c.Draw()"
   ]
  },
  {
   "cell_type": "code",
   "execution_count": 141,
   "metadata": {},
   "outputs": [
    {
     "name": "stderr",
     "output_type": "stream",
     "text": [
      "Warning in <TCanvas::Constructor>: Deleting canvas with same name: mycanvas\n",
      "Warning in <TFile::Append>: Replacing existing TH1: hist0 (Potential memory leak).\n",
      "Warning in <TFile::Append>: Replacing existing TH1: hist1 (Potential memory leak).\n",
      "Warning in <TFile::Append>: Replacing existing TH1: hist0 (Potential memory leak).\n",
      "Warning in <TFile::Append>: Replacing existing TH1: hist1 (Potential memory leak).\n",
      "Warning in <TFile::Append>: Replacing existing TH1: hist0 (Potential memory leak).\n",
      "Warning in <TFile::Append>: Replacing existing TH1: hist1 (Potential memory leak).\n",
      "Warning in <TFile::Append>: Replacing existing TH1: hist0 (Potential memory leak).\n",
      "Warning in <TFile::Append>: Replacing existing TH1: hist1 (Potential memory leak).\n",
      "Warning in <TFile::Append>: Replacing existing TH1: hist0 (Potential memory leak).\n",
      "Warning in <TFile::Append>: Replacing existing TH1: hist1 (Potential memory leak).\n",
      "Warning in <TFile::Append>: Replacing existing TH1: hist0 (Potential memory leak).\n",
      "Warning in <TFile::Append>: Replacing existing TH1: hist1 (Potential memory leak).\n",
      "Warning in <TFile::Append>: Replacing existing TH1: hist0 (Potential memory leak).\n",
      "Warning in <TFile::Append>: Replacing existing TH1: hist1 (Potential memory leak).\n",
      "Warning in <TFile::Append>: Replacing existing TH1: hist0 (Potential memory leak).\n",
      "Warning in <TFile::Append>: Replacing existing TH1: hist1 (Potential memory leak).\n",
      "Warning in <TFile::Append>: Replacing existing TH1: hist0 (Potential memory leak).\n",
      "Warning in <TFile::Append>: Replacing existing TH1: hist1 (Potential memory leak).\n",
      "Warning in <TFile::Append>: Replacing existing TH1: hist0 (Potential memory leak).\n",
      "Warning in <TFile::Append>: Replacing existing TH1: hist1 (Potential memory leak).\n",
      "Warning in <TFile::Append>: Replacing existing TH1: hist0 (Potential memory leak).\n",
      "Warning in <TFile::Append>: Replacing existing TH1: hist1 (Potential memory leak).\n",
      "Warning in <TFile::Append>: Replacing existing TH1: hist0 (Potential memory leak).\n",
      "Warning in <TFile::Append>: Replacing existing TH1: hist1 (Potential memory leak).\n",
      "Warning in <TFile::Append>: Replacing existing TH1: hist0 (Potential memory leak).\n",
      "Warning in <TFile::Append>: Replacing existing TH1: hist1 (Potential memory leak).\n",
      "Warning in <TFile::Append>: Replacing existing TH1: hist0 (Potential memory leak).\n",
      "Warning in <TFile::Append>: Replacing existing TH1: hist1 (Potential memory leak).\n",
      "Warning in <TFile::Append>: Replacing existing TH1: hist0 (Potential memory leak).\n",
      "Warning in <TFile::Append>: Replacing existing TH1: hist1 (Potential memory leak).\n"
     ]
    },
    {
     "data": {
      "image/png": "[encoded data removed]",
      "text/plain": [
       "<IPython.core.display.Image object>"
      ]
     },
     "metadata": {},
     "output_type": "display_data"
    }
   ],
   "source": [
    "nstacks = 8\n",
    "c, pads = GetMyPadsStacked(nstacks) # getting canvas splitted into pads\n",
    "\n",
    "condition_unc_sig = (df['class']==1) & (df['y_isTruthMatchedPhoton']==True) & (df['y_convType']==0)\n",
    "condition_unc_bkg = (df['class']==0) & (df['y_isTruthMatchedPhoton']==False) & (df['y_convType']==0)\n",
    "condition_conv_sig = (df['class']==1) & (df['y_isTruthMatchedPhoton']==True) & (df['y_convType']!=0)\n",
    "condition_conv_bkg = (df['class']==0) & (df['y_isTruthMatchedPhoton']==False) & (df['y_convType']!=0)\n",
    "\n",
    "xmin, xmax = -0.1, 0.4\n",
    "myVar = \"y_Rhad\"\n",
    "\n",
    "#print condition_unc_sig\n",
    "\n",
    "#print df[(condition_unc_sig) & (abs(df['y_eta'])<0.6)]\n",
    "\n",
    "etabins = [0, 0.6, 0.8, 1.15, 1.37, 1.52, 1.81, 2.01, 2.37]\n",
    "\n",
    "HistsList1=[]\n",
    "HistsList2=[]\n",
    "\n",
    "pav1 = []\n",
    "pav2 = []\n",
    "\n",
    "for istack in range(nstacks):\n",
    "    pads[2*istack].cd()\n",
    "    if(istack==0):\n",
    "        pads[2*istack] = setPadMargins(pads[2*istack], 0.05, 0.05, 0.12, 0)\n",
    "    else:\n",
    "        pads[2*istack] = setPadMargins(pads[2*istack], 0.05, 0.05, 0.0,  0)\n",
    "        \n",
    "    cond1_unc = (abs(df['y_eta'])>etabins[istack]) & (abs(df['y_eta'])<etabins[istack+1]) & (condition_unc_sig)\n",
    "    cond2_unc = (abs(df['y_eta'])>etabins[istack]) & (abs(df['y_eta'])<etabins[istack+1]) & (condition_unc_bkg)\n",
    "    \n",
    "    HistsList1.append( PlotHists(2, myVar, [xmin, xmax], [cond1_unc, cond2_unc], None) )\n",
    "    HistsList1[istack][0] = prepareHist(HistsList1[istack][0])\n",
    "    \n",
    "    pav1.append(addText(0.37,0.32,0.92,0.48, \"Unconverted, \"+str(etabins[istack])+\"<|#eta|<\"+str(etabins[istack+1]), 0.10))\n",
    "    pav1[istack].Draw()\n",
    "    \n",
    "    #Right Pad: Converted photons\n",
    "    pads[2*istack+1].cd()\n",
    "    if(istack==0):\n",
    "        pads[2*istack+1] = setPadMargins(pads[2*istack+1], 0.05, 0.05, 0.12, 0)\n",
    "    else:\n",
    "        pads[2*istack+1] = setPadMargins(pads[2*istack+1], 0.05, 0.05, 0.0,  0)\n",
    "        \n",
    "    cond1_unc = (abs(df['y_eta'])>etabins[istack]) & (abs(df['y_eta'])<etabins[istack+1]) & (condition_conv_sig)\n",
    "    cond2_unc = (abs(df['y_eta'])>etabins[istack]) & (abs(df['y_eta'])<etabins[istack+1]) & (condition_conv_bkg)\n",
    "    \n",
    "    HistsList2.append( PlotHists(2, myVar, [xmin, xmax], [cond1_unc, cond2_unc], None) )\n",
    "    HistsList2[istack][0] = prepareHist(HistsList2[istack][0])\n",
    "    \n",
    "    pav2.append(addText(0.37,0.32,0.92,0.48, \"Converted, \"+str(etabins[istack])+\"<|#eta|<\"+str(etabins[istack+1]), 0.10))\n",
    "    pav2[istack].Draw()\n",
    "\n"
   ]
  },
  {
   "cell_type": "code",
   "execution_count": 140,
   "metadata": {},
   "outputs": [
    {
     "name": "stderr",
     "output_type": "stream",
     "text": [
      "Warning in <TCanvas::Constructor>: Deleting canvas with same name: mycanvas\n",
      "Warning in <TFile::Append>: Replacing existing TH1: hist0 (Potential memory leak).\n",
      "Warning in <TFile::Append>: Replacing existing TH1: hist1 (Potential memory leak).\n",
      "Warning in <TFile::Append>: Replacing existing TH1: hist0 (Potential memory leak).\n",
      "Warning in <TFile::Append>: Replacing existing TH1: hist1 (Potential memory leak).\n",
      "Warning in <TFile::Append>: Replacing existing TH1: hist0 (Potential memory leak).\n",
      "Warning in <TFile::Append>: Replacing existing TH1: hist1 (Potential memory leak).\n",
      "Warning in <TFile::Append>: Replacing existing TH1: hist0 (Potential memory leak).\n",
      "Warning in <TFile::Append>: Replacing existing TH1: hist1 (Potential memory leak).\n",
      "Warning in <TFile::Append>: Replacing existing TH1: hist0 (Potential memory leak).\n",
      "Warning in <TFile::Append>: Replacing existing TH1: hist1 (Potential memory leak).\n",
      "Warning in <TFile::Append>: Replacing existing TH1: hist0 (Potential memory leak).\n",
      "Warning in <TFile::Append>: Replacing existing TH1: hist1 (Potential memory leak).\n",
      "Warning in <TFile::Append>: Replacing existing TH1: hist0 (Potential memory leak).\n",
      "Warning in <TFile::Append>: Replacing existing TH1: hist1 (Potential memory leak).\n",
      "Warning in <TFile::Append>: Replacing existing TH1: hist0 (Potential memory leak).\n",
      "Warning in <TFile::Append>: Replacing existing TH1: hist1 (Potential memory leak).\n",
      "Warning in <TFile::Append>: Replacing existing TH1: hist0 (Potential memory leak).\n",
      "Warning in <TFile::Append>: Replacing existing TH1: hist1 (Potential memory leak).\n",
      "Warning in <TFile::Append>: Replacing existing TH1: hist0 (Potential memory leak).\n",
      "Warning in <TFile::Append>: Replacing existing TH1: hist1 (Potential memory leak).\n",
      "Warning in <TFile::Append>: Replacing existing TH1: hist0 (Potential memory leak).\n",
      "Warning in <TFile::Append>: Replacing existing TH1: hist1 (Potential memory leak).\n",
      "Warning in <TFile::Append>: Replacing existing TH1: hist0 (Potential memory leak).\n",
      "Warning in <TFile::Append>: Replacing existing TH1: hist1 (Potential memory leak).\n",
      "Warning in <TFile::Append>: Replacing existing TH1: hist0 (Potential memory leak).\n",
      "Warning in <TFile::Append>: Replacing existing TH1: hist1 (Potential memory leak).\n",
      "Warning in <TFile::Append>: Replacing existing TH1: hist0 (Potential memory leak).\n",
      "Warning in <TFile::Append>: Replacing existing TH1: hist1 (Potential memory leak).\n",
      "Warning in <TFile::Append>: Replacing existing TH1: hist0 (Potential memory leak).\n",
      "Warning in <TFile::Append>: Replacing existing TH1: hist1 (Potential memory leak).\n"
     ]
    },
    {
     "data": {
      "image/png": "[encoded data removed]",
      "text/plain": [
       "<IPython.core.display.Image object>"
      ]
     },
     "metadata": {},
     "output_type": "display_data"
    }
   ],
   "source": [
    "nstacks = 8\n",
    "c, pads = GetMyPadsStacked(nstacks) # getting canvas splitted into pads\n",
    "\n",
    "condition_unc_sig = (df['class']==1) & (df['y_isTruthMatchedPhoton']==True) & (df['y_convType']==0)\n",
    "condition_unc_bkg = (df['class']==0) & (df['y_isTruthMatchedPhoton']==False) & (df['y_convType']==0)\n",
    "condition_conv_sig = (df['class']==1) & (df['y_isTruthMatchedPhoton']==True) & (df['y_convType']!=0)\n",
    "condition_conv_bkg = (df['class']==0) & (df['y_isTruthMatchedPhoton']==False) & (df['y_convType']!=0)\n",
    "\n",
    "xmin, xmax = 0.5, 5.4\n",
    "myVar = \"y_wtots1\"\n",
    "\n",
    "#print condition_unc_sig\n",
    "\n",
    "etabins = [0, 0.6, 0.8, 1.15, 1.37, 1.52, 1.81, 2.01, 2.37]\n",
    "\n",
    "HistsList1=[]\n",
    "HistsList2=[]\n",
    "\n",
    "pav1 = []\n",
    "pav2 = []\n",
    "\n",
    "for istack in range(nstacks):\n",
    "    pads[2*istack].cd()\n",
    "    if(istack==0):\n",
    "        pads[2*istack] = setPadMargins(pads[2*istack], 0.05, 0.05, 0.12, 0)\n",
    "    else:\n",
    "        pads[2*istack] = setPadMargins(pads[2*istack], 0.05, 0.05, 0.0,  0)\n",
    "        \n",
    "    cond1_unc = (abs(df['y_eta'])>etabins[istack]) & (abs(df['y_eta'])<etabins[istack+1]) & (condition_unc_sig)\n",
    "    cond2_unc = (abs(df['y_eta'])>etabins[istack]) & (abs(df['y_eta'])<etabins[istack+1]) & (condition_unc_bkg)\n",
    "    \n",
    "    HistsList1.append( PlotHists(2, myVar, [xmin, xmax], [cond1_unc, cond2_unc], None) )\n",
    "    HistsList1[istack][0] = prepareHist(HistsList1[istack][0])\n",
    "    \n",
    "    pav1.append(addText(0.37,0.32,0.92,0.48, \"Unconverted, \"+str(etabins[istack])+\"<|#eta|<\"+str(etabins[istack+1]), 0.10))\n",
    "    pav1[istack].Draw()\n",
    "    \n",
    "    #Right Pad: Converted photons\n",
    "    pads[2*istack+1].cd()\n",
    "    if(istack==0):\n",
    "        pads[2*istack+1] = setPadMargins(pads[2*istack+1], 0.05, 0.05, 0.12, 0)\n",
    "    else:\n",
    "        pads[2*istack+1] = setPadMargins(pads[2*istack+1], 0.05, 0.05, 0.0,  0)\n",
    "        \n",
    "    cond1_unc = (abs(df['y_eta'])>etabins[istack]) & (abs(df['y_eta'])<etabins[istack+1]) & (condition_conv_sig)\n",
    "    cond2_unc = (abs(df['y_eta'])>etabins[istack]) & (abs(df['y_eta'])<etabins[istack+1]) & (condition_conv_bkg)\n",
    "    \n",
    "    HistsList2.append( PlotHists(2, myVar, [xmin, xmax], [cond1_unc, cond2_unc], None) )\n",
    "    HistsList2[istack][0] = prepareHist(HistsList2[istack][0])\n",
    "    \n",
    "    pav2.append(addText(0.37,0.32,0.92,0.48, \"Converted, \"+str(etabins[istack])+\"<|#eta|<\"+str(etabins[istack+1]), 0.10))\n",
    "    pav2[istack].Draw()\n",
    "\n"
   ]
  },
  {
   "cell_type": "code",
   "execution_count": null,
   "metadata": {
    "collapsed": true
   },
   "outputs": [],
   "source": []
  },
  {
   "cell_type": "code",
   "execution_count": null,
   "metadata": {
    "collapsed": true
   },
   "outputs": [],
   "source": []
  }
 ],
 "metadata": {
  "kernelspec": {
   "display_name": "Python 3",
   "language": "python",
   "name": "python3"
  },
  "language_info": {
   "codemirror_mode": {
    "name": "ipython",
    "version": 3
   },
   "file_extension": ".py",
   "mimetype": "text/x-python",
   "name": "python",
   "nbconvert_exporter": "python",
   "pygments_lexer": "ipython3",
   "version": "3.7.3"
  }
 },
 "nbformat": 4,
 "nbformat_minor": 1
}
